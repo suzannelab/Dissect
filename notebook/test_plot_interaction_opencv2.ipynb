{
 "cells": [
  {
   "cell_type": "code",
   "execution_count": null,
   "metadata": {},
   "outputs": [],
   "source": [
    "## Test plot interaction\n",
    "\n",
    "import cv2\n",
    "import numpy as np\n",
    "from Dissects.io import (load_NDskl, \n",
    "                         load_image)\n",
    "\n",
    "# image = cv2.imread(\"../Dissects/stores/2d_images.tif\", cv2.IMREAD_COLOR)\n",
    "image, metadata = load_image(\"../Dissects/stores/2d_images.tif\")\n",
    "\n",
    "data = load_skeleton('2d_skeleton.hf5')\n",
    "skel = Skeleton(data['critical_point'], data['filament'], data['point'])\n",
    "\n",
    "skel.specs = {'bbox_delta':np.array([576,337]),\n",
    "             'ndims':2}\n",
    "\n",
    "mask = skel.create_binary_image()\n",
    "mask2 = (mask * 255).astype(np.float32)\n",
    "img = cv2.cvtColor(mask2, cv2.COLOR_GRAY2RGB)\n",
    "\n",
    "cv2.namedWindow('image')\n",
    "\n",
    "#Mouse callbask function\n",
    "def mouse_drawing(event, x, y, flags, params):\n",
    "    global line\n",
    "    if event == cv2.EVENT_LBUTTONDOWN:\n",
    "        print(\"first click\")\n",
    "        line = []\n",
    "        line.append((x,y))\n",
    "        print(x, y)\n",
    "    if event == cv2.EVENT_LBUTTONUP : \n",
    "        print('second_click')\n",
    "        line.append((x,y))\n",
    "        print(x,y)\n",
    "        print(line[0], line[1])       \n",
    "        cv2.line(img, line[0], line[1], (255,0,0), 1)\n",
    "    \n",
    "# bind the callbak function to window\n",
    "cv2.setMouseCallback('image', mouse_drawing)\n",
    "\n",
    "while(True):\n",
    "    cv2.imshow('image', img)\n",
    "    if cv2.waitKey(20) == 27:\n",
    "        break\n",
    "        \n",
    "cv2.destroyAllWindows()"
   ]
  }
 ],
 "metadata": {
  "kernelspec": {
   "display_name": "Python 3",
   "language": "python",
   "name": "python3"
  },
  "language_info": {
   "codemirror_mode": {
    "name": "ipython",
    "version": 3
   },
   "file_extension": ".py",
   "mimetype": "text/x-python",
   "name": "python",
   "nbconvert_exporter": "python",
   "pygments_lexer": "ipython3",
   "version": "3.7.6"
  }
 },
 "nbformat": 4,
 "nbformat_minor": 4
}

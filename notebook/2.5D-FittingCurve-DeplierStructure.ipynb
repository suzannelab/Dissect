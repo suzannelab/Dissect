{
 "cells": [
  {
   "cell_type": "code",
   "execution_count": null,
   "metadata": {},
   "outputs": [],
   "source": [
    "from Dissects.io import (load_NDskl, \n",
    "                         load_image,\n",
    "                         load_skeleton,\n",
    "                         save_skeleton,\n",
    "                         save_fits\n",
    "                        )\n",
    "from Dissects.image import (z_project,\n",
    "                            thinning,\n",
    "                            dilation)\n",
    "from Dissects.geometry import Skeleton\n",
    "from Dissects.segmentation.seg_2D import (segmentation, \n",
    "                                          junction_around_cell,\n",
    "                                         vertices,\n",
    "                                         junctions,\n",
    "                                         generate_mesh)\n",
    "from Dissects.segmentation.seg_3D_apical import (flatten_tissu,\n",
    "                                                 binary_flatten_tissu,\n",
    "                                                 generate_mesh_3D)\n",
    "\n",
    "from Dissects.analysis.analysis import (general_analysis,\n",
    "                              cellstats\n",
    "                              )\n",
    "from skimage import morphology"
   ]
  },
  {
   "cell_type": "code",
   "execution_count": null,
   "metadata": {},
   "outputs": [],
   "source": [
    "import os\n",
    "from skimage import io\n",
    "import numpy as np\n",
    "import pandas as pd\n",
    "import copy\n",
    "import sys\n",
    "import matplotlib.pyplot as plt\n",
    "sys.setrecursionlimit(10000)\n",
    "\n",
    "import plotly.express as px\n",
    "\n",
    "from scipy.ndimage.morphology import (binary_fill_holes,\n",
    "                                      binary_dilation,\n",
    "                                     )\n",
    "from scipy import ndimage\n",
    "# %matplotlib notebook\n",
    "%load_ext snakeviz"
   ]
  },
  {
   "cell_type": "code",
   "execution_count": null,
   "metadata": {},
   "outputs": [],
   "source": [
    "directory='/media/admin-suz/Datas/testCellSeg/Test1/'\n",
    "\n",
    "cp, fil, point, specs = load_NDskl(os.path.join(directory,'im_bin4_3d.fits_c1e+03.up.NDskl.a.NDskl'))\n",
    "# #create skeleton object\n",
    "skel = Skeleton(cp, fil, point, specs)"
   ]
  },
  {
   "cell_type": "code",
   "execution_count": null,
   "metadata": {},
   "outputs": [],
   "source": [
    "#Clean skeleton\n",
    "skel.remove_lonely_cp()\n",
    "skel.remove_free_filament()"
   ]
  },
  {
   "cell_type": "code",
   "execution_count": null,
   "metadata": {},
   "outputs": [],
   "source": [
    "skel.specs"
   ]
  },
  {
   "cell_type": "code",
   "execution_count": null,
   "metadata": {},
   "outputs": [],
   "source": [
    "fig, ax = plt.subplots()\n",
    "\n",
    "ax.scatter(skel.critical_point.x, skel.critical_point.y, c=skel.critical_point.z, cmap='Blues', alpha=0.7)\n",
    "\n",
    "data_crit_2 = skel.critical_point[skel.critical_point.nfil==3]\n",
    "ax.scatter(x=data_crit_2['x'],\n",
    "            y=data_crit_2['y'],\n",
    "           color= 'red')\n",
    "\n",
    "data_crit_2 = skel.critical_point[skel.critical_point.nfil>3]\n",
    "ax.scatter(x=data_crit_2['x'],\n",
    "            y=data_crit_2['y'],\n",
    "           color= 'black')\n",
    "\n",
    "ax.axis('equal')\n",
    "\n",
    "# ax.set_xlim(300, 400)\n",
    "# ax.set_ylim(50, 100)\n",
    "fig.set_size_inches(10, 10)\n"
   ]
  },
  {
   "cell_type": "code",
   "execution_count": null,
   "metadata": {},
   "outputs": [],
   "source": []
  },
  {
   "cell_type": "code",
   "execution_count": null,
   "metadata": {},
   "outputs": [],
   "source": []
  },
  {
   "cell_type": "code",
   "execution_count": null,
   "metadata": {},
   "outputs": [],
   "source": [
    "# get original image\n",
    "\n",
    "img0 = io.imread(os.path.join(directory, \"C1-20171214_sqh-GFP_ap-alpha-cat-RFP_WP2h-001-dorsal_AiSc_green_bin4.tif\"))\n",
    "img_output = img0.copy()\n",
    "img_output = np.where(img_output>0, 0, img_output) \n",
    "w = 0\n",
    "\n",
    "for _, p in skel.point.iterrows(): \n",
    "    if w != 0:\n",
    "        for z_ in range(int(p.z)-w,int(p.z)+w):\n",
    "            for y_ in range(int(p.y)-w,int(p.y)+w):\n",
    "                for x_ in range(int(p.x)-w,int(p.x)+w):\n",
    "                    try:\n",
    "                        img_output[z_][y_][x_]=1\n",
    "                    except:\n",
    "                        pass\n",
    "    else : \n",
    "        x_=int(p.x)\n",
    "        y_=int(p.y)\n",
    "        z_=int(p.z)\n",
    "        img_output[z_][y_][x_]=1\n",
    "img_binary_3d = img_output.copy()\n",
    "\n",
    "# Need a skeletonization to avoid vertex detection problem\n",
    "img_binary_3d = morphology.skeletonize(img_binary_3d)\n",
    "#io.imsave('binary_images.tif', img_output)"
   ]
  },
  {
   "cell_type": "code",
   "execution_count": null,
   "metadata": {},
   "outputs": [],
   "source": []
  },
  {
   "cell_type": "code",
   "execution_count": null,
   "metadata": {
    "scrolled": false
   },
   "outputs": [],
   "source": []
  },
  {
   "cell_type": "code",
   "execution_count": null,
   "metadata": {},
   "outputs": [],
   "source": []
  },
  {
   "cell_type": "code",
   "execution_count": null,
   "metadata": {},
   "outputs": [],
   "source": []
  },
  {
   "cell_type": "markdown",
   "metadata": {},
   "source": [
    "# 3D vertex detection"
   ]
  },
  {
   "cell_type": "code",
   "execution_count": null,
   "metadata": {},
   "outputs": [],
   "source": [
    "# from Dissects.segmentation.seg_3D_apical import find_vertex"
   ]
  },
  {
   "cell_type": "code",
   "execution_count": null,
   "metadata": {},
   "outputs": [],
   "source": [
    "import scipy as sci\n",
    "def find_vertex(skeleton_mask, free_edges=False):\n",
    "    \"\"\"\n",
    "    free_edges : if True, find vertex extremity\n",
    "    warning :  make sure to have a skeletonize the output of disperse\n",
    "    \"\"\"\n",
    "\n",
    "    # Need to be improve\n",
    "    kernel = np.array(pd.read_csv('../Dissects/segmentation/3d_pattern.csv', header=None))\n",
    "    kernel = kernel.reshape((int(kernel.shape[0]/9), 3, 3, 3))\n",
    "    \n",
    "    output_image = np.zeros(skeleton_mask.shape)\n",
    "\n",
    "    for i in np.arange(len(kernel)):\n",
    "        out = sci.ndimage.binary_hit_or_miss(skeleton_mask, kernel[i] )\n",
    "        output_image = output_image + out\n",
    "\n",
    "    if free_edges==True:\n",
    "        kernel = kernels_extremity()\n",
    "        for i in np.arange(len(kernel)):\n",
    "            out = sci.ndimage.binary_hit_or_miss(skeleton_mask, kernel[i] )\n",
    "            output_image = output_image + out\n",
    "\n",
    "    return output_image\n",
    "\n",
    "\n",
    "def clean_vertex(vertex_image):\n",
    "    s = sci.ndimage.generate_binary_structure(3,3)\n",
    "    labeled_array, num_features = sci.ndimage.label(vertex_image, structure=s)\n",
    "    unique_, count_ = np.unique(labeled_array, return_counts=True)\n",
    "\n",
    "    vertex = {}\n",
    "\n",
    "    index=0\n",
    "    for u, c, in zip(unique_, count_):\n",
    "        if c==1:\n",
    "            vertex[index]=np.array(np.where(labeled_array==u)).flatten()\n",
    "        else:\n",
    "            vertex[index]=np.mean(np.array(np.where(labeled_array==u)), axis=1, dtype='int')\n",
    "\n",
    "        index+=1\n",
    "\n",
    "    vert_df = pd.DataFrame.from_dict(vertex, orient='index', columns=list('zyx'))\n",
    "\n",
    "    # remove first line which is the background\n",
    "    vert_df = vert_df.loc[1:]\n",
    "    \n",
    "    return vert_df"
   ]
  },
  {
   "cell_type": "code",
   "execution_count": null,
   "metadata": {},
   "outputs": [],
   "source": [
    "# %%snakeviz\n",
    "import time\n",
    "start = time.time()\n",
    "output_vertex = find_vertex(img_binary_3d)\n",
    "end = time.time()\n",
    "print(end-start)"
   ]
  },
  {
   "cell_type": "code",
   "execution_count": null,
   "metadata": {},
   "outputs": [],
   "source": [
    "vert_df = clean_vertex(output_vertex)"
   ]
  },
  {
   "cell_type": "code",
   "execution_count": null,
   "metadata": {},
   "outputs": [],
   "source": [
    "import plotly.graph_objects as go\n",
    "\n",
    "z0, y0,x0 = np.where(img_binary_3d==1)\n",
    "fond = go.Scatter3d(x=x0,\n",
    "                      y=y0,\n",
    "                      z=z0,\n",
    "                      mode='markers',\n",
    "                     marker=dict(\n",
    "                        size=2,\n",
    "                        color='black',\n",
    "                        opacity=0.1\n",
    "                     )\n",
    "    )\n",
    "\n",
    "\n",
    "vertex_isolated = go.Scatter3d(x=vert_df.x,\n",
    "                      y=vert_df.y,\n",
    "                      z=vert_df.z,\n",
    "                      mode='markers',\n",
    "                     marker=dict(\n",
    "                        size=2,\n",
    "                        color='red', \n",
    "                        opacity=1\n",
    "                     )\n",
    "    )\n",
    "\n",
    "\n",
    "\n",
    "fig = go.Figure(data=[fond, vertex_isolated], )\n",
    "fig.update_layout(title='Filament', \n",
    "                  autosize=False,\n",
    "                  width=1000,\n",
    "                  height=1000,\n",
    "                  margin=dict(l=65, r=50, b=65, t=90),\n",
    "                 )\n",
    "\n",
    "fig['layout'].update(scene=dict(aspectmode=\"data\"))\n",
    "fig.show()"
   ]
  },
  {
   "cell_type": "code",
   "execution_count": null,
   "metadata": {},
   "outputs": [],
   "source": []
  },
  {
   "cell_type": "code",
   "execution_count": null,
   "metadata": {},
   "outputs": [],
   "source": [
    "# remove vertex +3x3x3 from initial image \n",
    "img_binary_3d_without_vertex = img_binary_3d.copy()\n",
    "for i, p in vert_df.iterrows():\n",
    "    for z_ in range(int(p.z)-1,int(p.z)+2):\n",
    "        for y_ in range(int(p.y)-1,int(p.y)+2):\n",
    "            for x_ in range(int(p.x)-1,int(p.x)+2):\n",
    "                try:\n",
    "                    img_binary_3d_without_vertex[z_][y_][x_]=0\n",
    "                except:\n",
    "                    pass\n",
    "s = sci.ndimage.generate_binary_structure(3,3)\n",
    "labeled_array, num_features = sci.ndimage.label(img_binary_3d_without_vertex, structure=s)"
   ]
  },
  {
   "cell_type": "code",
   "execution_count": null,
   "metadata": {},
   "outputs": [],
   "source": []
  },
  {
   "cell_type": "code",
   "execution_count": null,
   "metadata": {
    "scrolled": false
   },
   "outputs": [],
   "source": [
    "import plotly.graph_objects as go\n",
    "\n",
    "z0, y0, x0 = np.where(labeled_array==5)\n",
    "\n",
    "from matplotlib.colors import ListedColormap\n",
    "rand = (np.random.rand(500,3)*255).astype('int')\n",
    "rand[0] = 0\n",
    "cmap_rand = ListedColormap(rand)\n",
    "z0, y0,x0 = np.where(img_binary_3d==1)\n",
    "fond = go.Scatter3d(x=x0,\n",
    "                      y=y0,\n",
    "                      z=z0,\n",
    "                      mode='markers',\n",
    "                     marker=dict(\n",
    "                        size=2,\n",
    "                        color='black',\n",
    "                        opacity=0.1\n",
    "                     )\n",
    "    )\n",
    "\n",
    "z0, y0, x0 = np.where(labeled_array>=1)\n",
    "edge = go.Scatter3d(x=x0,\n",
    "                      y=y0,\n",
    "                      z=z0,\n",
    "                      mode='markers',\n",
    "                     marker=dict(\n",
    "                        size=2,\n",
    "                        color=rand[labeled_array[z0,y0,x0]],\n",
    "                        opacity=1\n",
    "                     )\n",
    "    )\n",
    "\n",
    "fig = go.Figure(data=[edge], )\n",
    "fig.update_layout(title='Filament', \n",
    "                  autosize=False,\n",
    "                  width=1000,\n",
    "                  height=1000,\n",
    "                  margin=dict(l=65, r=50, b=65, t=90),\n",
    "                 )\n",
    "fig['layout'].update(scene=dict(aspectmode=\"data\"))\n",
    "fig.show()"
   ]
  },
  {
   "cell_type": "code",
   "execution_count": null,
   "metadata": {
    "scrolled": true
   },
   "outputs": [],
   "source": []
  },
  {
   "cell_type": "code",
   "execution_count": null,
   "metadata": {},
   "outputs": [],
   "source": [
    "def find_edges(img_binary_3d, output_vertex, vert_df):\n",
    "    # remove vertex +3x3x3 from initial image \n",
    "    img_binary_3d_without_vertex = img_binary_3d.copy()\n",
    "    for i, p in vert_df.iterrows():\n",
    "        for z_ in range(int(p.z)-1,int(p.z)+2):\n",
    "            for y_ in range(int(p.y)-1,int(p.y)+2):\n",
    "                for x_ in range(int(p.x)-1,int(p.x)+2):\n",
    "                    try:\n",
    "                        img_binary_3d_without_vertex[z_][y_][x_]=0\n",
    "                    except:\n",
    "                        pass\n",
    "    s = sci.ndimage.generate_binary_structure(3,3)\n",
    "    labeled_array, num_features = sci.ndimage.label(img_binary_3d_without_vertex, structure=s)\n",
    "    \n",
    "    #labeled_array\n",
    "\n",
    "    binary_edges = np.zeros(labeled_array.shape)\n",
    "    binary_edges = np.where(labeled_array>0, 1, 0)\n",
    "\n",
    "\n",
    "    # clean output vertex\n",
    "    output_vertex = np.zeros(output_vertex.shape)\n",
    "    for i, val in vert_df.iterrows():\n",
    "        output_vertex[val.z, val.y, val.x]=1\n",
    "\n",
    "\n",
    "    # Initiate edge_df dataframe\n",
    "    edge_df = pd.DataFrame(index = range(1,num_features+1), columns=['srce', 'trgt'], dtype='int')\n",
    "\n",
    "    for i, val in vert_df.iterrows():\n",
    "        img_vert = np.zeros(img_output.shape)\n",
    "\n",
    "        img_vert[val.z, val.y, val.x] = 1\n",
    "\n",
    "        s = sci.ndimage.generate_binary_structure(3,3)\n",
    "\n",
    "        img_vert_dilate = binary_dilation(img_vert, structure=s)\n",
    "        img_corresponding_vertex = img_vert_dilate + binary_edges\n",
    "        while np.count_nonzero(img_corresponding_vertex==2)<2:\n",
    "            img_vert_dilate = binary_dilation(img_vert_dilate, structure=s)\n",
    "            img_corresponding_vertex= img_vert_dilate + binary_edges\n",
    "\n",
    "        edges = labeled_array[np.where(img_corresponding_vertex==2)]\n",
    "        for e in np.unique(edges):\n",
    "            if np.isnan(edge_df.loc[e]['srce']):\n",
    "                edge_df.loc[e]['srce'] = i\n",
    "            elif np.isnan(edge_df.loc[e]['trgt']):\n",
    "                edge_df.loc[e]['trgt'] = i\n",
    "            else:\n",
    "                print(\"problem:\", str(i))\n",
    "                print(edge_df.loc[e])\n",
    "\n",
    "    tmp=[]\n",
    "    for e in edge_df.index:\n",
    "        tmp.append(str(np.where(labeled_array==e)))\n",
    "    edge_df['points'] = tmp\n",
    "\n",
    "    edge_df.dropna(axis=0, inplace=True)\n",
    "    \n",
    "    # recupère les petites jonctions perdus\n",
    "\n",
    "    from sklearn.neighbors import KDTree, BallTree\n",
    "    from io import StringIO\n",
    "\n",
    "    # Compte le nombre de jonction associé à un vertex\n",
    "    srce_count = np.unique(edge_df.srce, return_counts=True)\n",
    "    trgt_count = np.unique(edge_df.trgt, return_counts=True)\n",
    "    res={}\n",
    "    for i, v in zip(srce_count[0], srce_count[1]):\n",
    "        res[i] = res.get(i, 0)+v\n",
    "\n",
    "    for i, v in zip(trgt_count[0], trgt_count[1]):\n",
    "        res[i] = res.get(i, 0)+v\n",
    "\n",
    "    res = pd.DataFrame.from_dict({\"idx\":res.keys(), \"value\":res.values()})   \n",
    "    vert_ = res[res.value<=2]['idx'].to_numpy()\n",
    "    while len(vert_)>0:\n",
    "        X = vert_df[['x', 'y', 'z']].values\n",
    "        tree = BallTree(X, metric='euclidean')\n",
    "        dist, ind = tree.query(X[int(vert_[0]-1):int(vert_[0])], 2)\n",
    "\n",
    "        edge_df.loc[edge_df.index.max()+1]={'srce':vert_df.index[ind[0][0]], 'trgt':vert_df.index[ind[0][1]]}\n",
    "        # Compte le nombre de jonction associé à un vertex\n",
    "        srce_count = np.unique(edge_df.srce, return_counts=True)\n",
    "        trgt_count = np.unique(edge_df.trgt, return_counts=True)\n",
    "        res={}\n",
    "        for i, v in zip(srce_count[0], srce_count[1]):\n",
    "            res[i] = res.get(i, 0)+v\n",
    "\n",
    "        for i, v in zip(trgt_count[0], trgt_count[1]):\n",
    "            res[i] = res.get(i, 0)+v\n",
    "\n",
    "        res = pd.DataFrame.from_dict({\"idx\":res.keys(), \"value\":res.values()})   \n",
    "        vert_ = res[res.value<=2]['idx'].to_numpy()\n",
    "\n",
    "\n",
    "\n",
    "    #remove doublon\n",
    "    edge_df['min']=np.min(edge_df[['srce', 'trgt']], axis=1)\n",
    "    edge_df['max']=np.max(edge_df[['srce', 'trgt']], axis=1)\n",
    "\n",
    "    edge_df['srce'] = edge_df['min']\n",
    "    edge_df['trgt'] = edge_df['max']\n",
    "    edge_df.drop(['min','max'], axis=1, inplace=True)\n",
    "\n",
    "    edge_df.drop_duplicates(inplace=True)\n",
    "       \n",
    "    return edge_df"
   ]
  },
  {
   "cell_type": "code",
   "execution_count": null,
   "metadata": {
    "scrolled": false
   },
   "outputs": [],
   "source": [
    "edge_df = find_edges(img_binary_3d, output_vertex, vert_df)"
   ]
  },
  {
   "cell_type": "code",
   "execution_count": null,
   "metadata": {},
   "outputs": [],
   "source": []
  },
  {
   "cell_type": "code",
   "execution_count": null,
   "metadata": {},
   "outputs": [],
   "source": [
    "import plotly.graph_objects as go\n",
    "\n",
    "z0, y0,x0 = np.where(img_binary_3d==1)\n",
    "fond = go.Scatter3d(x=x0,\n",
    "                      y=y0,\n",
    "                      z=z0,\n",
    "                      mode='markers',\n",
    "                     marker=dict(\n",
    "                        size=2,\n",
    "                        color='black',\n",
    "                        opacity=0.1\n",
    "                     )\n",
    "    )\n",
    "\n",
    "\n",
    "vertex_isolated = go.Scatter3d(x=vert_df.x,\n",
    "                      y=vert_df.y,\n",
    "                      z=vert_df.z,\n",
    "                      mode='markers',\n",
    "                     marker=dict(\n",
    "                        size=2,\n",
    "                        color='red', \n",
    "                        opacity=1\n",
    "                     )\n",
    "    )\n",
    "\n",
    "\n",
    "\n",
    "fig = go.Figure(data=[fond, vertex_isolated], )\n",
    "fig.update_layout(title='Filament', \n",
    "                  autosize=False,\n",
    "                  width=1000,\n",
    "                  height=1000,\n",
    "                  margin=dict(l=65, r=50, b=65, t=90),\n",
    "                 )\n",
    "\n",
    "\n",
    "from matplotlib.colors import ListedColormap\n",
    "rand = (np.random.rand(500,3)*255).astype('int')\n",
    "rand[0] = 0\n",
    "cmap_rand = ListedColormap(rand)\n",
    "\n",
    "zs,ys,xs = vert_df.loc[edge_df['srce']].values.flatten(order='F').reshape(3,edge_df.shape[0])\n",
    "zt,yt,xt = vert_df.loc[edge_df['trgt']].values.flatten(order='F').reshape(3,edge_df.shape[0])\n",
    "for i in range(len(zs)):\n",
    "    \n",
    "    fig.add_trace(\n",
    "            go.Scatter3d(\n",
    "                x=[xs[i], xt[i]],\n",
    "                y=[ys[i], yt[i]],\n",
    "                z=[zs[i], zt[i]],\n",
    "                mode='lines',\n",
    "                line={\"color\":rand[[i,i,i]],\n",
    "                      \"width\":10,\n",
    "                     },                \n",
    "            )\n",
    "        )\n",
    "\n",
    "\n",
    "fig['layout'].update(scene=dict(aspectmode=\"data\"), showlegend=False)\n",
    "fig.show()"
   ]
  },
  {
   "cell_type": "code",
   "execution_count": null,
   "metadata": {},
   "outputs": [],
   "source": []
  },
  {
   "cell_type": "code",
   "execution_count": null,
   "metadata": {},
   "outputs": [],
   "source": []
  },
  {
   "cell_type": "code",
   "execution_count": null,
   "metadata": {},
   "outputs": [],
   "source": [
    "zeds"
   ]
  },
  {
   "cell_type": "code",
   "execution_count": null,
   "metadata": {},
   "outputs": [],
   "source": []
  },
  {
   "cell_type": "code",
   "execution_count": null,
   "metadata": {},
   "outputs": [],
   "source": []
  },
  {
   "cell_type": "code",
   "execution_count": null,
   "metadata": {
    "scrolled": false
   },
   "outputs": [],
   "source": []
  },
  {
   "cell_type": "code",
   "execution_count": null,
   "metadata": {},
   "outputs": [],
   "source": []
  },
  {
   "cell_type": "code",
   "execution_count": null,
   "metadata": {},
   "outputs": [],
   "source": []
  },
  {
   "cell_type": "code",
   "execution_count": null,
   "metadata": {},
   "outputs": [],
   "source": []
  },
  {
   "cell_type": "code",
   "execution_count": null,
   "metadata": {},
   "outputs": [],
   "source": []
  },
  {
   "cell_type": "code",
   "execution_count": null,
   "metadata": {},
   "outputs": [],
   "source": []
  },
  {
   "cell_type": "code",
   "execution_count": null,
   "metadata": {},
   "outputs": [],
   "source": []
  },
  {
   "cell_type": "code",
   "execution_count": null,
   "metadata": {},
   "outputs": [],
   "source": []
  },
  {
   "cell_type": "code",
   "execution_count": null,
   "metadata": {},
   "outputs": [],
   "source": []
  },
  {
   "cell_type": "code",
   "execution_count": null,
   "metadata": {},
   "outputs": [],
   "source": []
  },
  {
   "cell_type": "code",
   "execution_count": null,
   "metadata": {},
   "outputs": [],
   "source": []
  },
  {
   "cell_type": "code",
   "execution_count": null,
   "metadata": {},
   "outputs": [],
   "source": []
  },
  {
   "cell_type": "code",
   "execution_count": null,
   "metadata": {},
   "outputs": [],
   "source": []
  },
  {
   "cell_type": "code",
   "execution_count": null,
   "metadata": {},
   "outputs": [],
   "source": []
  },
  {
   "cell_type": "code",
   "execution_count": null,
   "metadata": {},
   "outputs": [],
   "source": []
  },
  {
   "cell_type": "code",
   "execution_count": null,
   "metadata": {},
   "outputs": [],
   "source": []
  },
  {
   "cell_type": "code",
   "execution_count": null,
   "metadata": {
    "scrolled": false
   },
   "outputs": [],
   "source": [
    "import plotly.graph_objects as go\n",
    "\n",
    "z0, y0,x0 = np.where(img_binary_3d==1)\n",
    "fond = go.Scatter3d(x=x0,\n",
    "                      y=y0,\n",
    "                      z=z0,\n",
    "                      mode='markers',\n",
    "                     marker=dict(\n",
    "                        size=2,\n",
    "                        color='black',\n",
    "                        opacity=0.1\n",
    "                     )\n",
    "    )\n",
    "\n",
    "\n",
    "z0, y0,x0 = np.where(labeled_array!=0)\n",
    "c = labeled_array[z0, y0,x0]\n",
    "vertex = go.Scatter3d(x=x0,\n",
    "                      y=y0,\n",
    "                      z=z0,\n",
    "                      mode='markers',\n",
    "                     marker=dict(\n",
    "                        size=2,\n",
    "#                         color=c, \n",
    "                         color='blue',\n",
    "                        opacity=0.5\n",
    "                     )\n",
    "    )\n",
    "\n",
    "\n",
    "vertex_isolated = go.Scatter3d(x=vert_df.x,\n",
    "                      y=vert_df.y,\n",
    "                      z=vert_df.z,\n",
    "                      mode='markers',\n",
    "                     marker=dict(\n",
    "                        size=2,\n",
    "                        color='red', \n",
    "                        opacity=1\n",
    "                     )\n",
    "    )\n",
    "\n",
    "fig = go.Figure(data=[fond, vertex_isolated], )\n",
    "fig.update_layout(title='Filament', \n",
    "                  autosize=False,\n",
    "                  width=1000,\n",
    "                  height=1000,\n",
    "                  margin=dict(l=65, r=50, b=65, t=90),\n",
    "                 )\n",
    "fig['layout'].update(scene=dict(aspectmode=\"data\"))\n",
    "fig.show()"
   ]
  },
  {
   "cell_type": "code",
   "execution_count": null,
   "metadata": {
    "scrolled": false
   },
   "outputs": [],
   "source": []
  },
  {
   "cell_type": "code",
   "execution_count": null,
   "metadata": {},
   "outputs": [],
   "source": []
  },
  {
   "cell_type": "code",
   "execution_count": null,
   "metadata": {},
   "outputs": [],
   "source": [
    "from sklearn.neighbors import KDTree\n",
    "from io import StringIO"
   ]
  },
  {
   "cell_type": "code",
   "execution_count": null,
   "metadata": {},
   "outputs": [],
   "source": [
    "tree = BallTree(np.deg2rad(vert_df[['x', 'y', 'z']].values), metric='euclidean')\n"
   ]
  },
  {
   "cell_type": "code",
   "execution_count": null,
   "metadata": {},
   "outputs": [],
   "source": [
    "other_data = \"\"\"NAME x y z\n",
    "a 253 155 9\n",
    "b 500 55 82\"\"\"\n",
    "\n",
    "df_other = pd.read_csv(StringIO(other_data), sep = ' ')"
   ]
  },
  {
   "cell_type": "code",
   "execution_count": null,
   "metadata": {},
   "outputs": [],
   "source": [
    "query_x = df_other['x']\n",
    "query_y = df_other['y']\n",
    "query_z = df_other['z']\n",
    "\n",
    "distances, indices = tree.query(np.deg2rad(np.c_[query_x, query_y, query_z]), k = 3)\n"
   ]
  },
  {
   "cell_type": "code",
   "execution_count": null,
   "metadata": {},
   "outputs": [],
   "source": [
    "for name, d, ind in zip(df_other['NAME'], distances, indices):\n",
    "    print(f\"NAME {name} closest matches:\")\n",
    "    for i, index in enumerate(ind):\n",
    "        print(f\"\\t{index+1} with distance {d[i]:.4f}\")\n"
   ]
  },
  {
   "cell_type": "code",
   "execution_count": null,
   "metadata": {},
   "outputs": [],
   "source": [
    "distances"
   ]
  },
  {
   "cell_type": "code",
   "execution_count": null,
   "metadata": {},
   "outputs": [],
   "source": []
  },
  {
   "cell_type": "code",
   "execution_count": null,
   "metadata": {},
   "outputs": [],
   "source": [
    "import plotly.graph_objects as go\n",
    "\n",
    "z0, y0,x0 = np.where(img_binary_3d==1)\n",
    "fond = go.Scatter3d(x=x0,\n",
    "                      y=y0,\n",
    "                      z=z0,\n",
    "                      mode='markers',\n",
    "                     marker=dict(\n",
    "                        size=2,\n",
    "                        color='black',\n",
    "                        opacity=0.1\n",
    "                     )\n",
    "    )\n",
    "\n",
    "\n",
    "vertex_isolated = go.Scatter3d(x=vert_df.x,\n",
    "                      y=vert_df.y,\n",
    "                      z=vert_df.z,\n",
    "                      mode='markers',\n",
    "                     marker=dict(\n",
    "                        size=2,\n",
    "                        color='red', \n",
    "                        opacity=1\n",
    "                     )\n",
    "    )\n",
    "\n",
    "\n",
    "vertex_origin = go.Scatter3d(x=vert_df.loc[[1]]['x'],\n",
    "                      y=vert_df.loc[[1]]['y'],\n",
    "                      z=vert_df.loc[[1]]['z'],\n",
    "                      mode='markers',\n",
    "                     marker=dict(\n",
    "                        size=2,\n",
    "                        color='green', \n",
    "                        opacity=1\n",
    "                     )\n",
    "    )\n",
    "\n",
    "l = [19,34]\n",
    "vertex_near = go.Scatter3d(x=vert_df.loc[l]['x'],\n",
    "                      y=vert_df.loc[l]['y'],\n",
    "                      z=vert_df.loc[l]['z'],\n",
    "                      mode='markers',\n",
    "                     marker=dict(\n",
    "                        size=2,\n",
    "                        color='blue', \n",
    "                        opacity=1\n",
    "                     )\n",
    "    )\n",
    "\n",
    "fig = go.Figure(data=[fond, vertex_isolated,vertex_origin, vertex_near], )\n",
    "fig.update_layout(title='Filament', \n",
    "                  autosize=False,\n",
    "                  width=1000,\n",
    "                  height=1000,\n",
    "                  margin=dict(l=65, r=50, b=65, t=90),\n",
    "                 )\n",
    "fig['layout'].update(scene=dict(aspectmode=\"data\"))\n",
    "fig.show()"
   ]
  },
  {
   "cell_type": "code",
   "execution_count": null,
   "metadata": {},
   "outputs": [],
   "source": []
  },
  {
   "cell_type": "code",
   "execution_count": null,
   "metadata": {},
   "outputs": [],
   "source": [
    "from scipy.spatial import ConvexHull"
   ]
  },
  {
   "cell_type": "code",
   "execution_count": null,
   "metadata": {},
   "outputs": [],
   "source": [
    "pts = np.array((vert_df.x, vert_df.y, vert_df.z)).flatten(order='F').reshape((vert_df.shape[0],3))"
   ]
  },
  {
   "cell_type": "code",
   "execution_count": null,
   "metadata": {},
   "outputs": [],
   "source": [
    "hull = ConvexHull(pts)"
   ]
  },
  {
   "cell_type": "code",
   "execution_count": null,
   "metadata": {
    "scrolled": false
   },
   "outputs": [],
   "source": [
    "fig = plt.figure()\n",
    "ax = fig.add_subplot(111, projection=\"3d\")\n",
    "\n",
    "# Plot defining corner points\n",
    "ax.plot(pts.T[0], pts.T[1], pts.T[2], \"ko\")\n",
    "\n",
    "# 12 = 2 * 6 faces are the simplices (2 simplices per square face)\n",
    "for s in hull.simplices:\n",
    "    s = np.append(s, s[0])  # Here we cycle back to the first coordinate\n",
    "    ax.plot(pts[s, 0], pts[s, 1], pts[s, 2], \"r-\")\n",
    "\n",
    "# Make axis label\n",
    "for i in [\"x\", \"y\", \"z\"]:\n",
    "    eval(\"ax.set_{:s}label('{:s}')\".format(i, i))\n",
    "\n",
    "plt.show()"
   ]
  },
  {
   "cell_type": "code",
   "execution_count": null,
   "metadata": {},
   "outputs": [],
   "source": [
    "import plotly.figure_factory as ff\n",
    "fig = ff.create_trisurf(x=pts[:,0],\n",
    "                        y=pts[:,1],\n",
    "                        z=pts[:,2],\n",
    "                         simplices=hull.simplices[:,:3],\n",
    "                        aspectratio=dict(x=1, y=1, z=0.3),\n",
    "                       )\n",
    "fig['data'][0].update(opacity=0.75)\n",
    "fig.show()"
   ]
  },
  {
   "cell_type": "code",
   "execution_count": null,
   "metadata": {
    "scrolled": false
   },
   "outputs": [],
   "source": [
    "import plotly.graph_objects as go\n",
    "\n",
    "z0, y0,x0 = np.where(img_binary_3d==1)\n",
    "fond = go.Scatter3d(x=x0,\n",
    "                      y=y0,\n",
    "                      z=z0,\n",
    "                      mode='markers',\n",
    "                     marker=dict(\n",
    "                        size=2,\n",
    "                        color='black',\n",
    "                        opacity=0.1\n",
    "                     )\n",
    "    )\n",
    "\n",
    "\n",
    "from plotly.tools import FigureFactory as FF\n",
    "trisurf = FF.create_trisurf(x=pts[:,0],\n",
    "                        y=pts[:,1],\n",
    "                        z=pts[:,2],\n",
    "                         simplices=hull.simplices[:,:3],)\n",
    "\n",
    "\n",
    "fig = go.Figure(data=[fond, fond, trisurf], )\n",
    "fig.update_layout(title='Filament', \n",
    "                  autosize=False,\n",
    "                  width=1000,\n",
    "                  height=1000,\n",
    "                  margin=dict(l=65, r=50, b=65, t=90),\n",
    "                 )\n",
    "fig['layout'].update(scene=dict(aspectmode=\"data\"))\n",
    "fig.show()"
   ]
  },
  {
   "cell_type": "code",
   "execution_count": null,
   "metadata": {},
   "outputs": [],
   "source": []
  },
  {
   "cell_type": "code",
   "execution_count": null,
   "metadata": {
    "scrolled": true
   },
   "outputs": [],
   "source": []
  },
  {
   "cell_type": "code",
   "execution_count": null,
   "metadata": {},
   "outputs": [],
   "source": []
  },
  {
   "cell_type": "code",
   "execution_count": null,
   "metadata": {},
   "outputs": [],
   "source": []
  },
  {
   "cell_type": "code",
   "execution_count": null,
   "metadata": {},
   "outputs": [],
   "source": []
  },
  {
   "cell_type": "code",
   "execution_count": null,
   "metadata": {},
   "outputs": [],
   "source": []
  },
  {
   "cell_type": "code",
   "execution_count": null,
   "metadata": {},
   "outputs": [],
   "source": []
  },
  {
   "cell_type": "code",
   "execution_count": null,
   "metadata": {},
   "outputs": [],
   "source": []
  },
  {
   "cell_type": "code",
   "execution_count": null,
   "metadata": {},
   "outputs": [],
   "source": []
  },
  {
   "cell_type": "code",
   "execution_count": null,
   "metadata": {},
   "outputs": [],
   "source": []
  },
  {
   "cell_type": "code",
   "execution_count": null,
   "metadata": {},
   "outputs": [],
   "source": []
  },
  {
   "cell_type": "code",
   "execution_count": null,
   "metadata": {},
   "outputs": [],
   "source": []
  },
  {
   "cell_type": "code",
   "execution_count": null,
   "metadata": {},
   "outputs": [],
   "source": []
  },
  {
   "cell_type": "code",
   "execution_count": null,
   "metadata": {},
   "outputs": [],
   "source": []
  },
  {
   "cell_type": "code",
   "execution_count": null,
   "metadata": {},
   "outputs": [],
   "source": []
  },
  {
   "cell_type": "code",
   "execution_count": null,
   "metadata": {},
   "outputs": [],
   "source": []
  },
  {
   "cell_type": "code",
   "execution_count": null,
   "metadata": {},
   "outputs": [],
   "source": []
  },
  {
   "cell_type": "code",
   "execution_count": null,
   "metadata": {},
   "outputs": [],
   "source": []
  },
  {
   "cell_type": "code",
   "execution_count": null,
   "metadata": {},
   "outputs": [],
   "source": []
  },
  {
   "cell_type": "code",
   "execution_count": null,
   "metadata": {},
   "outputs": [],
   "source": []
  },
  {
   "cell_type": "code",
   "execution_count": null,
   "metadata": {},
   "outputs": [],
   "source": []
  },
  {
   "cell_type": "code",
   "execution_count": null,
   "metadata": {},
   "outputs": [],
   "source": []
  },
  {
   "cell_type": "code",
   "execution_count": null,
   "metadata": {},
   "outputs": [],
   "source": []
  },
  {
   "cell_type": "code",
   "execution_count": null,
   "metadata": {},
   "outputs": [],
   "source": []
  },
  {
   "cell_type": "code",
   "execution_count": null,
   "metadata": {},
   "outputs": [],
   "source": []
  },
  {
   "cell_type": "code",
   "execution_count": null,
   "metadata": {},
   "outputs": [],
   "source": []
  },
  {
   "cell_type": "code",
   "execution_count": null,
   "metadata": {
    "scrolled": false
   },
   "outputs": [],
   "source": []
  },
  {
   "cell_type": "code",
   "execution_count": null,
   "metadata": {},
   "outputs": [],
   "source": []
  },
  {
   "cell_type": "code",
   "execution_count": null,
   "metadata": {},
   "outputs": [],
   "source": []
  },
  {
   "cell_type": "code",
   "execution_count": null,
   "metadata": {},
   "outputs": [],
   "source": []
  },
  {
   "cell_type": "code",
   "execution_count": null,
   "metadata": {},
   "outputs": [],
   "source": []
  },
  {
   "cell_type": "code",
   "execution_count": null,
   "metadata": {},
   "outputs": [],
   "source": []
  },
  {
   "cell_type": "code",
   "execution_count": null,
   "metadata": {},
   "outputs": [],
   "source": []
  },
  {
   "cell_type": "code",
   "execution_count": null,
   "metadata": {},
   "outputs": [],
   "source": []
  },
  {
   "cell_type": "code",
   "execution_count": null,
   "metadata": {},
   "outputs": [],
   "source": []
  },
  {
   "cell_type": "code",
   "execution_count": null,
   "metadata": {},
   "outputs": [],
   "source": []
  },
  {
   "cell_type": "code",
   "execution_count": null,
   "metadata": {},
   "outputs": [],
   "source": []
  }
 ],
 "metadata": {
  "kernelspec": {
   "display_name": "Python 3",
   "language": "python",
   "name": "python3"
  },
  "language_info": {
   "codemirror_mode": {
    "name": "ipython",
    "version": 3
   },
   "file_extension": ".py",
   "mimetype": "text/x-python",
   "name": "python",
   "nbconvert_exporter": "python",
   "pygments_lexer": "ipython3",
   "version": "3.8.5"
  }
 },
 "nbformat": 4,
 "nbformat_minor": 2
}

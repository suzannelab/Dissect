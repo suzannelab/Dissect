{
 "cells": [
  {
   "cell_type": "code",
   "execution_count": 1,
   "metadata": {},
   "outputs": [],
   "source": [
    "from Dissects.io import (load_NDskl, \n",
    "                         load_image,\n",
    "                         load_skeleton,\n",
    "                         save_skeleton,\n",
    "                         save_fits,\n",
    "                         save_image,\n",
    "                        )\n",
    "from Dissects.image import (z_project,\n",
    "                            thinning,\n",
    "                            dilation)\n",
    "from Dissects.geometry import Skeleton\n",
    "\n",
    "\n",
    "from Dissects.analysis.analysis import (general_analysis,\n",
    "                              cellstats\n",
    "                              )\n",
    "\n",
    "from Dissects.analysis.analysis_3D_apical import (junction_intensity,\n",
    "                                                  morphology_analysis)\n",
    "\n",
    "from Dissects.segmentation.seg_3D_apical import (generate_segmentation)\n"
   ]
  },
  {
   "cell_type": "code",
   "execution_count": 2,
   "metadata": {},
   "outputs": [],
   "source": [
    "import os\n",
    "\n",
    "from skimage import io\n",
    "import numpy as np\n",
    "import pandas as pd\n",
    "import copy\n",
    "import sys\n",
    "from skimage import morphology\n",
    "\n",
    "import matplotlib.pyplot as plt\n",
    "import matplotlib as mpl\n",
    "from matplotlib.colors import ListedColormap\n",
    "import plotly.graph_objects as go\n",
    "\n",
    "sys.setrecursionlimit(10000)\n",
    "\n",
    "import plotly.express as px\n",
    "\n",
    "from scipy.ndimage.morphology import (binary_fill_holes,\n",
    "                                      binary_dilation,\n",
    "                                     )\n",
    "from scipy import ndimage\n",
    "import scipy as sci\n",
    "# %matplotlib notebook\n",
    "%load_ext snakeviz"
   ]
  },
  {
   "cell_type": "code",
   "execution_count": 3,
   "metadata": {},
   "outputs": [],
   "source": [
    "import matplotlib as mpl\n",
    "\n",
    "# update fig parameter\n",
    "mpl.rcParams['figure.dpi'] = 150 #300\n",
    "mpl.rcParams['figure.figsize'] = (10,10)"
   ]
  },
  {
   "cell_type": "code",
   "execution_count": 4,
   "metadata": {},
   "outputs": [],
   "source": [
    "directory=\"/media/admin-suz/Datas/Comparative-analysis_Manu-Tatiana/Squelettes_Disperse\"\n",
    "\n",
    "filename=\"T2-T3_20210429_sqhRFPt3B-EcadGFP_leg_FastAiSc-Opt1160x1160_pixelsize0v09_Speed7_GB2.fits_c1.35e+03.up.NDskl.BRK.NDskl.a.NDskl\""
   ]
  },
  {
   "cell_type": "code",
   "execution_count": 5,
   "metadata": {},
   "outputs": [],
   "source": [
    "# get original image\n",
    "img0 = load_image(os.path.join(directory, \n",
    "                              \"T2-T3_20210429_sqhRFPt3B-EcadGFP_leg_FastAiSc-Opt1160x1160_pixelsize0,09_Speed7.tif\"))"
   ]
  },
  {
   "cell_type": "code",
   "execution_count": 6,
   "metadata": {},
   "outputs": [
    {
     "name": "stderr",
     "output_type": "stream",
     "text": [
      "/home/admin-suz/miniconda3/lib/python3.8/site-packages/Dissects-0.0.1-py3.8.egg/Dissects/geometry/skeleton.py:24: UserWarning: Has pixel can be half pixel from DisPerSE output,                   we take the integer part of xyz values. \n",
      "  warnings.warn(\"Has pixel can be half pixel from DisPerSE output, \\\n"
     ]
    }
   ],
   "source": [
    "cp, fil, point, specs = load_NDskl(os.path.join(directory, filename))\n",
    "\n",
    "# #create skeleton object\n",
    "skel = Skeleton(cp, fil, point, specs)"
   ]
  },
  {
   "cell_type": "code",
   "execution_count": 7,
   "metadata": {},
   "outputs": [
    {
     "name": "stderr",
     "output_type": "stream",
     "text": [
      "/home/admin-suz/miniconda3/lib/python3.8/site-packages/Dissects-0.0.1-py3.8.egg/Dissects/geometry/skeleton.py:60: UserWarning: specs dictionnary is not updated, ncrit value is not updated.\n",
      "  warnings.warn(\n"
     ]
    }
   ],
   "source": [
    "#Clean skeleton\n",
    "skel.remove_lonely_cp()\n",
    "skel.remove_free_filament()"
   ]
  },
  {
   "cell_type": "code",
   "execution_count": 8,
   "metadata": {},
   "outputs": [
    {
     "data": {
      "text/plain": [
       "{'ndims': 3,\n",
       " 'bbox': array([0., 0., 0.]),\n",
       " 'bbox_delta': array([ 166., 1052.,  106.]),\n",
       " 'ncrit': 2095,\n",
       " 'nfil': 1956}"
      ]
     },
     "execution_count": 8,
     "metadata": {},
     "output_type": "execute_result"
    }
   ],
   "source": [
    "skel.specs"
   ]
  },
  {
   "cell_type": "code",
   "execution_count": 9,
   "metadata": {},
   "outputs": [],
   "source": [
    "skeleton_image = skel.create_binary_image()\n",
    "img_binary_3d = morphology.skeletonize(skeleton_image)"
   ]
  },
  {
   "cell_type": "code",
   "execution_count": null,
   "metadata": {},
   "outputs": [],
   "source": []
  },
  {
   "cell_type": "code",
   "execution_count": null,
   "metadata": {},
   "outputs": [],
   "source": []
  },
  {
   "cell_type": "code",
   "execution_count": null,
   "metadata": {},
   "outputs": [],
   "source": []
  },
  {
   "cell_type": "markdown",
   "metadata": {},
   "source": [
    "# Global variable\n",
    "\n",
    "Ce n'est pas idéal, mais c'est une solution temporaire pour choisir tout les paramètres au début de l'analyse sans avoir à les chercher dans les différentes cellules..."
   ]
  },
  {
   "cell_type": "code",
   "execution_count": 11,
   "metadata": {},
   "outputs": [],
   "source": [
    "# Pixel/Voxel size\n",
    "X_SIZE = 0.0916155\n",
    "Y_SIZE = 0.0916155\n",
    "Z_SIZE = 0.2201818\n",
    "\n",
    "# Save face, edge, vert dataframe from initial segmentation\n",
    "SAVE_INIT_SEGMENTATION = False\n",
    "# Save face, edge, vert image from initial segmentation\n",
    "SAVE_INIT_SEGMENTATION_IMAGE = False\n",
    "\n",
    "DIRECT_VISUALISATION_VERTEX_EDGES = True\n",
    "DIRECT_VISUALISATION_FACE = True\n",
    "\n",
    "# Analyse morphologique\n",
    "MORPHOLOGICAL_ANALYSIS = True\n",
    "AREA = True\n",
    "PERIMETER = True\n",
    "NB_NEIGHBOR = True\n",
    "ANISO = True"
   ]
  },
  {
   "cell_type": "code",
   "execution_count": 12,
   "metadata": {},
   "outputs": [],
   "source": [
    "X_SHAPE = img0[0].shape[2]\n",
    "Y_SHAPE = img0[0].shape[1]\n",
    "Z_SHAPE = img0[0].shape[0]\n"
   ]
  },
  {
   "cell_type": "markdown",
   "metadata": {},
   "source": [
    "# 3D vertex detection"
   ]
  },
  {
   "cell_type": "code",
   "execution_count": null,
   "metadata": {},
   "outputs": [],
   "source": []
  },
  {
   "cell_type": "code",
   "execution_count": 13,
   "metadata": {
    "scrolled": false
   },
   "outputs": [
    {
     "name": "stdout",
     "output_type": "stream",
     "text": [
      "there is a problem\n",
      "there is a problem\n"
     ]
    }
   ],
   "source": [
    "face_df, edge_df, vert_df, points_df = generate_segmentation(skel, clean=False, **{\"X_SIZE\":X_SIZE,\n",
    "                                                                                   \"Y_SIZE\":Y_SIZE,\n",
    "                                                                                   \"Z_SIZE\":Z_SIZE})\n",
    "\n",
    "if SAVE_INIT_SEGMENTATION : \n",
    "    vert_df.to_csv(os.path.join(directory, 'vert_df.csv'))\n",
    "    edge_df.to_csv(os.path.join(directory, 'edge_df.csv'))\n",
    "    face_df.to_csv(os.path.join(directory, 'face_df.csv'))\n"
   ]
  },
  {
   "cell_type": "code",
   "execution_count": null,
   "metadata": {},
   "outputs": [],
   "source": [
    "vert_df.loc[775]"
   ]
  },
  {
   "cell_type": "code",
   "execution_count": null,
   "metadata": {},
   "outputs": [],
   "source": [
    "if SAVE_INIT_SEGMENTATION_IMAGE :\n",
    "    \n",
    "    # Vertex image\n",
    "    vertex_image = np.zeros([Z_SHAPE, Y_SHAPE, X_SHAPE])\n",
    "    s = ndimage.generate_binary_structure(3,3)\n",
    "\n",
    "    vertex_image[vert_df.z_pix.to_numpy(),\n",
    "                 vert_df.y_pix.to_numpy(),\n",
    "                 vert_df.x_pix.to_numpy()] = 1\n",
    "    # Dilate a little bit vertex to have a better viewing\n",
    "    vertex_image = ndimage.morphology.binary_dilation(vertex_image, structure=s)\n",
    "    \n",
    "    save_image(vertex_image, 'output_vertex.tif', directory, **{\"x_size\":X_SIZE,\n",
    "                                                                \"y_size\":Y_SIZE,\n",
    "                                                                \"z_size\":Z_SIZE,})\n",
    "    \n",
    "    image_skeleton = skel.create_binary_image()\n",
    "    image_skeleton = ndimage.morphology.binary_dilation(image_skeleton, structure=s)\n",
    "    \n",
    "    save_image(image_skeleton, 'output_skeleton.tif', directory, **{\"x_size\":X_SIZE,\n",
    "                                                                    \"y_size\":Y_SIZE,\n",
    "                                                                    \"z_size\":Z_SIZE,})"
   ]
  },
  {
   "cell_type": "code",
   "execution_count": null,
   "metadata": {
    "scrolled": true
   },
   "outputs": [],
   "source": []
  },
  {
   "cell_type": "code",
   "execution_count": 14,
   "metadata": {
    "scrolled": false
   },
   "outputs": [
    {
     "ename": "KeyError",
     "evalue": "\"Passing list-likes to .loc or [] with any missing labels is no longer supported. The following labels were missing: Float64Index([288.0, 294.0, 309.0, 309.0, 354.0,\\n              ...\\n              744.0, 754.0, 775.0, 862.0, 851.0],\\n             dtype='float64', length=42). See https://pandas.pydata.org/pandas-docs/stable/user_guide/indexing.html#deprecate-loc-reindex-listlike\"",
     "output_type": "error",
     "traceback": [
      "\u001b[0;31m---------------------------------------------------------------------------\u001b[0m",
      "\u001b[0;31mKeyError\u001b[0m                                  Traceback (most recent call last)",
      "\u001b[0;32m<ipython-input-14-fdf93d00e1a8>\u001b[0m in \u001b[0;36m<module>\u001b[0;34m\u001b[0m\n\u001b[1;32m     35\u001b[0m \u001b[0;34m\u001b[0m\u001b[0m\n\u001b[1;32m     36\u001b[0m     \u001b[0;31m# Edges\u001b[0m\u001b[0;34m\u001b[0m\u001b[0;34m\u001b[0m\u001b[0;34m\u001b[0m\u001b[0m\n\u001b[0;32m---> 37\u001b[0;31m     \u001b[0mzs\u001b[0m\u001b[0;34m,\u001b[0m\u001b[0mys\u001b[0m\u001b[0;34m,\u001b[0m\u001b[0mxs\u001b[0m \u001b[0;34m=\u001b[0m \u001b[0mvert_df\u001b[0m\u001b[0;34m.\u001b[0m\u001b[0mloc\u001b[0m\u001b[0;34m[\u001b[0m\u001b[0medge_df\u001b[0m\u001b[0;34m[\u001b[0m\u001b[0;34m'srce'\u001b[0m\u001b[0;34m]\u001b[0m\u001b[0;34m]\u001b[0m\u001b[0;34m[\u001b[0m\u001b[0;34m[\u001b[0m\u001b[0;34m'z_pix'\u001b[0m\u001b[0;34m,\u001b[0m \u001b[0;34m'y_pix'\u001b[0m\u001b[0;34m,\u001b[0m \u001b[0;34m'x_pix'\u001b[0m\u001b[0;34m]\u001b[0m\u001b[0;34m]\u001b[0m\u001b[0;34m.\u001b[0m\u001b[0mvalues\u001b[0m\u001b[0;34m.\u001b[0m\u001b[0mflatten\u001b[0m\u001b[0;34m(\u001b[0m\u001b[0morder\u001b[0m\u001b[0;34m=\u001b[0m\u001b[0;34m'F'\u001b[0m\u001b[0;34m)\u001b[0m\u001b[0;34m.\u001b[0m\u001b[0mreshape\u001b[0m\u001b[0;34m(\u001b[0m\u001b[0;36m3\u001b[0m\u001b[0;34m,\u001b[0m\u001b[0medge_df\u001b[0m\u001b[0;34m.\u001b[0m\u001b[0mshape\u001b[0m\u001b[0;34m[\u001b[0m\u001b[0;36m0\u001b[0m\u001b[0;34m]\u001b[0m\u001b[0;34m)\u001b[0m\u001b[0;34m\u001b[0m\u001b[0;34m\u001b[0m\u001b[0m\n\u001b[0m\u001b[1;32m     38\u001b[0m     \u001b[0mzt\u001b[0m\u001b[0;34m,\u001b[0m\u001b[0myt\u001b[0m\u001b[0;34m,\u001b[0m\u001b[0mxt\u001b[0m \u001b[0;34m=\u001b[0m \u001b[0mvert_df\u001b[0m\u001b[0;34m.\u001b[0m\u001b[0mloc\u001b[0m\u001b[0;34m[\u001b[0m\u001b[0medge_df\u001b[0m\u001b[0;34m[\u001b[0m\u001b[0;34m'trgt'\u001b[0m\u001b[0;34m]\u001b[0m\u001b[0;34m]\u001b[0m\u001b[0;34m[\u001b[0m\u001b[0;34m[\u001b[0m\u001b[0;34m'z_pix'\u001b[0m\u001b[0;34m,\u001b[0m \u001b[0;34m'y_pix'\u001b[0m\u001b[0;34m,\u001b[0m \u001b[0;34m'x_pix'\u001b[0m\u001b[0;34m]\u001b[0m\u001b[0;34m]\u001b[0m\u001b[0;34m.\u001b[0m\u001b[0mvalues\u001b[0m\u001b[0;34m.\u001b[0m\u001b[0mflatten\u001b[0m\u001b[0;34m(\u001b[0m\u001b[0morder\u001b[0m\u001b[0;34m=\u001b[0m\u001b[0;34m'F'\u001b[0m\u001b[0;34m)\u001b[0m\u001b[0;34m.\u001b[0m\u001b[0mreshape\u001b[0m\u001b[0;34m(\u001b[0m\u001b[0;36m3\u001b[0m\u001b[0;34m,\u001b[0m\u001b[0medge_df\u001b[0m\u001b[0;34m.\u001b[0m\u001b[0mshape\u001b[0m\u001b[0;34m[\u001b[0m\u001b[0;36m0\u001b[0m\u001b[0;34m]\u001b[0m\u001b[0;34m)\u001b[0m\u001b[0;34m\u001b[0m\u001b[0;34m\u001b[0m\u001b[0m\n\u001b[1;32m     39\u001b[0m \u001b[0;34m\u001b[0m\u001b[0m\n",
      "\u001b[0;32m~/miniconda3/lib/python3.8/site-packages/pandas/core/indexing.py\u001b[0m in \u001b[0;36m__getitem__\u001b[0;34m(self, key)\u001b[0m\n\u001b[1;32m    893\u001b[0m \u001b[0;34m\u001b[0m\u001b[0m\n\u001b[1;32m    894\u001b[0m             \u001b[0mmaybe_callable\u001b[0m \u001b[0;34m=\u001b[0m \u001b[0mcom\u001b[0m\u001b[0;34m.\u001b[0m\u001b[0mapply_if_callable\u001b[0m\u001b[0;34m(\u001b[0m\u001b[0mkey\u001b[0m\u001b[0;34m,\u001b[0m \u001b[0mself\u001b[0m\u001b[0;34m.\u001b[0m\u001b[0mobj\u001b[0m\u001b[0;34m)\u001b[0m\u001b[0;34m\u001b[0m\u001b[0;34m\u001b[0m\u001b[0m\n\u001b[0;32m--> 895\u001b[0;31m             \u001b[0;32mreturn\u001b[0m \u001b[0mself\u001b[0m\u001b[0;34m.\u001b[0m\u001b[0m_getitem_axis\u001b[0m\u001b[0;34m(\u001b[0m\u001b[0mmaybe_callable\u001b[0m\u001b[0;34m,\u001b[0m \u001b[0maxis\u001b[0m\u001b[0;34m=\u001b[0m\u001b[0maxis\u001b[0m\u001b[0;34m)\u001b[0m\u001b[0;34m\u001b[0m\u001b[0;34m\u001b[0m\u001b[0m\n\u001b[0m\u001b[1;32m    896\u001b[0m \u001b[0;34m\u001b[0m\u001b[0m\n\u001b[1;32m    897\u001b[0m     \u001b[0;32mdef\u001b[0m \u001b[0m_is_scalar_access\u001b[0m\u001b[0;34m(\u001b[0m\u001b[0mself\u001b[0m\u001b[0;34m,\u001b[0m \u001b[0mkey\u001b[0m\u001b[0;34m:\u001b[0m \u001b[0mTuple\u001b[0m\u001b[0;34m)\u001b[0m\u001b[0;34m:\u001b[0m\u001b[0;34m\u001b[0m\u001b[0;34m\u001b[0m\u001b[0m\n",
      "\u001b[0;32m~/miniconda3/lib/python3.8/site-packages/pandas/core/indexing.py\u001b[0m in \u001b[0;36m_getitem_axis\u001b[0;34m(self, key, axis)\u001b[0m\n\u001b[1;32m   1111\u001b[0m                     \u001b[0;32mraise\u001b[0m \u001b[0mValueError\u001b[0m\u001b[0;34m(\u001b[0m\u001b[0;34m\"Cannot index with multidimensional key\"\u001b[0m\u001b[0;34m)\u001b[0m\u001b[0;34m\u001b[0m\u001b[0;34m\u001b[0m\u001b[0m\n\u001b[1;32m   1112\u001b[0m \u001b[0;34m\u001b[0m\u001b[0m\n\u001b[0;32m-> 1113\u001b[0;31m                 \u001b[0;32mreturn\u001b[0m \u001b[0mself\u001b[0m\u001b[0;34m.\u001b[0m\u001b[0m_getitem_iterable\u001b[0m\u001b[0;34m(\u001b[0m\u001b[0mkey\u001b[0m\u001b[0;34m,\u001b[0m \u001b[0maxis\u001b[0m\u001b[0;34m=\u001b[0m\u001b[0maxis\u001b[0m\u001b[0;34m)\u001b[0m\u001b[0;34m\u001b[0m\u001b[0;34m\u001b[0m\u001b[0m\n\u001b[0m\u001b[1;32m   1114\u001b[0m \u001b[0;34m\u001b[0m\u001b[0m\n\u001b[1;32m   1115\u001b[0m             \u001b[0;31m# nested tuple slicing\u001b[0m\u001b[0;34m\u001b[0m\u001b[0;34m\u001b[0m\u001b[0;34m\u001b[0m\u001b[0m\n",
      "\u001b[0;32m~/miniconda3/lib/python3.8/site-packages/pandas/core/indexing.py\u001b[0m in \u001b[0;36m_getitem_iterable\u001b[0;34m(self, key, axis)\u001b[0m\n\u001b[1;32m   1051\u001b[0m \u001b[0;34m\u001b[0m\u001b[0m\n\u001b[1;32m   1052\u001b[0m         \u001b[0;31m# A collection of keys\u001b[0m\u001b[0;34m\u001b[0m\u001b[0;34m\u001b[0m\u001b[0;34m\u001b[0m\u001b[0m\n\u001b[0;32m-> 1053\u001b[0;31m         \u001b[0mkeyarr\u001b[0m\u001b[0;34m,\u001b[0m \u001b[0mindexer\u001b[0m \u001b[0;34m=\u001b[0m \u001b[0mself\u001b[0m\u001b[0;34m.\u001b[0m\u001b[0m_get_listlike_indexer\u001b[0m\u001b[0;34m(\u001b[0m\u001b[0mkey\u001b[0m\u001b[0;34m,\u001b[0m \u001b[0maxis\u001b[0m\u001b[0;34m,\u001b[0m \u001b[0mraise_missing\u001b[0m\u001b[0;34m=\u001b[0m\u001b[0;32mFalse\u001b[0m\u001b[0;34m)\u001b[0m\u001b[0;34m\u001b[0m\u001b[0;34m\u001b[0m\u001b[0m\n\u001b[0m\u001b[1;32m   1054\u001b[0m         return self.obj._reindex_with_indexers(\n\u001b[1;32m   1055\u001b[0m             \u001b[0;34m{\u001b[0m\u001b[0maxis\u001b[0m\u001b[0;34m:\u001b[0m \u001b[0;34m[\u001b[0m\u001b[0mkeyarr\u001b[0m\u001b[0;34m,\u001b[0m \u001b[0mindexer\u001b[0m\u001b[0;34m]\u001b[0m\u001b[0;34m}\u001b[0m\u001b[0;34m,\u001b[0m \u001b[0mcopy\u001b[0m\u001b[0;34m=\u001b[0m\u001b[0;32mTrue\u001b[0m\u001b[0;34m,\u001b[0m \u001b[0mallow_dups\u001b[0m\u001b[0;34m=\u001b[0m\u001b[0;32mTrue\u001b[0m\u001b[0;34m\u001b[0m\u001b[0;34m\u001b[0m\u001b[0m\n",
      "\u001b[0;32m~/miniconda3/lib/python3.8/site-packages/pandas/core/indexing.py\u001b[0m in \u001b[0;36m_get_listlike_indexer\u001b[0;34m(self, key, axis, raise_missing)\u001b[0m\n\u001b[1;32m   1264\u001b[0m             \u001b[0mkeyarr\u001b[0m\u001b[0;34m,\u001b[0m \u001b[0mindexer\u001b[0m\u001b[0;34m,\u001b[0m \u001b[0mnew_indexer\u001b[0m \u001b[0;34m=\u001b[0m \u001b[0max\u001b[0m\u001b[0;34m.\u001b[0m\u001b[0m_reindex_non_unique\u001b[0m\u001b[0;34m(\u001b[0m\u001b[0mkeyarr\u001b[0m\u001b[0;34m)\u001b[0m\u001b[0;34m\u001b[0m\u001b[0;34m\u001b[0m\u001b[0m\n\u001b[1;32m   1265\u001b[0m \u001b[0;34m\u001b[0m\u001b[0m\n\u001b[0;32m-> 1266\u001b[0;31m         \u001b[0mself\u001b[0m\u001b[0;34m.\u001b[0m\u001b[0m_validate_read_indexer\u001b[0m\u001b[0;34m(\u001b[0m\u001b[0mkeyarr\u001b[0m\u001b[0;34m,\u001b[0m \u001b[0mindexer\u001b[0m\u001b[0;34m,\u001b[0m \u001b[0maxis\u001b[0m\u001b[0;34m,\u001b[0m \u001b[0mraise_missing\u001b[0m\u001b[0;34m=\u001b[0m\u001b[0mraise_missing\u001b[0m\u001b[0;34m)\u001b[0m\u001b[0;34m\u001b[0m\u001b[0;34m\u001b[0m\u001b[0m\n\u001b[0m\u001b[1;32m   1267\u001b[0m         \u001b[0;32mreturn\u001b[0m \u001b[0mkeyarr\u001b[0m\u001b[0;34m,\u001b[0m \u001b[0mindexer\u001b[0m\u001b[0;34m\u001b[0m\u001b[0;34m\u001b[0m\u001b[0m\n\u001b[1;32m   1268\u001b[0m \u001b[0;34m\u001b[0m\u001b[0m\n",
      "\u001b[0;32m~/miniconda3/lib/python3.8/site-packages/pandas/core/indexing.py\u001b[0m in \u001b[0;36m_validate_read_indexer\u001b[0;34m(self, key, indexer, axis, raise_missing)\u001b[0m\n\u001b[1;32m   1319\u001b[0m \u001b[0;34m\u001b[0m\u001b[0m\n\u001b[1;32m   1320\u001b[0m             \u001b[0;32mwith\u001b[0m \u001b[0moption_context\u001b[0m\u001b[0;34m(\u001b[0m\u001b[0;34m\"display.max_seq_items\"\u001b[0m\u001b[0;34m,\u001b[0m \u001b[0;36m10\u001b[0m\u001b[0;34m,\u001b[0m \u001b[0;34m\"display.width\"\u001b[0m\u001b[0;34m,\u001b[0m \u001b[0;36m80\u001b[0m\u001b[0;34m)\u001b[0m\u001b[0;34m:\u001b[0m\u001b[0;34m\u001b[0m\u001b[0;34m\u001b[0m\u001b[0m\n\u001b[0;32m-> 1321\u001b[0;31m                 raise KeyError(\n\u001b[0m\u001b[1;32m   1322\u001b[0m                     \u001b[0;34m\"Passing list-likes to .loc or [] with any missing labels \"\u001b[0m\u001b[0;34m\u001b[0m\u001b[0;34m\u001b[0m\u001b[0m\n\u001b[1;32m   1323\u001b[0m                     \u001b[0;34m\"is no longer supported. \"\u001b[0m\u001b[0;34m\u001b[0m\u001b[0;34m\u001b[0m\u001b[0m\n",
      "\u001b[0;31mKeyError\u001b[0m: \"Passing list-likes to .loc or [] with any missing labels is no longer supported. The following labels were missing: Float64Index([288.0, 294.0, 309.0, 309.0, 354.0,\\n              ...\\n              744.0, 754.0, 775.0, 862.0, 851.0],\\n             dtype='float64', length=42). See https://pandas.pydata.org/pandas-docs/stable/user_guide/indexing.html#deprecate-loc-reindex-listlike\""
     ]
    }
   ],
   "source": [
    "if DIRECT_VISUALISATION_VERTEX_EDGES: \n",
    "    # plot skeleton\n",
    "    image_skeleton = skel.create_binary_image()\n",
    "    z0, y0,x0 = np.where(image_skeleton>0)\n",
    "    background_skeleton = go.Scatter3d(x=x0,\n",
    "                                        y=y0,\n",
    "                                        z=z0,\n",
    "                                        mode='markers',\n",
    "                                        marker=dict(\n",
    "                                            size=2,\n",
    "                                            color='black',\n",
    "                                            opacity=0.1\n",
    "                                         )\n",
    "                        )\n",
    "    \n",
    "    \n",
    "    vertex = go.Scatter3d( x=vert_df.x_pix,\n",
    "                           y=vert_df.y_pix,\n",
    "                           z=vert_df.z_pix,\n",
    "                           mode='markers',\n",
    "                           marker=dict(\n",
    "                            size=2,\n",
    "                            color='red', \n",
    "                            opacity=0.5\n",
    "                         )\n",
    "                )\n",
    "    \n",
    "    fig = go.Figure(data=[background_skeleton, vertex], )\n",
    "    fig.update_layout(title='Background-vertex', \n",
    "                  autosize=False,\n",
    "                  width=1000,\n",
    "                  height=1000,\n",
    "                  margin=dict(l=65, r=50, b=65, t=90),\n",
    "                 )\n",
    "    \n",
    "    # Edges\n",
    "    zs,ys,xs = vert_df.loc[edge_df['srce']][['z_pix', 'y_pix', 'x_pix']].values.flatten(order='F').reshape(3,edge_df.shape[0])\n",
    "    zt,yt,xt = vert_df.loc[edge_df['trgt']][['z_pix', 'y_pix', 'x_pix']].values.flatten(order='F').reshape(3,edge_df.shape[0])\n",
    "\n",
    "    rand = (np.random.rand(len(zs),3)*255).astype('int')\n",
    "    rand[0] = 0\n",
    "    cmap_rand = ListedColormap(rand)\n",
    "    for i in range(len(zs)):\n",
    "        fig.add_trace(\n",
    "                go.Scatter3d(\n",
    "                    x=[xs[i], xt[i]],\n",
    "                    y=[ys[i], yt[i]],\n",
    "                    z=[zs[i], zt[i]],\n",
    "                    mode='lines',\n",
    "                    line={\"color\":rand[[i,i,i]],\n",
    "                          \"width\":10,\n",
    "                         },                \n",
    "                )\n",
    "            )\n",
    "        \n",
    "    fig['layout'].update(scene=dict(aspectmode=\"manual\", \n",
    "                                aspectratio=dict(x=X_SIZE*X_SHAPE, \n",
    "                                                 y=Y_SIZE*Y_SHAPE, \n",
    "                                                 z=Z_SIZE*Z_SHAPE)),\n",
    "                     showlegend=False)\n",
    "    fig.show()"
   ]
  },
  {
   "cell_type": "code",
   "execution_count": null,
   "metadata": {},
   "outputs": [],
   "source": [
    "import random \n",
    "if DIRECT_VISUALISATION_FACE:\n",
    "    rand = (np.random.rand(face_df.shape[0],3)*255).astype('int')\n",
    "    rand[0] = 0\n",
    "    cmap_rand = ListedColormap(rand)\n",
    "\n",
    "\n",
    "    plot_face=[]\n",
    "    \n",
    "    fill_colors=list(mpl.colors.cnames.values())\n",
    "    random.shuffle(fill_colors)\n",
    "    for f in (np.unique(edge_df.face)[1:]):\n",
    "\n",
    "        try:\n",
    "            edges= edge_df[edge_df.face==f]\n",
    "            nb_vert = len(edges)\n",
    "            vert_order = [edges.iloc[0].srce]\n",
    "            for i in range(nb_vert):\n",
    "                vert_order.append(edges[edges.trgt==vert_order[-1]]['srce'].to_numpy()[0])\n",
    "            zs=vert_df.loc[vert_order].z_pix.to_numpy()\n",
    "            ys=vert_df.loc[vert_order].y_pix.to_numpy()\n",
    "            xs=vert_df.loc[vert_order].x_pix.to_numpy()\n",
    "            plot_face.append(dict(\n",
    "                type='scatter3d',\n",
    "                mode='lines',\n",
    "                x=xs,\n",
    "                y=ys,\n",
    "                z=zs,\n",
    "                name='',\n",
    "                surfaceaxis=2, # add a surface axis ('1' refers to axes[1] i.e. the y-axis)\n",
    "                surfacecolor=fill_colors[f],\n",
    "                line=dict(\n",
    "                    color='black',\n",
    "                    width=4\n",
    "                ),\n",
    "            ))\n",
    "        except:\n",
    "            print(f)\n",
    "\n",
    "\n",
    "\n",
    "    plot_face.append(background_skeleton)\n",
    "    plot_face.append(vertex)\n",
    "    fig = go.Figure(data=plot_face, )\n",
    "    fig.update_layout(title='Filament', \n",
    "                      autosize=False,\n",
    "                      width=1000,\n",
    "                      height=1000,\n",
    "                      margin=dict(l=65, r=50, b=65, t=90),\n",
    "                     )\n",
    "\n",
    "    fig['layout'].update(scene=dict(aspectmode=\"manual\", \n",
    "                                aspectratio=dict(x=X_SIZE*X_SHAPE, \n",
    "                                                 y=Y_SIZE*Y_SHAPE, \n",
    "                                                 z=Z_SIZE*Z_SHAPE)),\n",
    "                     showlegend=False)\n",
    "    fig.show()"
   ]
  },
  {
   "cell_type": "code",
   "execution_count": null,
   "metadata": {},
   "outputs": [],
   "source": []
  },
  {
   "cell_type": "code",
   "execution_count": null,
   "metadata": {},
   "outputs": [],
   "source": []
  },
  {
   "cell_type": "code",
   "execution_count": null,
   "metadata": {},
   "outputs": [],
   "source": []
  },
  {
   "cell_type": "code",
   "execution_count": null,
   "metadata": {},
   "outputs": [],
   "source": []
  },
  {
   "cell_type": "code",
   "execution_count": null,
   "metadata": {},
   "outputs": [],
   "source": []
  },
  {
   "cell_type": "code",
   "execution_count": null,
   "metadata": {},
   "outputs": [],
   "source": []
  },
  {
   "cell_type": "code",
   "execution_count": null,
   "metadata": {},
   "outputs": [],
   "source": []
  },
  {
   "cell_type": "code",
   "execution_count": null,
   "metadata": {
    "scrolled": true
   },
   "outputs": [],
   "source": []
  },
  {
   "cell_type": "code",
   "execution_count": null,
   "metadata": {},
   "outputs": [],
   "source": []
  },
  {
   "cell_type": "code",
   "execution_count": null,
   "metadata": {
    "scrolled": true
   },
   "outputs": [],
   "source": []
  },
  {
   "cell_type": "code",
   "execution_count": null,
   "metadata": {},
   "outputs": [],
   "source": []
  },
  {
   "cell_type": "code",
   "execution_count": null,
   "metadata": {
    "scrolled": false
   },
   "outputs": [],
   "source": []
  },
  {
   "cell_type": "code",
   "execution_count": null,
   "metadata": {},
   "outputs": [],
   "source": []
  },
  {
   "cell_type": "code",
   "execution_count": null,
   "metadata": {},
   "outputs": [],
   "source": []
  },
  {
   "cell_type": "code",
   "execution_count": null,
   "metadata": {},
   "outputs": [],
   "source": []
  },
  {
   "cell_type": "markdown",
   "metadata": {},
   "source": [
    "# Analyse"
   ]
  },
  {
   "cell_type": "code",
   "execution_count": null,
   "metadata": {},
   "outputs": [],
   "source": []
  },
  {
   "cell_type": "code",
   "execution_count": null,
   "metadata": {},
   "outputs": [],
   "source": [
    "# morphometry analysis\n",
    "\n",
    "if MORPHOLOGICAL_ANALYSIS :\n",
    "    morphology_analysis(face_df, \n",
    "                        edge_df, \n",
    "                        vert_df, \n",
    "                        points_df, \n",
    "                        area=AREA,\n",
    "                        perimeter=PERIMETER,\n",
    "                        nb_neighbor=NB_NEIGHBOR,\n",
    "                        aniso=ANISO,\n",
    "                       )"
   ]
  },
  {
   "cell_type": "code",
   "execution_count": null,
   "metadata": {},
   "outputs": [],
   "source": [
    "i = 55\n",
    "plt.plot(edge_df.loc[i]['point_x'][0], edge_df.loc[i]['point_y'][0], '.')"
   ]
  },
  {
   "cell_type": "code",
   "execution_count": null,
   "metadata": {},
   "outputs": [],
   "source": []
  },
  {
   "cell_type": "markdown",
   "metadata": {},
   "source": [
    "## Mesure d'intensité au niveau des jonctions"
   ]
  },
  {
   "cell_type": "code",
   "execution_count": null,
   "metadata": {
    "scrolled": true
   },
   "outputs": [],
   "source": [
    "\n",
    "# import image original\n",
    "# get original image\n",
    "\n",
    "img_myosin = io.imread(os.path.join(directory, \n",
    "                              \"C1-20171214_sqh-GFP_ap-alpha-cat-RFP_WP2h-001-dorsal_AiSc_green_bin4.tif\"))\n",
    "\n",
    "\n",
    "junction_intensity(img_myosin, edge_df, 'myosin_intensity')"
   ]
  },
  {
   "cell_type": "code",
   "execution_count": null,
   "metadata": {},
   "outputs": [],
   "source": []
  },
  {
   "cell_type": "code",
   "execution_count": null,
   "metadata": {},
   "outputs": [],
   "source": [
    "# plot prot intensity\n",
    "\n",
    "import plotly.graph_objects as go\n",
    "\n",
    "z0, y0,x0 = np.where(img_binary_3d==1)\n",
    "fond = go.Scatter3d(x=x0,\n",
    "                      y=y0,\n",
    "                      z=z0,\n",
    "                      mode='markers',\n",
    "                     marker=dict(\n",
    "                        size=2,\n",
    "                        color='black',\n",
    "                        opacity=0.1\n",
    "                     )\n",
    "    )\n",
    "\n",
    "\n",
    "vertex_isolated = go.Scatter3d(x=vert_df.x,\n",
    "                      y=vert_df.y,\n",
    "                      z=vert_df.z,\n",
    "                      mode='markers',\n",
    "                     marker=dict(\n",
    "                        size=2,\n",
    "                        color='red', \n",
    "                        opacity=1\n",
    "                     )\n",
    "    )\n",
    "\n",
    "\n",
    "\n",
    "fig = go.Figure(data=[vertex_isolated], )\n",
    "fig.update_layout(title='Filament', \n",
    "                  autosize=False,\n",
    "                  width=1000,\n",
    "                  height=1000,\n",
    "                  margin=dict(l=65, r=50, b=65, t=90),\n",
    "                 )\n",
    "\n",
    "\n",
    "\n",
    "zs,ys,xs = vert_df.loc[edge_df['srce']][list('zyx')].values.flatten(order='F').reshape(3, edge_df.shape[0])\n",
    "zt,yt,xt = vert_df.loc[edge_df['trgt']][list('zyx')].values.flatten(order='F').reshape(3, edge_df.shape[0])\n",
    "c = (edge_df.myosin_intensity/np.max(edge_df.myosin_intensity)*255).astype('int')\n",
    "\n",
    "import pylab as pl\n",
    "cmap = pl.cm.coolwarm\n",
    "\n",
    "\n",
    "for i in range(len(zs)):\n",
    "    \n",
    "    fig.add_trace(\n",
    "            go.Scatter3d(\n",
    "                x=[xs[i], xt[i]],\n",
    "                y=[ys[i], yt[i]],\n",
    "                z=[zs[i], zt[i]],\n",
    "                mode='lines',\n",
    "                line={\"color\":[cmap(c[i]), cmap(c[i])],\n",
    "                      \"width\":10,\n",
    "                     },                \n",
    "            )\n",
    "        )\n",
    "\n",
    "\n",
    "fig['layout'].update(scene=dict(aspectmode=\"data\"), showlegend=False)\n",
    "fig.show()"
   ]
  },
  {
   "cell_type": "code",
   "execution_count": null,
   "metadata": {},
   "outputs": [],
   "source": [
    "# plot area\n",
    "\n",
    "import plotly.graph_objects as go\n",
    "\n",
    "import pylab as pl\n",
    "cmap = pl.cm.cividis\n",
    "# face_df['area']-=face_df.area.min()\n",
    "# area=face_df.area.values/np.max(face_df.area.values)*255\n",
    "plot_face=[]\n",
    "for f in (np.unique(edge_df.face)[1:]):\n",
    "#     print('rgb'+str(cmap(int(ar[f]))))\n",
    "    edges= edge_df[edge_df.face==f]\n",
    "    nb_vert = len(edges)\n",
    "    vert_order = [edges.iloc[0].srce]\n",
    "    for i in range(nb_vert):\n",
    "        vert_order.append(edges[edges.trgt==vert_order[-1]]['srce'].to_numpy()[0])\n",
    "    zs=vert_df.loc[vert_order].z.to_numpy()\n",
    "    ys=vert_df.loc[vert_order].y.to_numpy()\n",
    "    xs=vert_df.loc[vert_order].x.to_numpy()\n",
    "    plot_face.append(dict(\n",
    "        type='scatter3d',\n",
    "        mode='lines',\n",
    "        x=xs,\n",
    "        y=ys,\n",
    "        z=zs,\n",
    "        name='',\n",
    "        surfaceaxis=2, # add a surface axis ('1' refers to axes[1] i.e. the y-axis)\n",
    "        surfacecolor='rgb'+str(cmap(int(face_df['area'].iloc[f-1]))[0:3]),\n",
    "#             surfacecolor=fill_colors[int(ar[f]/2)],\n",
    "        line=dict(\n",
    "            color='black',\n",
    "            width=4\n",
    "        ),\n",
    "    ))\n",
    "   \n",
    "    \n",
    "fig = go.Figure(data=plot_face, )\n",
    "fig.update_layout(title='Filament', \n",
    "                  autosize=False,\n",
    "                  width=1000,\n",
    "                  height=1000,\n",
    "                  margin=dict(l=65, r=50, b=65, t=90),\n",
    "                 )\n",
    "\n",
    "fig['layout'].update(scene=dict(aspectmode=\"data\"), showlegend=False)\n",
    "fig.show()"
   ]
  },
  {
   "cell_type": "code",
   "execution_count": null,
   "metadata": {
    "scrolled": false
   },
   "outputs": [],
   "source": []
  },
  {
   "cell_type": "code",
   "execution_count": null,
   "metadata": {},
   "outputs": [],
   "source": [
    "fsgdfgdg"
   ]
  },
  {
   "cell_type": "code",
   "execution_count": null,
   "metadata": {},
   "outputs": [],
   "source": []
  },
  {
   "cell_type": "code",
   "execution_count": null,
   "metadata": {},
   "outputs": [],
   "source": []
  },
  {
   "cell_type": "code",
   "execution_count": null,
   "metadata": {},
   "outputs": [],
   "source": []
  },
  {
   "cell_type": "code",
   "execution_count": null,
   "metadata": {},
   "outputs": [],
   "source": []
  },
  {
   "cell_type": "code",
   "execution_count": null,
   "metadata": {},
   "outputs": [],
   "source": []
  },
  {
   "cell_type": "markdown",
   "metadata": {},
   "source": [
    "# Analyse au niveau de la face"
   ]
  },
  {
   "cell_type": "code",
   "execution_count": null,
   "metadata": {},
   "outputs": [],
   "source": [
    "from Dissects.analysis.analysis_3D_apical import face_intensity, compute_normal"
   ]
  },
  {
   "cell_type": "code",
   "execution_count": null,
   "metadata": {
    "scrolled": false
   },
   "outputs": [],
   "source": [
    "# define pixel size [x,y,z] in µm\n",
    "pixel_size = {'x':0.1832311, 'y':0.1832311, 'z':0.2201818}\n",
    "# Largeur d'épaississement de la surface de la cellule\n",
    "# Cette valeur est ajoutée au dessus et en dessous du plan de la face\n",
    "thicken = 0.4\n",
    "# compute_normal(face_df, edge_df, vert_df)\n",
    "face_intensity(img_myosin, face_df, edge_df, vert_df, thicken, pixel_size)\n"
   ]
  },
  {
   "cell_type": "code",
   "execution_count": null,
   "metadata": {},
   "outputs": [],
   "source": []
  },
  {
   "cell_type": "code",
   "execution_count": null,
   "metadata": {},
   "outputs": [],
   "source": []
  },
  {
   "cell_type": "code",
   "execution_count": null,
   "metadata": {},
   "outputs": [],
   "source": [
    "# plot area\n",
    "\n",
    "import plotly.graph_objects as go\n",
    "\n",
    "import pylab as pl\n",
    "cmap = pl.cm.cividis\n",
    "face_df['intensity']-=face_df.intensity.min()\n",
    "face_df['intensity_norm']=face_df.intensity.values/np.max(face_df.intensity.values)*255\n",
    "plot_face=[]\n",
    "for f in (np.unique(edge_df.face)[1:]):\n",
    "#     print('rgb'+str(cmap(int(ar[f]))))\n",
    "    edges= edge_df[edge_df.face==f]\n",
    "    nb_vert = len(edges)\n",
    "    vert_order = [edges.iloc[0].srce]\n",
    "    for i in range(nb_vert):\n",
    "        vert_order.append(edges[edges.trgt==vert_order[-1]]['srce'].to_numpy()[0])\n",
    "    zs=vert_df.loc[vert_order].z.to_numpy()\n",
    "    ys=vert_df.loc[vert_order].y.to_numpy()\n",
    "    xs=vert_df.loc[vert_order].x.to_numpy()\n",
    "    plot_face.append(dict(\n",
    "        type='scatter3d',\n",
    "        mode='lines',\n",
    "        x=xs,\n",
    "        y=ys,\n",
    "        z=zs,\n",
    "        name='',\n",
    "        surfaceaxis=2, # add a surface axis ('1' refers to axes[1] i.e. the y-axis)\n",
    "        surfacecolor='rgb'+str(cmap(int(face_df['intensity_norm'].iloc[f-1]))[0:3]),\n",
    "#             surfacecolor=fill_colors[int(ar[f]/2)],\n",
    "        line=dict(\n",
    "            color='black',\n",
    "            width=4\n",
    "        ),\n",
    "    ))\n",
    "   \n",
    "    \n",
    "fig = go.Figure(data=plot_face, )\n",
    "fig.update_layout(title='Filament', \n",
    "                  autosize=False,\n",
    "                  width=1000,\n",
    "                  height=1000,\n",
    "                  margin=dict(l=65, r=50, b=65, t=90),\n",
    "                 )\n",
    "\n",
    "fig['layout'].update(scene=dict(aspectmode=\"data\"), showlegend=False)\n",
    "fig.show()"
   ]
  },
  {
   "cell_type": "code",
   "execution_count": null,
   "metadata": {},
   "outputs": [],
   "source": []
  },
  {
   "cell_type": "code",
   "execution_count": null,
   "metadata": {},
   "outputs": [],
   "source": []
  },
  {
   "cell_type": "code",
   "execution_count": null,
   "metadata": {},
   "outputs": [],
   "source": []
  },
  {
   "cell_type": "code",
   "execution_count": null,
   "metadata": {},
   "outputs": [],
   "source": []
  },
  {
   "cell_type": "code",
   "execution_count": null,
   "metadata": {},
   "outputs": [],
   "source": []
  },
  {
   "cell_type": "code",
   "execution_count": null,
   "metadata": {},
   "outputs": [],
   "source": []
  },
  {
   "cell_type": "code",
   "execution_count": null,
   "metadata": {},
   "outputs": [],
   "source": []
  },
  {
   "cell_type": "code",
   "execution_count": null,
   "metadata": {},
   "outputs": [],
   "source": []
  },
  {
   "cell_type": "code",
   "execution_count": null,
   "metadata": {},
   "outputs": [],
   "source": []
  },
  {
   "cell_type": "code",
   "execution_count": null,
   "metadata": {},
   "outputs": [],
   "source": []
  },
  {
   "cell_type": "code",
   "execution_count": null,
   "metadata": {},
   "outputs": [],
   "source": []
  },
  {
   "cell_type": "code",
   "execution_count": null,
   "metadata": {
    "scrolled": false
   },
   "outputs": [],
   "source": []
  },
  {
   "cell_type": "code",
   "execution_count": null,
   "metadata": {},
   "outputs": [],
   "source": []
  },
  {
   "cell_type": "code",
   "execution_count": null,
   "metadata": {},
   "outputs": [],
   "source": []
  },
  {
   "cell_type": "code",
   "execution_count": null,
   "metadata": {},
   "outputs": [],
   "source": []
  },
  {
   "cell_type": "code",
   "execution_count": null,
   "metadata": {},
   "outputs": [],
   "source": []
  },
  {
   "cell_type": "code",
   "execution_count": null,
   "metadata": {},
   "outputs": [],
   "source": []
  },
  {
   "cell_type": "code",
   "execution_count": null,
   "metadata": {},
   "outputs": [],
   "source": []
  },
  {
   "cell_type": "code",
   "execution_count": null,
   "metadata": {},
   "outputs": [],
   "source": []
  },
  {
   "cell_type": "code",
   "execution_count": null,
   "metadata": {},
   "outputs": [],
   "source": [
    "import plotly.graph_objects as go\n",
    "from matplotlib.colors import ListedColormap\n",
    "rand = (np.random.rand(200,3)*255).astype('int')\n",
    "rand[0] = 0\n",
    "cmap_rand = ListedColormap(rand)\n",
    "\n",
    "\n",
    "\n",
    "z0, y0,x0 = np.where(img_binary_3d==1)\n",
    "fond = go.Scatter3d(x=x0,\n",
    "                      y=y0,\n",
    "                      z=z0,\n",
    "                      mode='markers',\n",
    "                     marker=dict(\n",
    "                        size=2,\n",
    "                        color='black',\n",
    "                        opacity=1\n",
    "                     )\n",
    "    )\n",
    "\n",
    "z0, y0,x0 = np.where(img_plane==1)\n",
    "face = go.Scatter3d(x=x0,\n",
    "                      y=y0,\n",
    "                      z=z0,\n",
    "                      mode='markers',\n",
    "                     marker=dict(\n",
    "                        size=2,\n",
    "                        color='blue', \n",
    "                        opacity=0.2\n",
    "                     )\n",
    "    )\n",
    "\n",
    "\n",
    "plot_face=[]\n",
    "plot_face.append(fond)\n",
    "plot_face.append(face)\n",
    "fig = go.Figure(data=plot_face, )\n",
    "fig.update_layout(title='Filament', \n",
    "                  autosize=False,\n",
    "                  width=1000,\n",
    "                  height=1000,\n",
    "                  margin=dict(l=65, r=50, b=65, t=90),\n",
    "                 )\n",
    "\n",
    "fig['layout'].update(scene=dict(aspectmode=\"data\"), showlegend=False)\n",
    "fig.show()"
   ]
  },
  {
   "cell_type": "code",
   "execution_count": null,
   "metadata": {
    "scrolled": false
   },
   "outputs": [],
   "source": []
  },
  {
   "cell_type": "code",
   "execution_count": null,
   "metadata": {
    "scrolled": true
   },
   "outputs": [],
   "source": []
  },
  {
   "cell_type": "code",
   "execution_count": null,
   "metadata": {},
   "outputs": [],
   "source": []
  },
  {
   "cell_type": "code",
   "execution_count": null,
   "metadata": {},
   "outputs": [],
   "source": []
  },
  {
   "cell_type": "code",
   "execution_count": null,
   "metadata": {},
   "outputs": [],
   "source": []
  },
  {
   "cell_type": "code",
   "execution_count": null,
   "metadata": {
    "scrolled": false
   },
   "outputs": [],
   "source": []
  },
  {
   "cell_type": "code",
   "execution_count": null,
   "metadata": {
    "scrolled": false
   },
   "outputs": [],
   "source": []
  },
  {
   "cell_type": "code",
   "execution_count": null,
   "metadata": {},
   "outputs": [],
   "source": []
  },
  {
   "cell_type": "code",
   "execution_count": null,
   "metadata": {},
   "outputs": [],
   "source": []
  },
  {
   "cell_type": "code",
   "execution_count": null,
   "metadata": {},
   "outputs": [],
   "source": []
  },
  {
   "cell_type": "code",
   "execution_count": null,
   "metadata": {},
   "outputs": [],
   "source": []
  },
  {
   "cell_type": "code",
   "execution_count": null,
   "metadata": {},
   "outputs": [],
   "source": []
  },
  {
   "cell_type": "code",
   "execution_count": null,
   "metadata": {},
   "outputs": [],
   "source": []
  },
  {
   "cell_type": "code",
   "execution_count": null,
   "metadata": {},
   "outputs": [],
   "source": []
  },
  {
   "cell_type": "code",
   "execution_count": null,
   "metadata": {},
   "outputs": [],
   "source": []
  },
  {
   "cell_type": "code",
   "execution_count": null,
   "metadata": {},
   "outputs": [],
   "source": []
  },
  {
   "cell_type": "code",
   "execution_count": null,
   "metadata": {},
   "outputs": [],
   "source": []
  },
  {
   "cell_type": "code",
   "execution_count": null,
   "metadata": {},
   "outputs": [],
   "source": []
  },
  {
   "cell_type": "code",
   "execution_count": null,
   "metadata": {},
   "outputs": [],
   "source": []
  },
  {
   "cell_type": "code",
   "execution_count": null,
   "metadata": {},
   "outputs": [],
   "source": []
  },
  {
   "cell_type": "code",
   "execution_count": null,
   "metadata": {},
   "outputs": [],
   "source": []
  },
  {
   "cell_type": "code",
   "execution_count": null,
   "metadata": {},
   "outputs": [],
   "source": []
  },
  {
   "cell_type": "code",
   "execution_count": null,
   "metadata": {},
   "outputs": [],
   "source": []
  },
  {
   "cell_type": "code",
   "execution_count": null,
   "metadata": {
    "scrolled": false
   },
   "outputs": [],
   "source": []
  },
  {
   "cell_type": "code",
   "execution_count": null,
   "metadata": {},
   "outputs": [],
   "source": []
  },
  {
   "cell_type": "code",
   "execution_count": null,
   "metadata": {},
   "outputs": [],
   "source": []
  },
  {
   "cell_type": "code",
   "execution_count": null,
   "metadata": {},
   "outputs": [],
   "source": []
  },
  {
   "cell_type": "code",
   "execution_count": null,
   "metadata": {},
   "outputs": [],
   "source": []
  },
  {
   "cell_type": "code",
   "execution_count": null,
   "metadata": {},
   "outputs": [],
   "source": []
  },
  {
   "cell_type": "code",
   "execution_count": null,
   "metadata": {},
   "outputs": [],
   "source": []
  },
  {
   "cell_type": "code",
   "execution_count": null,
   "metadata": {},
   "outputs": [],
   "source": []
  },
  {
   "cell_type": "code",
   "execution_count": null,
   "metadata": {},
   "outputs": [],
   "source": [
    "from tyssue import Sheet\n",
    "from tyssue import SheetGeometry\n",
    "face_df = pd.DataFrame(index=np.arange(1, np.max(edge_df.face)))\n",
    "# remove_edge = edge_df[edge_df.face==-1].index\n",
    "# edge_df.drop(remove_edge, axis=0, inplace=True)\n",
    "# edge_df.reset_index(inplace=True, drop=True)\n",
    "data={'vert':vert_df, 'edge':edge_df, 'face':face_df}\n",
    "sheet = Sheet('spherical', data)\n",
    "sheet.reset_index()\n",
    "sheet.reset_topo()\n",
    "SheetGeometry.update_all(sheet)\n",
    "\n",
    "from tyssue.draw import sheet_view\n",
    "fig, ax = sheet_view(sheet,list('yz'), mode='2D')"
   ]
  },
  {
   "cell_type": "code",
   "execution_count": null,
   "metadata": {},
   "outputs": [],
   "source": []
  },
  {
   "cell_type": "code",
   "execution_count": null,
   "metadata": {
    "scrolled": true
   },
   "outputs": [],
   "source": [
    "from tyssue.draw import sheet_view\n",
    "fig, ax = sheet_view(sheet, mode='3D')\n",
    "fig"
   ]
  },
  {
   "cell_type": "code",
   "execution_count": null,
   "metadata": {},
   "outputs": [],
   "source": []
  },
  {
   "cell_type": "code",
   "execution_count": null,
   "metadata": {},
   "outputs": [],
   "source": []
  },
  {
   "cell_type": "code",
   "execution_count": null,
   "metadata": {},
   "outputs": [],
   "source": []
  }
 ],
 "metadata": {
  "kernelspec": {
   "display_name": "Python 3",
   "language": "python",
   "name": "python3"
  },
  "language_info": {
   "codemirror_mode": {
    "name": "ipython",
    "version": 3
   },
   "file_extension": ".py",
   "mimetype": "text/x-python",
   "name": "python",
   "nbconvert_exporter": "python",
   "pygments_lexer": "ipython3",
   "version": "3.8.8"
  }
 },
 "nbformat": 4,
 "nbformat_minor": 2
}

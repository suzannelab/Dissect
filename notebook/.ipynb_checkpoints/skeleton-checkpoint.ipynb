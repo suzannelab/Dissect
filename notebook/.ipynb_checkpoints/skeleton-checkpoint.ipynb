{
 "cells": [
  {
   "cell_type": "code",
   "execution_count": 14,
   "metadata": {},
   "outputs": [],
   "source": [
    "from CellSeg.skel import Skel\n",
    "import os\n",
    "from skimage import io\n",
    "import numpy as np\n",
    "import pandas as pd\n",
    "import copy\n",
    "import sys\n",
    "import matplotlib.pyplot as plt\n",
    "sys.setrecursionlimit(10000)"
   ]
  },
  {
   "cell_type": "code",
   "execution_count": 9,
   "metadata": {},
   "outputs": [
    {
     "name": "stdout",
     "output_type": "stream",
     "text": [
      "reading: 8201 critical points\n",
      "reading: 7548 filaments\n",
      "reading: critical points data\n",
      "critical points done\n",
      "reading: filaments data\n",
      "Writing skeleton vtp file /home/admin-suz/Documents/testCellSeg/Test2/image_original.vtp \n",
      "\n"
     ]
    }
   ],
   "source": [
    "directory='/home/admin-suz/Documents/testCellSeg/Test2/'\n",
    "# import image\n",
    "skeleton = Skel(os.path.join(directory,'C1-20190813_sqhRFPt3B_X_DllGal4-armGFP_001to006.czi-20190813_sqhRFPt3B_X_DllGal4-armGFP_001to006-nb5.fits_c1e+03.up.NDskl.a.NDskl'))\n",
    "\n",
    "if skeleton.isValid():\n",
    "    skeleton.write_vtp(os.path.join(directory, \"image_original.vtp\"))\n",
    "else:\n",
    "    raise nameError('skeleton not valid')   "
   ]
  },
  {
   "cell_type": "code",
   "execution_count": 8,
   "metadata": {},
   "outputs": [
    {
     "name": "stdout",
     "output_type": "stream",
     "text": [
      "Writing skeleton vtp file /home/admin-suz/Documents/testCellSeg/Test2/removefil.vtp \n",
      "\n"
     ]
    }
   ],
   "source": [
    "keep_going = True\n",
    "\n",
    "while keep_going:\n",
    "    keep_going = False\n",
    "    # Récupérer les points critiques à supprimer\n",
    "    cp_to_keep = []\n",
    "    for c in skeleton.crit:\n",
    "        if c.nfil < 2:\n",
    "            cp_to_keep.append(False)\n",
    "        else : \n",
    "            cp_to_keep.append(True)\n",
    "\n",
    "    # Supprimer les points critiques\n",
    "    skeleton.crit[:] = np.array(skeleton.crit)[cp_to_keep]\n",
    "\n",
    "\n",
    "    fil_to_keep = []\n",
    "    for f in skeleton.fil:\n",
    "\n",
    "        if f.cp1 not in skeleton.crit:\n",
    "            fil_to_keep.append(False)\n",
    "            for i in range(len(skeleton.crit)):\n",
    "                if f.cp2 == skeleton.crit[i]:\n",
    "                    keep_going = True\n",
    "                    skeleton.crit[i].filId.remove(f)\n",
    "                    skeleton.crit[i].destCritId.remove(f.cp1)\n",
    "                    break\n",
    "            #if f.cp1.nfil == 1:\n",
    "            #    skeleton.crit.remove(f.cp1)\n",
    "\n",
    "        elif f.cp2 not in skeleton.crit:\n",
    "            fil_to_keep.append(False)\n",
    "            for i in range(len(skeleton.crit)):\n",
    "                if f.cp1 == skeleton.crit[i]:\n",
    "                    keep_going = True\n",
    "                    skeleton.crit[i].filId.remove(f)\n",
    "                    skeleton.crit[i].destCritId.remove(f.cp2)\n",
    "                    break\n",
    "            #if f.cp2.nfil == 1:\n",
    "            #    skeleton.crit.remove(f.cp2)\n",
    "                \n",
    "        else:\n",
    "            fil_to_keep.append(True)\n",
    "\n",
    "\n",
    "    # Supprimer les filaments\n",
    "    skeleton.fil[:] = np.array(skeleton.fil)[fil_to_keep]\n",
    "        \n",
    "\n",
    "if skeleton.isValid():\n",
    "    skeleton.write_vtp(os.path.join(directory, \"removefil.vtp\"))\n",
    "else:\n",
    "    raise nameError('skeleton not valid')        "
   ]
  },
  {
   "cell_type": "code",
   "execution_count": 16,
   "metadata": {},
   "outputs": [],
   "source": [
    "#Original image stack\n",
    "img0 = io.imread(os.path.join(directory, \"C1-20190813_sqhRFPt3B_X_DllGal4-armGFP_001to006.czi-20190813_sqhRFPt3B_X_DllGal4-armGFP_001to006-nb5.tif\"))\n",
    "\n",
    "\n",
    "\n",
    "#for f in skeleton.fil:\n",
    "#    for p in f.points: "
   ]
  },
  {
   "cell_type": "code",
   "execution_count": null,
   "metadata": {},
   "outputs": [],
   "source": [
    "out = np.zeros(img0.shape).astype(np.float)\n",
    "out.shape"
   ]
  },
  {
   "cell_type": "code",
   "execution_count": null,
   "metadata": {},
   "outputs": [],
   "source": [
    "for f in skeleton.fil:\n",
    "    for p in f.points: \n",
    "        "
   ]
  },
  {
   "cell_type": "code",
   "execution_count": null,
   "metadata": {},
   "outputs": [],
   "source": []
  },
  {
   "cell_type": "code",
   "execution_count": null,
   "metadata": {},
   "outputs": [],
   "source": []
  },
  {
   "cell_type": "code",
   "execution_count": null,
   "metadata": {},
   "outputs": [],
   "source": []
  },
  {
   "cell_type": "code",
   "execution_count": null,
   "metadata": {},
   "outputs": [],
   "source": []
  },
  {
   "cell_type": "code",
   "execution_count": 10,
   "metadata": {},
   "outputs": [],
   "source": [
    "# Trimage sur la field value moyenne d'un segment\n",
    "\n",
    "threshold = 1500\n",
    "new_fil = []\n",
    "\n",
    "for i,f in enumerate(skeleton.fil):\n",
    "    field_value = 0\n",
    "    for d in f.data :\n",
    "        field_value+=d[0]\n",
    "        \n",
    "    field_value/=f.nsamp\n",
    "    \n",
    "    if field_value>threshold:\n",
    "        new_fil.append(f)\n",
    "\n",
    "#liste des points critiques\n",
    "new_crit=[]\n",
    "for i,f in enumerate(new_fil):\n",
    "    new_crit.append(f.cp2)\n",
    "    new_crit.append(f.cp1)\n",
    "    "
   ]
  },
  {
   "cell_type": "code",
   "execution_count": 11,
   "metadata": {
    "scrolled": true
   },
   "outputs": [
    {
     "name": "stdout",
     "output_type": "stream",
     "text": [
      "Writing skeleton vtp file /home/admin-suz/Documents/testDisperse/skeleton/trimer_1500.vtp \n",
      "\n"
     ]
    }
   ],
   "source": [
    "new_skeleton = copy.deepcopy(skeleton)\n",
    "new_skeleton.fil = new_fil\n",
    "new_skeleton.crit = new_crit\n",
    "\n",
    "# liste de point critique unique\n",
    "i = 0\n",
    "while i<len(new_skeleton.crit):\n",
    "    if new_skeleton.crit.index(new_skeleton.crit[i]) != i:\n",
    "        del new_skeleton.crit[new_skeleton.crit.index(new_skeleton.crit[i])]\n",
    "    else:\n",
    "        i+=1\n",
    "    \n",
    "if new_skeleton.isValid():\n",
    "    new_skeleton.write_vtp(os.path.join(directory, \"trimer_\"+str(threshold)+\".vtp\"))\n",
    "else:\n",
    "    raise nameError('skeleton not valid')\n",
    "skeleton = copy.deepcopy(new_skeleton)  \n",
    "save_skeleton = copy.deepcopy(skeleton)"
   ]
  },
  {
   "cell_type": "code",
   "execution_count": null,
   "metadata": {},
   "outputs": [],
   "source": [
    "# Creation d'un sheet\n",
    "\n",
    "# Creation d'un tableau de vertex\n",
    "vert_df= pd.DataFrame(columns=['x', 'y', 'z', 'pos'])\n",
    "\n",
    "i=0\n",
    "for c in skeleton.crit:\n",
    "    if c.typ == 3 and c.nfil>2:\n",
    "        vert_df.loc[i] = [c.pos[0], c.pos[1], c.pos[2], c]\n",
    "        i+=1"
   ]
  },
  {
   "cell_type": "code",
   "execution_count": null,
   "metadata": {},
   "outputs": [],
   "source": []
  },
  {
   "cell_type": "code",
   "execution_count": null,
   "metadata": {},
   "outputs": [],
   "source": []
  },
  {
   "cell_type": "code",
   "execution_count": null,
   "metadata": {},
   "outputs": [],
   "source": [
    "import plotly.graph_objects as go\n",
    "import numpy as np\n",
    "\n",
    "fig = go.Figure(data=[go.Scatter3d(\n",
    "    x=vert_df.x,\n",
    "    y=vert_df.y,\n",
    "    z=vert_df.z,\n",
    "    mode='markers',\n",
    "    marker=dict(\n",
    "        size=1,\n",
    "        color=vert_df.z,                # set color to an array/list of desired values\n",
    "        colorscale='Viridis',   # choose a colorscale\n",
    "        opacity=0.8\n",
    "    )\n",
    ")])\n",
    "\n",
    "# tight layout\n",
    "fig.update_layout(margin=dict(l=0, r=0, b=0, t=0))\n",
    "fig.show()"
   ]
  },
  {
   "cell_type": "code",
   "execution_count": null,
   "metadata": {},
   "outputs": [],
   "source": [
    "tmp = []\n",
    "for c in skeleton.crit:\n",
    "    tmp.append(c.skeleton.)"
   ]
  },
  {
   "cell_type": "code",
   "execution_count": null,
   "metadata": {},
   "outputs": [],
   "source": []
  },
  {
   "cell_type": "code",
   "execution_count": null,
   "metadata": {},
   "outputs": [],
   "source": []
  },
  {
   "cell_type": "code",
   "execution_count": null,
   "metadata": {},
   "outputs": [],
   "source": []
  },
  {
   "cell_type": "code",
   "execution_count": null,
   "metadata": {},
   "outputs": [],
   "source": []
  },
  {
   "cell_type": "code",
   "execution_count": null,
   "metadata": {},
   "outputs": [],
   "source": []
  },
  {
   "cell_type": "code",
   "execution_count": null,
   "metadata": {},
   "outputs": [],
   "source": []
  },
  {
   "cell_type": "code",
   "execution_count": null,
   "metadata": {},
   "outputs": [],
   "source": []
  },
  {
   "cell_type": "code",
   "execution_count": null,
   "metadata": {},
   "outputs": [],
   "source": []
  },
  {
   "cell_type": "markdown",
   "metadata": {},
   "source": [
    "## \"Nettoyage du tissu\""
   ]
  },
  {
   "cell_type": "code",
   "execution_count": null,
   "metadata": {
    "scrolled": true
   },
   "outputs": [],
   "source": []
  },
  {
   "cell_type": "code",
   "execution_count": 30,
   "metadata": {},
   "outputs": [],
   "source": [
    "skeleton = copy.deepcopy(save_skeleton)"
   ]
  },
  {
   "cell_type": "code",
   "execution_count": 34,
   "metadata": {},
   "outputs": [
    {
     "name": "stdout",
     "output_type": "stream",
     "text": [
      "Writing skeleton vtp file /home/admin-suz/Documents/testDisperse/skeleton/trimer_1500removefil.vtp \n",
      "\n"
     ]
    }
   ],
   "source": [
    "keep_going = True\n",
    "\n",
    "while keep_going:\n",
    "    keep_going = False\n",
    "    # Récupérer les points critiques à supprimer\n",
    "    cp_to_keep = []\n",
    "    for c in skeleton.crit:\n",
    "        if c.nfil < 2:\n",
    "            cp_to_keep.append(False)\n",
    "        else : \n",
    "            cp_to_keep.append(True)\n",
    "\n",
    "    # Supprimer les points critiques\n",
    "    skeleton.crit[:] = np.array(skeleton.crit)[cp_to_keep]\n",
    "\n",
    "\n",
    "    fil_to_keep = []\n",
    "    for f in skeleton.fil:\n",
    "\n",
    "        if f.cp1 not in skeleton.crit:\n",
    "            fil_to_keep.append(False)\n",
    "            for i in range(len(skeleton.crit)):\n",
    "                if f.cp2 == skeleton.crit[i]:\n",
    "                    keep_going = True\n",
    "                    skeleton.crit[i].filId.remove(f)\n",
    "                    skeleton.crit[i].destCritId.remove(f.cp1)\n",
    "                    break\n",
    "            #if f.cp1.nfil == 1:\n",
    "            #    skeleton.crit.remove(f.cp1)\n",
    "\n",
    "        elif f.cp2 not in skeleton.crit:\n",
    "            fil_to_keep.append(False)\n",
    "            for i in range(len(skeleton.crit)):\n",
    "                if f.cp1 == skeleton.crit[i]:\n",
    "                    keep_going = True\n",
    "                    skeleton.crit[i].filId.remove(f)\n",
    "                    skeleton.crit[i].destCritId.remove(f.cp2)\n",
    "                    break\n",
    "            #if f.cp2.nfil == 1:\n",
    "            #    skeleton.crit.remove(f.cp2)\n",
    "                \n",
    "        else:\n",
    "            fil_to_keep.append(True)\n",
    "\n",
    "\n",
    "    # Supprimer les filaments\n",
    "    skeleton.fil[:] = np.array(skeleton.fil)[fil_to_keep]\n",
    "        \n",
    "\n",
    "if skeleton.isValid():\n",
    "    skeleton.write_vtp(os.path.join(directory, \"trimer_\"+str(threshold)+\"removefil\"+\".vtp\"))\n",
    "else:\n",
    "    raise nameError('skeleton not valid')        "
   ]
  },
  {
   "cell_type": "code",
   "execution_count": null,
   "metadata": {},
   "outputs": [],
   "source": []
  },
  {
   "cell_type": "code",
   "execution_count": null,
   "metadata": {},
   "outputs": [],
   "source": []
  },
  {
   "cell_type": "code",
   "execution_count": null,
   "metadata": {},
   "outputs": [],
   "source": []
  },
  {
   "cell_type": "code",
   "execution_count": null,
   "metadata": {},
   "outputs": [],
   "source": []
  },
  {
   "cell_type": "code",
   "execution_count": null,
   "metadata": {},
   "outputs": [],
   "source": []
  },
  {
   "cell_type": "code",
   "execution_count": null,
   "metadata": {
    "scrolled": true
   },
   "outputs": [],
   "source": [
    "skeleton = copy.deepcopy(new_skeleton)\n",
    "continu=1\n",
    "cpt=0\n",
    "while continu:\n",
    "    cpt+=1\n",
    "    continu=0\n",
    "    for i,f in enumerate(skeleton.fil):\n",
    "        if (f.cp2.nfil < 2) or (f.cp1.nfil < 2):\n",
    "            continu=1\n",
    "            break\n",
    "        \n",
    "    new_fil = []\n",
    "    for i,f in enumerate(skeleton.fil):\n",
    "        if (f.cp2.nfil > 2) :\n",
    "            new_fil.append(f)\n",
    "        \n",
    "    for f in new_fil:\n",
    "        if f not in skeleton.fil : \n",
    "            if f.cp2.nfil == 1:\n",
    "                for i in range (len(skeleton.crit)):\n",
    "                    if skeleton.crit[i] == f.cp2:\n",
    "                        skeleton.crit[i].unconnect_fil(0)\n",
    "            elif f.cp1.nfil == 1:\n",
    "                for i in range (len(skeleton.crit)):\n",
    "                    if skeleton.crit[i] == f.cp1:\n",
    "                        skeleton.crit[i].unconnect_fil(0)\n",
    "                        \n",
    "\n",
    "    new_crit=[]\n",
    "    for i,f in enumerate(new_fil):\n",
    "        new_crit.append(f.cp2)\n",
    "        new_crit.append(f.cp1)\n",
    "\n",
    "    new_skeleton = copy.deepcopy(skeleton)\n",
    "    new_skeleton.fil = new_fil\n",
    "    new_skeleton.crit = new_crit\n",
    "\n",
    "    if new_skeleton.isValid():\n",
    "        new_skeleton.write_vtp(os.path.join(directory, \"trimer_\"+str(threshold)+\"removefil\"+str(cpt)+\".vtp\"))\n",
    "    else:\n",
    "        raise nameError('skeleton not valid')"
   ]
  },
  {
   "cell_type": "code",
   "execution_count": null,
   "metadata": {},
   "outputs": [],
   "source": [
    "skeleton.write_vtp(os.path.join(directory, \"trimer_\"+str(threshold)+\"removefil2\"+\".vtp\"))"
   ]
  },
  {
   "cell_type": "code",
   "execution_count": null,
   "metadata": {},
   "outputs": [],
   "source": [
    "l =[] \n",
    "for c in new_skeleton.crit:\n",
    "    l.append(c.typ)\n",
    "np.unique(l)"
   ]
  },
  {
   "cell_type": "code",
   "execution_count": null,
   "metadata": {},
   "outputs": [],
   "source": []
  },
  {
   "cell_type": "code",
   "execution_count": null,
   "metadata": {},
   "outputs": [],
   "source": []
  },
  {
   "cell_type": "code",
   "execution_count": null,
   "metadata": {},
   "outputs": [],
   "source": [
    "skeleton = copy.deepcopy(new_skeleton)\n",
    "continu=1\n",
    "while continu:\n",
    "    cpt+=1\n",
    "    continu=0\n",
    "    \n",
    "    skeleton = copy.deepcopy(new_skeleton)\n",
    "    for i,f in enumerate(skeleton.fil):\n",
    "        if (f.cp2.boundary ==1) or (f.cp1.boundary==1):\n",
    "            continu=1\n",
    "            break\n",
    "        \n",
    "    new_fil = []\n",
    "    for i,f in enumerate(skeleton.fil):\n",
    "        if (f.cp2.boundary==0) and (f.cp1.boundary==0):\n",
    "            new_fil.append(f)\n",
    "\n",
    "            new_crit=[]\n",
    "    for i,f in enumerate(new_fil):\n",
    "        new_crit.append(f.cp2)\n",
    "        new_crit.append(f.cp1)\n",
    "\n",
    "    new_skeleton = copy.deepcopy(skeleton)\n",
    "    new_skeleton.fil = new_fil\n",
    "    new_skeleton.crit = new_crit\n",
    "\n",
    "    if new_skeleton.isValid():\n",
    "        new_skeleton.write_vtp(os.path.join(directory, \"trimer_\"+str(threshold)+\"removefil\"+\".vtp\"))\n",
    "    else:\n",
    "        raise nameError('skeleton not valid')"
   ]
  },
  {
   "cell_type": "code",
   "execution_count": null,
   "metadata": {},
   "outputs": [],
   "source": [
    "skeleton = copy.deepcopy(new_skeleton)\n",
    "\n",
    "new_fil = []\n",
    "for i,f in enumerate(skeleton.fil):\n",
    "    if f.len <30 :\n",
    "        new_fil.append(f)\n",
    "\n",
    "new_crit=[]\n",
    "for i,f in enumerate(new_fil):\n",
    "    new_crit.append(f.cp2)\n",
    "    new_crit.append(f.cp1)\n",
    "\n",
    "new_skeleton = copy.deepcopy(skeleton)\n",
    "new_skeleton.fil = new_fil\n",
    "new_skeleton.crit = new_crit\n",
    "\n",
    "if new_skeleton.isValid():\n",
    "    new_skeleton.write_vtp(os.path.join(directory, \"trimer_\"+str(threshold)+\"removefil\"+\".vtp\"))\n",
    "else:\n",
    "    raise nameError('skeleton not valid')\n",
    "    \n",
    "skeleton = copy.deepcopy(new_skeleton)"
   ]
  },
  {
   "cell_type": "markdown",
   "metadata": {},
   "source": [
    "## Liaison des fils entre 2 points critiques"
   ]
  },
  {
   "cell_type": "code",
   "execution_count": null,
   "metadata": {},
   "outputs": [],
   "source": [
    "crit_3f = []\n",
    "for c in skeleton.crit:\n",
    "    if c.nfil == 3:\n",
    "        crit_3f.append(c)"
   ]
  },
  {
   "cell_type": "code",
   "execution_count": null,
   "metadata": {},
   "outputs": [],
   "source": [
    "len(crit_3f)"
   ]
  },
  {
   "cell_type": "code",
   "execution_count": null,
   "metadata": {},
   "outputs": [],
   "source": [
    "skeleton.fil[0].points"
   ]
  },
  {
   "cell_type": "code",
   "execution_count": null,
   "metadata": {},
   "outputs": [],
   "source": [
    "print(skeleton.fil[0].cp1.pos)\n",
    "print(skeleton.fil[0].cp2.pos)\n"
   ]
  },
  {
   "cell_type": "code",
   "execution_count": null,
   "metadata": {},
   "outputs": [],
   "source": []
  },
  {
   "cell_type": "code",
   "execution_count": null,
   "metadata": {},
   "outputs": [],
   "source": [
    "continu=1\n",
    "cpt = 0\n",
    "while continu:\n",
    "    cpt+=1\n",
    "    continu=0\n",
    "    skeleton = copy.deepcopy(new_skeleton)\n",
    "    for i,f in enumerate(skeleton.fil):\n",
    "        if f.cp2.nfil < 2:\n",
    "            continu=1\n",
    "            break        \n",
    "    new_fil = []\n",
    "    for i,f in enumerate(skeleton.fil):\n",
    "        if f.cp2.nfil >= 2:\n",
    "            new_fil.append(f)\n",
    "\n",
    "            new_crit=[]\n",
    "    for i,f in enumerate(new_fil):\n",
    "        new_crit.append(f.cp2)\n",
    "        new_crit.append(f.cp1)\n",
    "\n",
    "    new_skeleton = copy.deepcopy(skeleton)\n",
    "    new_skeleton.fil = new_fil\n",
    "    new_skeleton.crit = new_crit\n",
    "\n",
    "    if new_skeleton.isValid():\n",
    "        new_skeleton.write_vtp(os.path.join(directory, \"trimer_\"+str(threshold)+\"removefil\"+\".vtp\"))\n",
    "    else:\n",
    "        raise nameError('skeleton not valid')"
   ]
  },
  {
   "cell_type": "code",
   "execution_count": null,
   "metadata": {},
   "outputs": [],
   "source": []
  },
  {
   "cell_type": "code",
   "execution_count": null,
   "metadata": {},
   "outputs": [],
   "source": []
  },
  {
   "cell_type": "code",
   "execution_count": null,
   "metadata": {},
   "outputs": [],
   "source": []
  },
  {
   "cell_type": "code",
   "execution_count": null,
   "metadata": {},
   "outputs": [],
   "source": [
    "new_skeleton.fil_data_name"
   ]
  },
  {
   "cell_type": "code",
   "execution_count": null,
   "metadata": {},
   "outputs": [],
   "source": [
    "skeleton.fil[0].data"
   ]
  },
  {
   "cell_type": "code",
   "execution_count": null,
   "metadata": {},
   "outputs": [],
   "source": []
  },
  {
   "cell_type": "code",
   "execution_count": null,
   "metadata": {},
   "outputs": [],
   "source": []
  },
  {
   "cell_type": "code",
   "execution_count": null,
   "metadata": {},
   "outputs": [],
   "source": []
  },
  {
   "cell_type": "code",
   "execution_count": null,
   "metadata": {},
   "outputs": [],
   "source": []
  },
  {
   "cell_type": "code",
   "execution_count": null,
   "metadata": {},
   "outputs": [],
   "source": []
  },
  {
   "cell_type": "code",
   "execution_count": null,
   "metadata": {},
   "outputs": [],
   "source": []
  },
  {
   "cell_type": "code",
   "execution_count": null,
   "metadata": {},
   "outputs": [],
   "source": [
    "## Creation d'un nouveau skelete \n",
    "## sauvegarde d'un nouveau skeleton\n",
    "\n",
    "# liste des filaments\n",
    "fil2=[]\n",
    "for i,f in enumerate(skeleton.fil):\n",
    "    if f.cp2.nfil >2:\n",
    "        fil2.append(f)\n",
    "        \n",
    "# nombre de point critique au départ, nombre de point critique ayant plus de trois filaments\n",
    "#print(len(skeleton.crit), len(crit_nfil3))\n",
    "\n",
    "#liste des points critiques\n",
    "crit2=[]\n",
    "for i,f in enumerate(fil2):\n",
    "    crit2.append(f.cp2)\n",
    "    crit2.append(f.cp1)\n",
    "    \n",
    "\n",
    "    \n",
    "new_skeleton.crit=crit2\n",
    "new_skeleton.fil=fil2\n",
    "\n",
    "\n",
    "new_skeleton.isValid()\n",
    "\n",
    "new_skeleton.write_vtp(\"filename.vtp\")\n",
    "\n",
    "\n"
   ]
  },
  {
   "cell_type": "code",
   "execution_count": null,
   "metadata": {},
   "outputs": [],
   "source": [
    "skeleton.fil_data_name\n",
    "skeleton.fil[0].data\n",
    "# liste des colonnes du tableau des points critiques\n",
    "skeleton.crit_data_name\n",
    "\n"
   ]
  },
  {
   "cell_type": "code",
   "execution_count": null,
   "metadata": {},
   "outputs": [],
   "source": []
  },
  {
   "cell_type": "code",
   "execution_count": null,
   "metadata": {},
   "outputs": [],
   "source": []
  },
  {
   "cell_type": "code",
   "execution_count": null,
   "metadata": {},
   "outputs": [],
   "source": []
  },
  {
   "cell_type": "code",
   "execution_count": null,
   "metadata": {},
   "outputs": [],
   "source": []
  },
  {
   "cell_type": "code",
   "execution_count": null,
   "metadata": {},
   "outputs": [],
   "source": []
  },
  {
   "cell_type": "code",
   "execution_count": null,
   "metadata": {},
   "outputs": [],
   "source": []
  },
  {
   "cell_type": "code",
   "execution_count": null,
   "metadata": {},
   "outputs": [],
   "source": []
  },
  {
   "cell_type": "code",
   "execution_count": null,
   "metadata": {},
   "outputs": [],
   "source": []
  },
  {
   "cell_type": "code",
   "execution_count": null,
   "metadata": {},
   "outputs": [],
   "source": []
  },
  {
   "cell_type": "code",
   "execution_count": null,
   "metadata": {},
   "outputs": [],
   "source": []
  },
  {
   "cell_type": "code",
   "execution_count": null,
   "metadata": {},
   "outputs": [],
   "source": []
  },
  {
   "cell_type": "code",
   "execution_count": null,
   "metadata": {},
   "outputs": [],
   "source": []
  },
  {
   "cell_type": "code",
   "execution_count": null,
   "metadata": {},
   "outputs": [],
   "source": []
  },
  {
   "cell_type": "code",
   "execution_count": null,
   "metadata": {},
   "outputs": [],
   "source": []
  },
  {
   "cell_type": "code",
   "execution_count": null,
   "metadata": {},
   "outputs": [],
   "source": []
  }
 ],
 "metadata": {
  "kernelspec": {
   "display_name": "Python 3",
   "language": "python",
   "name": "python3"
  },
  "language_info": {
   "codemirror_mode": {
    "name": "ipython",
    "version": 3
   },
   "file_extension": ".py",
   "mimetype": "text/x-python",
   "name": "python",
   "nbconvert_exporter": "python",
   "pygments_lexer": "ipython3",
   "version": "3.7.6"
  }
 },
 "nbformat": 4,
 "nbformat_minor": 2
}

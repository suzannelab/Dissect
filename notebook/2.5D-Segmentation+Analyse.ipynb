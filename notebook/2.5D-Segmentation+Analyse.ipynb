{
 "cells": [
  {
   "cell_type": "code",
   "execution_count": 1,
   "metadata": {},
   "outputs": [],
   "source": [
    "from Dissects.io import (load_NDskl, \n",
    "                         load_image,\n",
    "                         load_skeleton,\n",
    "                         save_skeleton,\n",
    "                         save_fits\n",
    "                        )\n",
    "from Dissects.image import (z_project,\n",
    "                            thinning,\n",
    "                            dilation)\n",
    "from Dissects.geometry import Skeleton\n",
    "from Dissects.segmentation.seg_2D import (segmentation, \n",
    "                                          junction_around_cell,\n",
    "                                         vertices,\n",
    "                                         junctions,\n",
    "                                         generate_mesh)\n",
    "\n",
    "\n",
    "from Dissects.analysis.analysis import (general_analysis,\n",
    "                              cellstats\n",
    "                              )\n",
    "from skimage import morphology\n",
    "from Dissects.analysis.analysis_3D_apical import (update_geom,\n",
    "                                         junction_intensity,\n",
    "                                         morphology_analysis)"
   ]
  },
  {
   "cell_type": "code",
   "execution_count": 2,
   "metadata": {},
   "outputs": [],
   "source": [
    "import os\n",
    "\n",
    "from skimage import io\n",
    "import numpy as np\n",
    "import pandas as pd\n",
    "import copy\n",
    "import sys\n",
    "import matplotlib.pyplot as plt\n",
    "sys.setrecursionlimit(10000)\n",
    "\n",
    "import plotly.express as px\n",
    "\n",
    "from scipy.ndimage.morphology import (binary_fill_holes,\n",
    "                                      binary_dilation,\n",
    "                                     )\n",
    "from scipy import ndimage\n",
    "import scipy as sci\n",
    "# %matplotlib notebook\n",
    "%load_ext snakeviz"
   ]
  },
  {
   "cell_type": "code",
   "execution_count": 3,
   "metadata": {},
   "outputs": [
    {
     "name": "stderr",
     "output_type": "stream",
     "text": [
      "/home/admin-suz/miniconda3/lib/python3.8/site-packages/Dissects-0.0.1-py3.8.egg/Dissects/geometry/skeleton.py:24: UserWarning: Has pixel can be half pixel from DisPerSE output,                   we take the integer part of xyz values. \n",
      "  warnings.warn(\"Has pixel can be half pixel from DisPerSE output, \\\n"
     ]
    }
   ],
   "source": [
    "directory='/media/admin-suz/Datas/testCellSeg/Test1/'\n",
    "cp, fil, point, specs = load_NDskl(os.path.join(directory,'im_bin4_3d.fits_c1e+03.up.NDskl.a.NDskl'))\n",
    "\n",
    "# #create skeleton object\n",
    "skel = Skeleton(cp, fil, point, specs)"
   ]
  },
  {
   "cell_type": "code",
   "execution_count": null,
   "metadata": {},
   "outputs": [
    {
     "name": "stderr",
     "output_type": "stream",
     "text": [
      "/home/admin-suz/miniconda3/lib/python3.8/site-packages/Dissects-0.0.1-py3.8.egg/Dissects/geometry/skeleton.py:60: UserWarning: specs dictionnary is not updated, ncrit value is not updated.\n",
      "  warnings.warn(\n"
     ]
    }
   ],
   "source": [
    "#Clean skeleton\n",
    "skel.remove_lonely_cp()\n",
    "skel.remove_free_filament()"
   ]
  },
  {
   "cell_type": "code",
   "execution_count": null,
   "metadata": {},
   "outputs": [],
   "source": [
    "skel.specs"
   ]
  },
  {
   "cell_type": "code",
   "execution_count": null,
   "metadata": {},
   "outputs": [],
   "source": []
  },
  {
   "cell_type": "code",
   "execution_count": null,
   "metadata": {},
   "outputs": [],
   "source": []
  },
  {
   "cell_type": "code",
   "execution_count": null,
   "metadata": {},
   "outputs": [],
   "source": []
  },
  {
   "cell_type": "code",
   "execution_count": null,
   "metadata": {},
   "outputs": [],
   "source": [
    "# get original image\n",
    "\n",
    "img0 = io.imread(os.path.join(directory, \"C1-20171214_sqh-GFP_ap-alpha-cat-RFP_WP2h-001-dorsal_AiSc_green_bin4.tif\"))\n",
    "img_output = img0.copy()\n",
    "img_output = np.where(img_output>0, 0, img_output) \n",
    "w = 0\n",
    "\n",
    "for _, p in skel.point.iterrows(): \n",
    "    if w != 0:\n",
    "        for z_ in range(int(p.z)-w,int(p.z)+w):\n",
    "            for y_ in range(int(p.y)-w,int(p.y)+w):\n",
    "                for x_ in range(int(p.x)-w,int(p.x)+w):\n",
    "                    try:\n",
    "                        img_output[z_][y_][x_]=1\n",
    "                    except:\n",
    "                        pass\n",
    "    else : \n",
    "        x_=int(p.x)\n",
    "        y_=int(p.y)\n",
    "        z_=int(p.z)\n",
    "        img_output[z_][y_][x_]=1\n",
    "img_binary_3d = img_output.copy()\n",
    "\n",
    "# Need a skeletonization to avoid vertex detection problem\n",
    "img_binary_3d = morphology.skeletonize(img_binary_3d)\n",
    "#io.imsave('binary_images.tif', img_output)"
   ]
  },
  {
   "cell_type": "code",
   "execution_count": null,
   "metadata": {},
   "outputs": [],
   "source": []
  },
  {
   "cell_type": "code",
   "execution_count": null,
   "metadata": {
    "scrolled": false
   },
   "outputs": [],
   "source": []
  },
  {
   "cell_type": "code",
   "execution_count": null,
   "metadata": {},
   "outputs": [],
   "source": []
  },
  {
   "cell_type": "code",
   "execution_count": null,
   "metadata": {},
   "outputs": [],
   "source": []
  },
  {
   "cell_type": "markdown",
   "metadata": {},
   "source": [
    "# 3D vertex detection"
   ]
  },
  {
   "cell_type": "code",
   "execution_count": null,
   "metadata": {},
   "outputs": [],
   "source": [
    "from Dissects.segmentation.seg_3D_apical import (generate_segmentation)"
   ]
  },
  {
   "cell_type": "code",
   "execution_count": null,
   "metadata": {},
   "outputs": [],
   "source": [
    "face_df, edge_df, vert_df = generate_segmentation(img_binary_3d)\n"
   ]
  },
  {
   "cell_type": "code",
   "execution_count": null,
   "metadata": {},
   "outputs": [],
   "source": [
    "vert_df_save = vert_df.copy(deep=True)\n",
    "edge_df_save = edge_df.copy(deep=True)\n",
    "face_df_save = face_df.copy(deep=True)"
   ]
  },
  {
   "cell_type": "code",
   "execution_count": null,
   "metadata": {},
   "outputs": [],
   "source": [
    "import plotly.graph_objects as go\n",
    "\n",
    "z0, y0,x0 = np.where(img_binary_3d==1)\n",
    "fond = go.Scatter3d(x=x0,\n",
    "                      y=y0,\n",
    "                      z=z0,\n",
    "                      mode='markers',\n",
    "                     marker=dict(\n",
    "                        size=2,\n",
    "                        color='black',\n",
    "                        opacity=0.1\n",
    "                     )\n",
    "    )\n",
    "\n",
    "\n",
    "vertex_isolated = go.Scatter3d(x=vert_df.x,\n",
    "                      y=vert_df.y,\n",
    "                      z=vert_df.z,\n",
    "                      mode='markers',\n",
    "                     marker=dict(\n",
    "                        size=2,\n",
    "                        color='red', \n",
    "                        opacity=1\n",
    "                     )\n",
    "    )\n",
    "\n",
    "\n",
    "fig = go.Figure(data=[fond, vertex_isolated], )\n",
    "fig.update_layout(title='Filament', \n",
    "                  autosize=False,\n",
    "                  width=1000,\n",
    "                  height=1000,\n",
    "                  margin=dict(l=65, r=50, b=65, t=90),\n",
    "                 )\n",
    "\n",
    "\n",
    "from matplotlib.colors import ListedColormap\n",
    "\n",
    "\n",
    "zs,ys,xs = vert_df.loc[edge_df['srce']].values.flatten(order='F').reshape(3,edge_df.shape[0])\n",
    "zt,yt,xt = vert_df.loc[edge_df['trgt']].values.flatten(order='F').reshape(3,edge_df.shape[0])\n",
    "\n",
    "rand = (np.random.rand(len(zs),3)*255).astype('int')\n",
    "rand[0] = 0\n",
    "cmap_rand = ListedColormap(rand)\n",
    "for i in range(len(zs)):\n",
    "    \n",
    "    fig.add_trace(\n",
    "            go.Scatter3d(\n",
    "                x=[xs[i], xt[i]],\n",
    "                y=[ys[i], yt[i]],\n",
    "                z=[zs[i], zt[i]],\n",
    "                mode='lines',\n",
    "                line={\"color\":rand[[i,i,i]],\n",
    "                      \"width\":10,\n",
    "                     },                \n",
    "            )\n",
    "        )\n",
    "\n",
    "\n",
    "fig['layout'].update(scene=dict(aspectmode=\"data\"), showlegend=False)\n",
    "fig.show()"
   ]
  },
  {
   "cell_type": "code",
   "execution_count": null,
   "metadata": {},
   "outputs": [],
   "source": [
    "import plotly.graph_objects as go\n",
    "from matplotlib.colors import ListedColormap\n",
    "rand = (np.random.rand(200,3)*255).astype('int')\n",
    "rand[0] = 0\n",
    "cmap_rand = ListedColormap(rand)\n",
    "\n",
    "\n",
    "plot_face=[]\n",
    "import matplotlib as mpl\n",
    "import random \n",
    "fill_colors=list(mpl.colors.cnames.values())\n",
    "random.shuffle(fill_colors)\n",
    "for f in (np.unique(edge_df.face)[1:]):\n",
    "    \n",
    "    try:\n",
    "        edges= edge_df[edge_df.face==f]\n",
    "        nb_vert = len(edges)\n",
    "        vert_order = [edges.iloc[0].srce]\n",
    "        for i in range(nb_vert):\n",
    "            vert_order.append(edges[edges.trgt==vert_order[-1]]['srce'].to_numpy()[0])\n",
    "        zs=vert_df.loc[vert_order].z.to_numpy()\n",
    "        ys=vert_df.loc[vert_order].y.to_numpy()\n",
    "        xs=vert_df.loc[vert_order].x.to_numpy()\n",
    "        plot_face.append(dict(\n",
    "            type='scatter3d',\n",
    "            mode='lines',\n",
    "            x=xs,\n",
    "            y=ys,\n",
    "            z=zs,\n",
    "            name='',\n",
    "            surfaceaxis=2, # add a surface axis ('1' refers to axes[1] i.e. the y-axis)\n",
    "            surfacecolor=fill_colors[f],\n",
    "            line=dict(\n",
    "                color='black',\n",
    "                width=4\n",
    "            ),\n",
    "        ))\n",
    "    except:\n",
    "        print(f)\n",
    "    \n",
    "    \n",
    "    \n",
    "plot_face.append(fond)\n",
    "plot_face.append(vertex_isolated)\n",
    "fig = go.Figure(data=plot_face, )\n",
    "fig.update_layout(title='Filament', \n",
    "                  autosize=False,\n",
    "                  width=1000,\n",
    "                  height=1000,\n",
    "                  margin=dict(l=65, r=50, b=65, t=90),\n",
    "                 )\n",
    "\n",
    "fig['layout'].update(scene=dict(aspectmode=\"data\"), showlegend=False)\n",
    "fig.show()"
   ]
  },
  {
   "cell_type": "code",
   "execution_count": null,
   "metadata": {},
   "outputs": [],
   "source": []
  },
  {
   "cell_type": "code",
   "execution_count": null,
   "metadata": {},
   "outputs": [],
   "source": []
  },
  {
   "cell_type": "code",
   "execution_count": null,
   "metadata": {},
   "outputs": [],
   "source": []
  },
  {
   "cell_type": "code",
   "execution_count": null,
   "metadata": {
    "scrolled": true
   },
   "outputs": [],
   "source": [
    "fsdfsdf"
   ]
  },
  {
   "cell_type": "code",
   "execution_count": null,
   "metadata": {
    "scrolled": false
   },
   "outputs": [],
   "source": []
  },
  {
   "cell_type": "code",
   "execution_count": null,
   "metadata": {},
   "outputs": [],
   "source": [
    "vert_df = vert_df_save.copy(deep=True)\n",
    "edge_df = edge_df_save.copy(deep=True)\n",
    "face_df = face_df_save.copy(deep=True)"
   ]
  },
  {
   "cell_type": "code",
   "execution_count": null,
   "metadata": {},
   "outputs": [],
   "source": []
  },
  {
   "cell_type": "markdown",
   "metadata": {},
   "source": [
    "# Analyse"
   ]
  },
  {
   "cell_type": "code",
   "execution_count": null,
   "metadata": {},
   "outputs": [],
   "source": [
    "from Dissects.analysis.analysis_3D_apical import (update_geom,\n",
    "                                         junction_intensity,\n",
    "                                         morphology_analysis)"
   ]
  },
  {
   "cell_type": "code",
   "execution_count": null,
   "metadata": {},
   "outputs": [],
   "source": [
    "# morphometry analysis\n",
    "update_geom(face_df, edge_df, vert_df)\n",
    "morphology_analysis(face_df, edge_df, vert_df)"
   ]
  },
  {
   "cell_type": "code",
   "execution_count": null,
   "metadata": {},
   "outputs": [],
   "source": [
    "# import image original\n",
    "# get original image\n",
    "\n",
    "img_myosin = io.imread(os.path.join(directory, \n",
    "                              \"C1-20171214_sqh-GFP_ap-alpha-cat-RFP_WP2h-001-dorsal_AiSc_green_bin4.tif\"))\n"
   ]
  },
  {
   "cell_type": "code",
   "execution_count": null,
   "metadata": {},
   "outputs": [],
   "source": []
  },
  {
   "cell_type": "markdown",
   "metadata": {},
   "source": [
    "## Mesure d'intensité au niveau des jonctions"
   ]
  },
  {
   "cell_type": "code",
   "execution_count": null,
   "metadata": {
    "scrolled": true
   },
   "outputs": [],
   "source": [
    "junction_intensity(img_myosin, edge_df, 'myosin_intensity')"
   ]
  },
  {
   "cell_type": "code",
   "execution_count": null,
   "metadata": {},
   "outputs": [],
   "source": []
  },
  {
   "cell_type": "code",
   "execution_count": null,
   "metadata": {},
   "outputs": [],
   "source": [
    "# plot prot intensity\n",
    "\n",
    "import plotly.graph_objects as go\n",
    "\n",
    "z0, y0,x0 = np.where(img_binary_3d==1)\n",
    "fond = go.Scatter3d(x=x0,\n",
    "                      y=y0,\n",
    "                      z=z0,\n",
    "                      mode='markers',\n",
    "                     marker=dict(\n",
    "                        size=2,\n",
    "                        color='black',\n",
    "                        opacity=0.1\n",
    "                     )\n",
    "    )\n",
    "\n",
    "\n",
    "vertex_isolated = go.Scatter3d(x=vert_df.x,\n",
    "                      y=vert_df.y,\n",
    "                      z=vert_df.z,\n",
    "                      mode='markers',\n",
    "                     marker=dict(\n",
    "                        size=2,\n",
    "                        color='red', \n",
    "                        opacity=1\n",
    "                     )\n",
    "    )\n",
    "\n",
    "\n",
    "\n",
    "fig = go.Figure(data=[vertex_isolated], )\n",
    "fig.update_layout(title='Filament', \n",
    "                  autosize=False,\n",
    "                  width=1000,\n",
    "                  height=1000,\n",
    "                  margin=dict(l=65, r=50, b=65, t=90),\n",
    "                 )\n",
    "\n",
    "\n",
    "\n",
    "zs,ys,xs = vert_df.loc[edge_df['srce']][list('zyx')].values.flatten(order='F').reshape(3, edge_df.shape[0])\n",
    "zt,yt,xt = vert_df.loc[edge_df['trgt']][list('zyx')].values.flatten(order='F').reshape(3, edge_df.shape[0])\n",
    "c = (edge_df.myosin_intensity/np.max(edge_df.myosin_intensity)*255).astype('int')\n",
    "\n",
    "import pylab as pl\n",
    "cmap = pl.cm.coolwarm\n",
    "\n",
    "\n",
    "for i in range(len(zs)):\n",
    "    \n",
    "    fig.add_trace(\n",
    "            go.Scatter3d(\n",
    "                x=[xs[i], xt[i]],\n",
    "                y=[ys[i], yt[i]],\n",
    "                z=[zs[i], zt[i]],\n",
    "                mode='lines',\n",
    "                line={\"color\":[cmap(c[i]), cmap(c[i])],\n",
    "                      \"width\":10,\n",
    "                     },                \n",
    "            )\n",
    "        )\n",
    "\n",
    "\n",
    "fig['layout'].update(scene=dict(aspectmode=\"data\"), showlegend=False)\n",
    "fig.show()"
   ]
  },
  {
   "cell_type": "code",
   "execution_count": null,
   "metadata": {},
   "outputs": [],
   "source": [
    "# plot area\n",
    "\n",
    "import plotly.graph_objects as go\n",
    "\n",
    "import pylab as pl\n",
    "cmap = pl.cm.cividis\n",
    "# face_df['area']-=face_df.area.min()\n",
    "# area=face_df.area.values/np.max(face_df.area.values)*255\n",
    "plot_face=[]\n",
    "for f in (np.unique(edge_df.face)[1:]):\n",
    "#     print('rgb'+str(cmap(int(ar[f]))))\n",
    "    edges= edge_df[edge_df.face==f]\n",
    "    nb_vert = len(edges)\n",
    "    vert_order = [edges.iloc[0].srce]\n",
    "    for i in range(nb_vert):\n",
    "        vert_order.append(edges[edges.trgt==vert_order[-1]]['srce'].to_numpy()[0])\n",
    "    zs=vert_df.loc[vert_order].z.to_numpy()\n",
    "    ys=vert_df.loc[vert_order].y.to_numpy()\n",
    "    xs=vert_df.loc[vert_order].x.to_numpy()\n",
    "    plot_face.append(dict(\n",
    "        type='scatter3d',\n",
    "        mode='lines',\n",
    "        x=xs,\n",
    "        y=ys,\n",
    "        z=zs,\n",
    "        name='',\n",
    "        surfaceaxis=2, # add a surface axis ('1' refers to axes[1] i.e. the y-axis)\n",
    "        surfacecolor='rgb'+str(cmap(int(face_df['area'].iloc[f-1]))[0:3]),\n",
    "#             surfacecolor=fill_colors[int(ar[f]/2)],\n",
    "        line=dict(\n",
    "            color='black',\n",
    "            width=4\n",
    "        ),\n",
    "    ))\n",
    "   \n",
    "    \n",
    "fig = go.Figure(data=plot_face, )\n",
    "fig.update_layout(title='Filament', \n",
    "                  autosize=False,\n",
    "                  width=1000,\n",
    "                  height=1000,\n",
    "                  margin=dict(l=65, r=50, b=65, t=90),\n",
    "                 )\n",
    "\n",
    "fig['layout'].update(scene=dict(aspectmode=\"data\"), showlegend=False)\n",
    "fig.show()"
   ]
  },
  {
   "cell_type": "code",
   "execution_count": null,
   "metadata": {
    "scrolled": false
   },
   "outputs": [],
   "source": []
  },
  {
   "cell_type": "code",
   "execution_count": null,
   "metadata": {},
   "outputs": [],
   "source": [
    "fsgdfgdg"
   ]
  },
  {
   "cell_type": "code",
   "execution_count": null,
   "metadata": {},
   "outputs": [],
   "source": []
  },
  {
   "cell_type": "code",
   "execution_count": null,
   "metadata": {},
   "outputs": [],
   "source": []
  },
  {
   "cell_type": "code",
   "execution_count": null,
   "metadata": {},
   "outputs": [],
   "source": []
  },
  {
   "cell_type": "code",
   "execution_count": null,
   "metadata": {},
   "outputs": [],
   "source": []
  },
  {
   "cell_type": "code",
   "execution_count": null,
   "metadata": {},
   "outputs": [],
   "source": []
  },
  {
   "cell_type": "markdown",
   "metadata": {},
   "source": [
    "# Analyse au niveau de la face"
   ]
  },
  {
   "cell_type": "code",
   "execution_count": null,
   "metadata": {},
   "outputs": [],
   "source": [
    "from Dissects.analysis.analysis_3D_apical import face_intensity, compute_normal"
   ]
  },
  {
   "cell_type": "code",
   "execution_count": null,
   "metadata": {
    "scrolled": false
   },
   "outputs": [],
   "source": [
    "# define pixel size [x,y,z] in µm\n",
    "pixel_size = {'x':0.1832311, 'y':0.1832311, 'z':0.2201818}\n",
    "# Largeur d'épaississement de la surface de la cellule\n",
    "# Cette valeur est ajoutée au dessus et en dessous du plan de la face\n",
    "thicken = 0.4\n",
    "# compute_normal(face_df, edge_df, vert_df)\n",
    "face_intensity(img_myosin, face_df, edge_df, vert_df, thicken, pixel_size)\n"
   ]
  },
  {
   "cell_type": "code",
   "execution_count": null,
   "metadata": {},
   "outputs": [],
   "source": [
    "face_df"
   ]
  },
  {
   "cell_type": "code",
   "execution_count": null,
   "metadata": {},
   "outputs": [],
   "source": [
    "face_df.drop()"
   ]
  },
  {
   "cell_type": "code",
   "execution_count": null,
   "metadata": {},
   "outputs": [],
   "source": []
  },
  {
   "cell_type": "code",
   "execution_count": null,
   "metadata": {},
   "outputs": [],
   "source": []
  },
  {
   "cell_type": "code",
   "execution_count": null,
   "metadata": {},
   "outputs": [],
   "source": []
  },
  {
   "cell_type": "code",
   "execution_count": null,
   "metadata": {},
   "outputs": [],
   "source": []
  },
  {
   "cell_type": "code",
   "execution_count": null,
   "metadata": {},
   "outputs": [],
   "source": []
  },
  {
   "cell_type": "code",
   "execution_count": null,
   "metadata": {},
   "outputs": [],
   "source": []
  },
  {
   "cell_type": "code",
   "execution_count": null,
   "metadata": {},
   "outputs": [],
   "source": []
  },
  {
   "cell_type": "code",
   "execution_count": null,
   "metadata": {},
   "outputs": [],
   "source": []
  },
  {
   "cell_type": "code",
   "execution_count": null,
   "metadata": {},
   "outputs": [],
   "source": []
  },
  {
   "cell_type": "code",
   "execution_count": null,
   "metadata": {},
   "outputs": [],
   "source": []
  },
  {
   "cell_type": "code",
   "execution_count": null,
   "metadata": {},
   "outputs": [],
   "source": []
  },
  {
   "cell_type": "code",
   "execution_count": null,
   "metadata": {},
   "outputs": [],
   "source": []
  },
  {
   "cell_type": "code",
   "execution_count": null,
   "metadata": {
    "scrolled": false
   },
   "outputs": [],
   "source": []
  },
  {
   "cell_type": "code",
   "execution_count": null,
   "metadata": {},
   "outputs": [],
   "source": []
  },
  {
   "cell_type": "code",
   "execution_count": null,
   "metadata": {},
   "outputs": [],
   "source": []
  },
  {
   "cell_type": "code",
   "execution_count": null,
   "metadata": {},
   "outputs": [],
   "source": []
  },
  {
   "cell_type": "code",
   "execution_count": null,
   "metadata": {},
   "outputs": [],
   "source": []
  },
  {
   "cell_type": "code",
   "execution_count": null,
   "metadata": {},
   "outputs": [],
   "source": []
  },
  {
   "cell_type": "code",
   "execution_count": null,
   "metadata": {},
   "outputs": [],
   "source": []
  },
  {
   "cell_type": "code",
   "execution_count": null,
   "metadata": {},
   "outputs": [],
   "source": []
  },
  {
   "cell_type": "code",
   "execution_count": null,
   "metadata": {},
   "outputs": [],
   "source": [
    "import plotly.graph_objects as go\n",
    "from matplotlib.colors import ListedColormap\n",
    "rand = (np.random.rand(200,3)*255).astype('int')\n",
    "rand[0] = 0\n",
    "cmap_rand = ListedColormap(rand)\n",
    "\n",
    "\n",
    "\n",
    "z0, y0,x0 = np.where(img_binary_3d==1)\n",
    "fond = go.Scatter3d(x=x0,\n",
    "                      y=y0,\n",
    "                      z=z0,\n",
    "                      mode='markers',\n",
    "                     marker=dict(\n",
    "                        size=2,\n",
    "                        color='black',\n",
    "                        opacity=1\n",
    "                     )\n",
    "    )\n",
    "\n",
    "z0, y0,x0 = np.where(img_plane==1)\n",
    "face = go.Scatter3d(x=x0,\n",
    "                      y=y0,\n",
    "                      z=z0,\n",
    "                      mode='markers',\n",
    "                     marker=dict(\n",
    "                        size=2,\n",
    "                        color='blue', \n",
    "                        opacity=0.2\n",
    "                     )\n",
    "    )\n",
    "\n",
    "\n",
    "plot_face=[]\n",
    "plot_face.append(fond)\n",
    "plot_face.append(face)\n",
    "fig = go.Figure(data=plot_face, )\n",
    "fig.update_layout(title='Filament', \n",
    "                  autosize=False,\n",
    "                  width=1000,\n",
    "                  height=1000,\n",
    "                  margin=dict(l=65, r=50, b=65, t=90),\n",
    "                 )\n",
    "\n",
    "fig['layout'].update(scene=dict(aspectmode=\"data\"), showlegend=False)\n",
    "fig.show()"
   ]
  },
  {
   "cell_type": "code",
   "execution_count": null,
   "metadata": {
    "scrolled": false
   },
   "outputs": [],
   "source": []
  },
  {
   "cell_type": "code",
   "execution_count": null,
   "metadata": {
    "scrolled": true
   },
   "outputs": [],
   "source": []
  },
  {
   "cell_type": "code",
   "execution_count": null,
   "metadata": {},
   "outputs": [],
   "source": []
  },
  {
   "cell_type": "code",
   "execution_count": null,
   "metadata": {},
   "outputs": [],
   "source": []
  },
  {
   "cell_type": "code",
   "execution_count": null,
   "metadata": {},
   "outputs": [],
   "source": []
  },
  {
   "cell_type": "code",
   "execution_count": null,
   "metadata": {
    "scrolled": false
   },
   "outputs": [],
   "source": []
  },
  {
   "cell_type": "code",
   "execution_count": null,
   "metadata": {
    "scrolled": false
   },
   "outputs": [],
   "source": []
  },
  {
   "cell_type": "code",
   "execution_count": null,
   "metadata": {},
   "outputs": [],
   "source": []
  },
  {
   "cell_type": "code",
   "execution_count": null,
   "metadata": {},
   "outputs": [],
   "source": []
  },
  {
   "cell_type": "code",
   "execution_count": null,
   "metadata": {},
   "outputs": [],
   "source": []
  },
  {
   "cell_type": "code",
   "execution_count": null,
   "metadata": {},
   "outputs": [],
   "source": []
  },
  {
   "cell_type": "code",
   "execution_count": null,
   "metadata": {},
   "outputs": [],
   "source": []
  },
  {
   "cell_type": "code",
   "execution_count": null,
   "metadata": {},
   "outputs": [],
   "source": []
  },
  {
   "cell_type": "code",
   "execution_count": null,
   "metadata": {},
   "outputs": [],
   "source": []
  },
  {
   "cell_type": "code",
   "execution_count": null,
   "metadata": {},
   "outputs": [],
   "source": []
  },
  {
   "cell_type": "code",
   "execution_count": null,
   "metadata": {},
   "outputs": [],
   "source": []
  },
  {
   "cell_type": "code",
   "execution_count": null,
   "metadata": {},
   "outputs": [],
   "source": []
  },
  {
   "cell_type": "code",
   "execution_count": null,
   "metadata": {},
   "outputs": [],
   "source": []
  },
  {
   "cell_type": "code",
   "execution_count": null,
   "metadata": {},
   "outputs": [],
   "source": []
  },
  {
   "cell_type": "code",
   "execution_count": null,
   "metadata": {},
   "outputs": [],
   "source": []
  },
  {
   "cell_type": "code",
   "execution_count": null,
   "metadata": {},
   "outputs": [],
   "source": [
    "yrrr\n",
    "\n",
    "\n"
   ]
  },
  {
   "cell_type": "code",
   "execution_count": null,
   "metadata": {},
   "outputs": [],
   "source": []
  },
  {
   "cell_type": "code",
   "execution_count": null,
   "metadata": {},
   "outputs": [],
   "source": []
  },
  {
   "cell_type": "code",
   "execution_count": null,
   "metadata": {
    "scrolled": false
   },
   "outputs": [],
   "source": []
  },
  {
   "cell_type": "code",
   "execution_count": null,
   "metadata": {},
   "outputs": [],
   "source": []
  },
  {
   "cell_type": "code",
   "execution_count": null,
   "metadata": {},
   "outputs": [],
   "source": []
  },
  {
   "cell_type": "code",
   "execution_count": null,
   "metadata": {},
   "outputs": [],
   "source": []
  },
  {
   "cell_type": "code",
   "execution_count": null,
   "metadata": {},
   "outputs": [],
   "source": []
  },
  {
   "cell_type": "code",
   "execution_count": null,
   "metadata": {},
   "outputs": [],
   "source": []
  },
  {
   "cell_type": "code",
   "execution_count": null,
   "metadata": {},
   "outputs": [],
   "source": [
    "zefwsdfswdf"
   ]
  },
  {
   "cell_type": "code",
   "execution_count": null,
   "metadata": {},
   "outputs": [],
   "source": []
  },
  {
   "cell_type": "code",
   "execution_count": null,
   "metadata": {},
   "outputs": [],
   "source": [
    "from tyssue import Sheet\n",
    "from tyssue import SheetGeometry\n",
    "face_df = pd.DataFrame(index=np.arange(1, np.max(edge_df.face)))\n",
    "# remove_edge = edge_df[edge_df.face==-1].index\n",
    "# edge_df.drop(remove_edge, axis=0, inplace=True)\n",
    "# edge_df.reset_index(inplace=True, drop=True)\n",
    "data={'vert':vert_df, 'edge':edge_df, 'face':face_df}\n",
    "sheet = Sheet('spherical', data)\n",
    "sheet.reset_index()\n",
    "sheet.reset_topo()\n",
    "SheetGeometry.update_all(sheet)\n",
    "\n",
    "from tyssue.draw import sheet_view\n",
    "fig, ax = sheet_view(sheet,list('yz'), mode='2D')"
   ]
  },
  {
   "cell_type": "code",
   "execution_count": null,
   "metadata": {},
   "outputs": [],
   "source": []
  },
  {
   "cell_type": "code",
   "execution_count": null,
   "metadata": {
    "scrolled": true
   },
   "outputs": [],
   "source": [
    "from tyssue.draw import sheet_view\n",
    "fig, ax = sheet_view(sheet, mode='3D')\n",
    "fig"
   ]
  },
  {
   "cell_type": "code",
   "execution_count": null,
   "metadata": {},
   "outputs": [],
   "source": []
  },
  {
   "cell_type": "code",
   "execution_count": null,
   "metadata": {},
   "outputs": [],
   "source": []
  },
  {
   "cell_type": "code",
   "execution_count": null,
   "metadata": {},
   "outputs": [],
   "source": []
  }
 ],
 "metadata": {
  "kernelspec": {
   "display_name": "Python 3",
   "language": "python",
   "name": "python3"
  },
  "language_info": {
   "codemirror_mode": {
    "name": "ipython",
    "version": 3
   },
   "file_extension": ".py",
   "mimetype": "text/x-python",
   "name": "python",
   "nbconvert_exporter": "python",
   "pygments_lexer": "ipython3",
   "version": "3.8.5"
  }
 },
 "nbformat": 4,
 "nbformat_minor": 2
}

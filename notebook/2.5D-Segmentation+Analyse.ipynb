{
 "cells": [
  {
   "cell_type": "markdown",
   "metadata": {},
   "source": [
    "# Global variable\n",
    "\n",
    "Ce n'est pas idéal, mais c'est une solution temporaire pour choisir tout les paramètres au début de l'analyse sans avoir à les chercher dans les différentes cellules..."
   ]
  },
  {
   "cell_type": "code",
   "execution_count": 1,
   "metadata": {},
   "outputs": [],
   "source": [
    "directory = \"/media/admin-suz/Datas/Comparative-analysis_FoldsLeg/fold-5/1160\"\n",
    "# directory = \"/home/admin-suz/Bureau/Test_seuil\"\n",
    "\n",
    "SKELETON_NAME     = \"20210630_EcadGFP_FastAiSc-1160x1160_px0.09um_dweel0-90_zoom2_002-GB1-fold5.fits_c700.up.NDskl.BRK.S006.a.NDskl\"\n",
    "IMAGE_NAME        = \"20210630_EcadGFP_FastAiSc-1160x1160_px0.09um_dweel0-90_zoom2_002-GB1.tif\"\n",
    "# IMAGE_NAME_MYOSIN = \"C1-T2-T3_leg_FastAiSc_1160x1160_px0v09-GB2.tif\"\n",
    "IMAGE_NAME_MYOSIN = IMAGE_NAME\n",
    "\n",
    "# Pixel/Voxel size\n",
    "# Airyscan\n",
    "X_SIZE = 0.1832311/2\n",
    "Y_SIZE = 0.1832311/2\n",
    "Z_SIZE = 0.2201818\n",
    "\n",
    "# Confocal\n",
    "# X_SIZE = 0.2075665\n",
    "# Y_SIZE = 0.2075665\n",
    "# Z_SIZE = 0.4355092"
   ]
  },
  {
   "cell_type": "code",
   "execution_count": 2,
   "metadata": {},
   "outputs": [],
   "source": [
    "# Save face, edge, vert dataframe from initial segmentation\n",
    "SAVE_INIT_SEGMENTATION = True\n",
    "# Save face, edge, vert image from initial segmentation\n",
    "SAVE_INIT_SEGMENTATION_IMAGE = True\n",
    "\n",
    "SAVE_SIGNAL_MEASURE = True\n",
    "\n",
    "DIRECT_VISUALISATION_SKELETON = True\n",
    "DIRECT_VISUALISATION_VERTEX_EDGES = True\n",
    "DIRECT_VISUALISATION_FACE = True\n",
    "\n",
    "# Analyse morphologique\n",
    "MORPHOLOGICAL_ANALYSIS = True\n",
    "SAVE_MORPHOLOGICAL_ANALYSIS = True\n",
    "AREA = True\n",
    "PERIMETER = True\n",
    "NB_NEIGHBOR = True\n",
    "ANISO = True\n",
    "J_ORIENTATION = True\n",
    "DIRECT_VISUALISATION_ORIENTATION = True\n",
    "DIRECT_VISUALISATION_SIGNAL = True\n",
    "\n",
    "# Largeur d'épaississement de la surface de la cellule\n",
    "# Cette valeur est ajoutée au dessus et en dessous du plan de la face\n",
    "THICKNESS = 0.5\n",
    "DILATION = 3\n",
    "\n",
    "SAVE_MORPHOLOGICAL_ANALYSIS = True\n",
    "SAVE_INTENSITY_ANALYSIS = True"
   ]
  },
  {
   "cell_type": "code",
   "execution_count": null,
   "metadata": {},
   "outputs": [],
   "source": []
  },
  {
   "cell_type": "code",
   "execution_count": null,
   "metadata": {},
   "outputs": [],
   "source": []
  },
  {
   "cell_type": "markdown",
   "metadata": {},
   "source": [
    "# Import "
   ]
  },
  {
   "cell_type": "code",
   "execution_count": 3,
   "metadata": {},
   "outputs": [],
   "source": [
    "from Dissects.io import (load_NDskl, \n",
    "                         load_image,\n",
    "                         load_skeleton,\n",
    "                         save_skeleton,\n",
    "                         save_fits,\n",
    "                         save_image,\n",
    "                        )\n",
    "\n",
    "from Dissects.image import (z_project,\n",
    "                            thinning,\n",
    "                            dilation)\n",
    "\n",
    "from Dissects.geometry import Skeleton\n",
    "\n",
    "from Dissects.draw.plt_draw import (plot_skeleton_3D,\n",
    "                                    plot_face_3D,\n",
    "                                    plot_junction_3D,\n",
    "                                   )\n",
    "\n",
    "from Dissects.analysis.analysis import (general_analysis,\n",
    "                              cellstats\n",
    "                              )\n",
    "\n",
    "from Dissects.analysis.analysis_3D_apical import (junction_intensity,\n",
    "                                                  morphology_analysis)\n",
    "\n",
    "from Dissects.segmentation.seg_3D_apical import (generate_segmentation)\n"
   ]
  },
  {
   "cell_type": "code",
   "execution_count": 4,
   "metadata": {},
   "outputs": [],
   "source": [
    "import os\n",
    "import time\n",
    "\n",
    "from skimage import io\n",
    "import numpy as np\n",
    "import pandas as pd\n",
    "import copy\n",
    "import sys\n",
    "from skimage import morphology\n",
    "\n",
    "import matplotlib.pyplot as plt\n",
    "import matplotlib as mpl\n",
    "from matplotlib.colors import ListedColormap\n",
    "import plotly.graph_objects as go\n",
    "import pylab as pl\n",
    "\n",
    "sys.setrecursionlimit(10000)\n",
    "\n",
    "import plotly.express as px\n",
    "\n",
    "from scipy.ndimage.morphology import (binary_fill_holes,\n",
    "                                      binary_dilation,\n",
    "                                     )\n",
    "from scipy import ndimage\n",
    "import scipy as sci\n",
    "# %matplotlib notebook\n",
    "%load_ext snakeviz"
   ]
  },
  {
   "cell_type": "code",
   "execution_count": 5,
   "metadata": {},
   "outputs": [],
   "source": [
    "import matplotlib as mpl\n",
    "\n",
    "# update fig parameter\n",
    "mpl.rcParams['figure.dpi'] = 150 #300\n",
    "mpl.rcParams['figure.figsize'] = (10,10)"
   ]
  },
  {
   "cell_type": "code",
   "execution_count": null,
   "metadata": {},
   "outputs": [],
   "source": []
  },
  {
   "cell_type": "code",
   "execution_count": null,
   "metadata": {},
   "outputs": [],
   "source": []
  },
  {
   "cell_type": "code",
   "execution_count": 6,
   "metadata": {},
   "outputs": [],
   "source": [
    "# get original image\n",
    "img0 = load_image(os.path.join(directory, \n",
    "                              IMAGE_NAME))\n",
    "img_myosin = io.imread(os.path.join(directory, \n",
    "                              IMAGE_NAME_MYOSIN))"
   ]
  },
  {
   "cell_type": "code",
   "execution_count": 7,
   "metadata": {},
   "outputs": [
    {
     "name": "stderr",
     "output_type": "stream",
     "text": [
      "/home/admin-suz/miniconda3/lib/python3.8/site-packages/Dissects-0.0.1-py3.8.egg/Dissects/geometry/skeleton.py:25: UserWarning: As pixel can be half pixel from DisPerSE output,                   we DO NOT take the integer part of xyz values for critical points                   we DO NOT take the integer part of xyz values for filaments. \n",
      "  warnings.warn(\"As pixel can be half pixel from DisPerSE output, \\\n"
     ]
    }
   ],
   "source": [
    "cp, fil, point, specs, cp_filament_info = load_NDskl(os.path.join(directory, SKELETON_NAME))\n",
    "\n",
    "# #create skeleton object\n",
    "skel = Skeleton(cp, fil, point, cp_filament_info, specs)\n"
   ]
  },
  {
   "cell_type": "code",
   "execution_count": null,
   "metadata": {},
   "outputs": [
    {
     "name": "stderr",
     "output_type": "stream",
     "text": [
      "/home/admin-suz/miniconda3/lib/python3.8/site-packages/Dissects-0.0.1-py3.8.egg/Dissects/geometry/skeleton.py:63: UserWarning: specs dictionnary is not updated, ncrit value is not updated.\n",
      "  warnings.warn(\n"
     ]
    }
   ],
   "source": [
    "#Clean skeleton\n",
    "start = time.time()\n",
    "\n",
    "skel.remove_lonely_cp()\n",
    "skel.remove_free_filament()\n",
    "\n",
    "end = time.time()\n",
    "print(end-start)"
   ]
  },
  {
   "cell_type": "code",
   "execution_count": null,
   "metadata": {},
   "outputs": [],
   "source": []
  },
  {
   "cell_type": "code",
   "execution_count": null,
   "metadata": {},
   "outputs": [],
   "source": [
    "skeleton_image = skel.create_binary_image()\n",
    "img_binary_3d = morphology.skeletonize(skeleton_image)"
   ]
  },
  {
   "cell_type": "code",
   "execution_count": null,
   "metadata": {},
   "outputs": [],
   "source": [
    "X_SHAPE = img0[0].shape[2]\n",
    "Y_SHAPE = img0[0].shape[1]\n",
    "Z_SHAPE = img0[0].shape[0]\n"
   ]
  },
  {
   "cell_type": "code",
   "execution_count": null,
   "metadata": {},
   "outputs": [],
   "source": []
  },
  {
   "cell_type": "code",
   "execution_count": null,
   "metadata": {},
   "outputs": [],
   "source": [
    "if SAVE_INIT_SEGMENTATION_IMAGE :\n",
    "    s = ndimage.generate_binary_structure(3,3)\n",
    "    image_skeleton = skel.create_binary_image()\n",
    "    image_skeleton = ndimage.morphology.binary_dilation(image_skeleton, structure=s)\n",
    "    \n",
    "    save_image(image_skeleton, \n",
    "               IMAGE_NAME[:-4] + '_output_skeleton.tif', \n",
    "               directory, \n",
    "               **{\"x_size\":X_SIZE,\n",
    "                  \"y_size\":Y_SIZE,\n",
    "                  \"z_size\":Z_SIZE,})"
   ]
  },
  {
   "cell_type": "code",
   "execution_count": null,
   "metadata": {},
   "outputs": [],
   "source": [
    "if DIRECT_VISUALISATION_SKELETON:\n",
    "    fig = plot_skeleton_3D(skel,\n",
    "                          **{\"x_size\":X_SIZE,\n",
    "                             \"y_size\":Y_SIZE,\n",
    "                             \"z_size\":Z_SIZE,})\n",
    "    fig.show()\n"
   ]
  },
  {
   "cell_type": "code",
   "execution_count": null,
   "metadata": {},
   "outputs": [],
   "source": []
  },
  {
   "cell_type": "markdown",
   "metadata": {},
   "source": [
    "# 3D vertex detection"
   ]
  },
  {
   "cell_type": "code",
   "execution_count": null,
   "metadata": {
    "scrolled": false
   },
   "outputs": [],
   "source": [
    "start = time.time()\n",
    "face_df, edge_df, vert_df, points_df = generate_segmentation(skel, img0, **{\"X_SIZE\":X_SIZE,\n",
    "                                                                           \"Y_SIZE\":Y_SIZE,\n",
    "                                                                           \"Z_SIZE\":Z_SIZE})\n",
    "end= time.time()\n",
    "print(end-start)\n",
    "\n",
    "if SAVE_INIT_SEGMENTATION : \n",
    "    vert_df.to_csv(os.path.join(directory, 'vert_df.csv'))\n",
    "    edge_df.to_csv(os.path.join(directory, 'edge_df.csv'))\n",
    "    face_df.to_csv(os.path.join(directory, 'face_df.csv'))\n"
   ]
  },
  {
   "cell_type": "code",
   "execution_count": null,
   "metadata": {},
   "outputs": [],
   "source": []
  },
  {
   "cell_type": "code",
   "execution_count": null,
   "metadata": {},
   "outputs": [],
   "source": [
    "if SAVE_INIT_SEGMENTATION_IMAGE :\n",
    "    \n",
    "    # Vertex image\n",
    "    vertex_image = np.zeros([Z_SHAPE, Y_SHAPE, X_SHAPE])\n",
    "    s = ndimage.generate_binary_structure(3,3)\n",
    "\n",
    "    vertex_image[vert_df.z_pix.to_numpy().astype(int),\n",
    "                 vert_df.y_pix.to_numpy().astype(int),\n",
    "                 vert_df.x_pix.to_numpy().astype(int)] = 1\n",
    "    # Dilate a little bit vertex to have a better viewing\n",
    "    vertex_image = ndimage.morphology.binary_dilation(vertex_image, structure=s)\n",
    "    \n",
    "    save_image(vertex_image, \n",
    "               IMAGE_NAME[:-4] + '_output_vertex.tif', \n",
    "               directory, \n",
    "               **{\"x_size\":X_SIZE,\n",
    "                  \"y_size\":Y_SIZE,\n",
    "                  \"z_size\":Z_SIZE,})\n",
    "    \n",
    "    image_skeleton = skel.create_binary_image()\n",
    "    image_skeleton = ndimage.morphology.binary_dilation(image_skeleton, structure=s)\n",
    "    \n",
    "    save_image(image_skeleton, \n",
    "               IMAGE_NAME[:-4] + '_output_skeleton.tif', \n",
    "               directory, \n",
    "               **{\"x_size\":X_SIZE,\n",
    "                  \"y_size\":Y_SIZE,\n",
    "                  \"z_size\":Z_SIZE,})"
   ]
  },
  {
   "cell_type": "code",
   "execution_count": null,
   "metadata": {
    "scrolled": true
   },
   "outputs": [],
   "source": [
    "from Dissects.analysis.analysis_3D_apical import face_intensity\n",
    "\n",
    "enlarge_face = face_intensity(img_myosin, \n",
    "                              face_df, \n",
    "                              edge_df, \n",
    "                              vert_df,\n",
    "                              points_df, \n",
    "                              THICKNESS, \n",
    "                              DILATION, \n",
    "                              {\"X_SIZE\":X_SIZE,\n",
    "                               \"Y_SIZE\":Y_SIZE,\n",
    "                               \"Z_SIZE\":Z_SIZE})\n",
    "\n",
    "save_image(enlarge_face, \n",
    "           IMAGE_NAME[:-4] + '_output_enlarge_face_identity.tif', \n",
    "           directory, \n",
    "           **{\"x_size\":X_SIZE,\n",
    "              \"y_size\":Y_SIZE,\n",
    "              \"z_size\":Z_SIZE,})"
   ]
  },
  {
   "cell_type": "code",
   "execution_count": null,
   "metadata": {
    "scrolled": true
   },
   "outputs": [],
   "source": [
    "enlarge_face_random = np.zeros(enlarge_face.shape)\n",
    "unique_value = np.unique(enlarge_face)\n",
    "replace_value=[]\n",
    "for i in range(len(unique_value)+1):\n",
    "    rand_val = np.random.randint(10,2**8)\n",
    "    while rand_val in replace_value:\n",
    "        rand_val = np.random.randint(10,2**8)\n",
    "    replace_value.append(rand_val)\n",
    "    \n",
    "for i in range(1, len(unique_value)):\n",
    "    pos = np.where(enlarge_face==unique_value[i])\n",
    "    enlarge_face_random[pos] = replace_value[i]\n",
    "\n",
    "save_image(enlarge_face, \n",
    "           IMAGE_NAME[:-4] + '_output_enlarge_face_identity_random.tif', \n",
    "           directory, \n",
    "           **{\"x_size\":X_SIZE,\n",
    "              \"y_size\":Y_SIZE,\n",
    "              \"z_size\":Z_SIZE,})"
   ]
  },
  {
   "cell_type": "code",
   "execution_count": null,
   "metadata": {},
   "outputs": [],
   "source": []
  },
  {
   "cell_type": "code",
   "execution_count": null,
   "metadata": {},
   "outputs": [],
   "source": [
    "fsdfsdfsfsdf"
   ]
  },
  {
   "cell_type": "code",
   "execution_count": null,
   "metadata": {},
   "outputs": [],
   "source": []
  },
  {
   "cell_type": "code",
   "execution_count": null,
   "metadata": {
    "scrolled": false
   },
   "outputs": [],
   "source": [
    "import random \n",
    "if DIRECT_VISUALISATION_FACE:\n",
    "    fig = plot_skeleton_3D(skel,\n",
    "                          **{\"x_size\":X_SIZE,\n",
    "                             \"y_size\":Y_SIZE,\n",
    "                             \"z_size\":Z_SIZE,})\n",
    "\n",
    "    fig = plot_face_3D(skel,\n",
    "                       face_df,\n",
    "                       edge_df,\n",
    "                       vert_df, \n",
    "                       fig,\n",
    "                      **{\"x_size\":X_SIZE,\n",
    "                         \"y_size\":Y_SIZE,\n",
    "                         \"z_size\":Z_SIZE,})\n",
    "    fig.show()"
   ]
  },
  {
   "cell_type": "code",
   "execution_count": null,
   "metadata": {
    "scrolled": false
   },
   "outputs": [],
   "source": []
  },
  {
   "cell_type": "code",
   "execution_count": null,
   "metadata": {
    "scrolled": true
   },
   "outputs": [],
   "source": []
  },
  {
   "cell_type": "code",
   "execution_count": null,
   "metadata": {},
   "outputs": [],
   "source": []
  },
  {
   "cell_type": "code",
   "execution_count": null,
   "metadata": {
    "scrolled": false
   },
   "outputs": [],
   "source": [
    "if DIRECT_VISUALISATION_VERTEX_EDGES: \n",
    "    fig = plot_skeleton_3D(skel,\n",
    "                      **{\"x_size\":X_SIZE,\n",
    "                         \"y_size\":Y_SIZE,\n",
    "                         \"z_size\":Z_SIZE,})\n",
    "\n",
    " \n",
    "    fig = plot_junction_3D(skel,\n",
    "                       face_df,\n",
    "                       edge_df,\n",
    "                       vert_df, \n",
    "                       fig,\n",
    "                      **{\"x_size\":X_SIZE,\n",
    "                         \"y_size\":Y_SIZE,\n",
    "                         \"z_size\":Z_SIZE,})\n",
    "    fig.show()\n",
    "    \n"
   ]
  },
  {
   "cell_type": "code",
   "execution_count": null,
   "metadata": {},
   "outputs": [],
   "source": []
  },
  {
   "cell_type": "code",
   "execution_count": null,
   "metadata": {},
   "outputs": [],
   "source": []
  },
  {
   "cell_type": "code",
   "execution_count": null,
   "metadata": {
    "scrolled": true
   },
   "outputs": [],
   "source": []
  },
  {
   "cell_type": "code",
   "execution_count": null,
   "metadata": {},
   "outputs": [],
   "source": [
    "# Tiff cell identity \n",
    "saving_image = np.zeros(enlarge_face.shape)\n",
    "for e in edge_df.index:        \n",
    "    saving_image[list(edge_df.loc[e, 'point_z'])[0].astype(int),\n",
    "                list(edge_df.loc[e, 'point_y'])[0].astype(int),\n",
    "                list(edge_df.loc[e, 'point_x'])[0].astype(int)] = e+1\n",
    "\n",
    "\n",
    "save_image(saving_image, \n",
    "           IMAGE_NAME[:-4] + '_output_edge.tif', \n",
    "           directory, \n",
    "           **{\"x_size\":X_SIZE,\n",
    "              \"y_size\":Y_SIZE,\n",
    "              \"z_size\":Z_SIZE,})\n"
   ]
  },
  {
   "cell_type": "code",
   "execution_count": null,
   "metadata": {},
   "outputs": [],
   "source": []
  },
  {
   "cell_type": "code",
   "execution_count": null,
   "metadata": {},
   "outputs": [],
   "source": [
    "# Tiff edge identity aleatory\n",
    "    \n",
    "enlarge_edge_random = np.zeros(enlarge_face.shape)\n",
    "unique_value = np.unique(edge_df.index)\n",
    "replace_value = np.random.randint(1,2**16, len(unique_value))\n",
    "\n",
    "s = sci.ndimage.generate_binary_structure(3, 3)\n",
    "\n",
    "for e in range(len(unique_value)):  \n",
    "    tmp_image = np.zeros(enlarge_face.shape)\n",
    "    tmp_image[list(edge_df.loc[unique_value[e], 'point_z'])[0].astype(int),\n",
    "                list(edge_df.loc[unique_value[e], 'point_y'])[0].astype(int),\n",
    "                list(edge_df.loc[unique_value[e], 'point_x'])[0].astype(int)] = 1\n",
    "\n",
    "    tmp_image = sci.ndimage.morphology.binary_dilation(\n",
    "                                 tmp_image, s).astype(int)\n",
    "\n",
    "    pos = np.where(tmp_image==1)\n",
    "    enlarge_edge_random[pos] = replace_value[e]\n",
    "\n",
    "save_image(enlarge_edge_random, \n",
    "           IMAGE_NAME[:-4] + '_output_enlarge_edge_random.tif', \n",
    "           directory, \n",
    "           **{\"x_size\":X_SIZE,\n",
    "              \"y_size\":Y_SIZE,\n",
    "              \"z_size\":Z_SIZE,})\n",
    "    \n",
    "    \n"
   ]
  },
  {
   "cell_type": "code",
   "execution_count": null,
   "metadata": {},
   "outputs": [],
   "source": []
  },
  {
   "cell_type": "code",
   "execution_count": null,
   "metadata": {},
   "outputs": [],
   "source": []
  },
  {
   "cell_type": "code",
   "execution_count": null,
   "metadata": {},
   "outputs": [],
   "source": []
  },
  {
   "cell_type": "code",
   "execution_count": null,
   "metadata": {},
   "outputs": [],
   "source": [
    "# edge_df = pd.read_csv(os.path.join(directory, 'edge_df.csv'), index_col=\"Unnamed: 0\")\n",
    "# face_df = pd.read_csv(os.path.join(directory, 'face_df.csv'), index_col=\"Unnamed: 0\")\n",
    "# vert_df = pd.read_csv(os.path.join(directory, 'vert_df.csv'), index_col=\"Unnamed: 0\")"
   ]
  },
  {
   "cell_type": "code",
   "execution_count": null,
   "metadata": {},
   "outputs": [],
   "source": []
  },
  {
   "cell_type": "code",
   "execution_count": null,
   "metadata": {},
   "outputs": [],
   "source": []
  },
  {
   "cell_type": "code",
   "execution_count": null,
   "metadata": {
    "scrolled": false
   },
   "outputs": [],
   "source": []
  },
  {
   "cell_type": "code",
   "execution_count": null,
   "metadata": {
    "scrolled": true
   },
   "outputs": [],
   "source": []
  },
  {
   "cell_type": "code",
   "execution_count": null,
   "metadata": {
    "scrolled": false
   },
   "outputs": [],
   "source": []
  },
  {
   "cell_type": "code",
   "execution_count": null,
   "metadata": {
    "scrolled": false
   },
   "outputs": [],
   "source": []
  },
  {
   "cell_type": "code",
   "execution_count": null,
   "metadata": {},
   "outputs": [],
   "source": []
  },
  {
   "cell_type": "code",
   "execution_count": null,
   "metadata": {
    "scrolled": true
   },
   "outputs": [],
   "source": []
  },
  {
   "cell_type": "code",
   "execution_count": null,
   "metadata": {},
   "outputs": [],
   "source": []
  },
  {
   "cell_type": "code",
   "execution_count": null,
   "metadata": {
    "scrolled": false
   },
   "outputs": [],
   "source": []
  },
  {
   "cell_type": "code",
   "execution_count": null,
   "metadata": {},
   "outputs": [],
   "source": []
  },
  {
   "cell_type": "code",
   "execution_count": null,
   "metadata": {},
   "outputs": [],
   "source": []
  },
  {
   "cell_type": "code",
   "execution_count": null,
   "metadata": {},
   "outputs": [],
   "source": []
  },
  {
   "cell_type": "markdown",
   "metadata": {},
   "source": [
    "# Analyse"
   ]
  },
  {
   "cell_type": "code",
   "execution_count": null,
   "metadata": {
    "scrolled": false
   },
   "outputs": [],
   "source": [
    "# morphometry analysis\n",
    "\n",
    "if MORPHOLOGICAL_ANALYSIS :\n",
    "    morphology_analysis(face_df, \n",
    "                        edge_df, \n",
    "                        vert_df, \n",
    "                        points_df,\n",
    "                        area=AREA,\n",
    "                        perimeter=PERIMETER,\n",
    "                        nb_neighbor=NB_NEIGHBOR,\n",
    "                        aniso=ANISO,\n",
    "                        j_orientation=J_ORIENTATION,\n",
    "                       )\n",
    "face_df.drop(-1, axis=0, inplace=True)                        "
   ]
  },
  {
   "cell_type": "code",
   "execution_count": null,
   "metadata": {},
   "outputs": [],
   "source": [
    "if SAVE_MORPHOLOGICAL_ANALYSIS : \n",
    "    vert_df.to_csv(os.path.join(directory, 'vert_df_morphology.csv'))\n",
    "    edge_df.to_csv(os.path.join(directory, 'edge_df_morphology.csv'))\n",
    "    face_df.to_csv(os.path.join(directory, 'face_df_morphology.csv'))"
   ]
  },
  {
   "cell_type": "code",
   "execution_count": null,
   "metadata": {
    "scrolled": false
   },
   "outputs": [],
   "source": [
    "if DIRECT_VISUALISATION_ORIENTATION:\n",
    "    image_skeleton = skel.create_binary_image()\n",
    "    z0, y0,x0 = np.where(image_skeleton>0)\n",
    "    background_skeleton = go.Scatter3d(x=x0,\n",
    "                                        y=y0,\n",
    "                                        z=z0,\n",
    "                                        mode='markers',\n",
    "                                        marker=dict(\n",
    "                                            size=2,\n",
    "                                            color='black',\n",
    "                                            opacity=0.1\n",
    "                                         )\n",
    "                        )\n",
    "    \n",
    "    \n",
    "    \n",
    "    fig = go.Figure(data=[background_skeleton], )\n",
    "    fig.update_layout(title='Background-Aniso', \n",
    "                  autosize=False,\n",
    "                  width=1000,\n",
    "                  height=1000,\n",
    "                  margin=dict(l=65, r=50, b=65, t=90),\n",
    "                 )\n",
    "    \n",
    "    # Edges\n",
    "    cmap = pl.cm.cividis\n",
    "    max_aniso = face_df['aniso'][1:].max()\n",
    "    face_df['norm_aniso'] = (face_df['aniso']/max_aniso)\n",
    "    factor = 2\n",
    "    startx = (face_df['fx'] - factor*face_df['norm_aniso']*face_df['orientationx'])/X_SIZE\n",
    "    starty = (face_df['fy'] - factor*face_df['norm_aniso']*face_df['orientationy'])/Y_SIZE\n",
    "    startz = (face_df['fz'] - factor*face_df['norm_aniso']*face_df['orientationz'])/Z_SIZE\n",
    "    endx = (face_df['fx'] + factor*face_df['norm_aniso']*face_df['orientationx'])/X_SIZE\n",
    "    endy = (face_df['fy'] + factor*face_df['norm_aniso']*face_df['orientationy'])/Y_SIZE\n",
    "    endz = (face_df['fz'] + factor*face_df['norm_aniso']*face_df['orientationz'])/Z_SIZE\n",
    "    \n",
    "    for i in face_df.index[1:]:\n",
    "        fig.add_trace(\n",
    "                go.Scatter3d(\n",
    "                    x=[startx[i], endx[i]],\n",
    "                    y=[starty[i], endy[i]],\n",
    "                    z=[startz[i], endz[i]],\n",
    "                    mode='lines',\n",
    "                    line={#\"color\":'red',\n",
    "                          \"color\":'rgb'+str(cmap(int(face_df.loc[i]['norm_aniso']*cmap.N))[0:3]),\n",
    "                          \"width\":10,\n",
    "                         },                \n",
    "                )\n",
    "            )\n",
    "        \n",
    "    fig['layout'].update(scene=dict(aspectmode=\"manual\", \n",
    "                                aspectratio=dict(x=X_SIZE*X_SHAPE, \n",
    "                                                 y=Y_SIZE*Y_SHAPE, \n",
    "                                                 z=Z_SIZE*Z_SHAPE)),\n",
    "                     showlegend=False)\n",
    "    fig.show()\n",
    "    "
   ]
  },
  {
   "cell_type": "code",
   "execution_count": null,
   "metadata": {},
   "outputs": [],
   "source": []
  },
  {
   "cell_type": "code",
   "execution_count": null,
   "metadata": {},
   "outputs": [],
   "source": [
    "\n",
    "from tifffile import tifffile\n",
    "\n",
    "def save_image_analyse_face(enlarge_face,\n",
    "                   face_df, \n",
    "                   column,\n",
    "                   normalize=True,\n",
    "                   normalize_max=None):\n",
    "    \n",
    "    if normalize:\n",
    "        if normalize_max is None:\n",
    "            face_df[column+'_norm'] = face_df[column]/face_df[column].max()\n",
    "        else:\n",
    "            face_df[column+'_norm'] = face_df[column]/normalize_max\n",
    "        \n",
    "    \n",
    "    saving_image = np.zeros(enlarge_face.shape)\n",
    "    \n",
    "    for f in face_df.index:\n",
    "        face_position = np.where(enlarge_face==f+1)\n",
    "        if normalize:\n",
    "            saving_image[face_position] = face_df.loc[f,column+'_norm']\n",
    "        else:\n",
    "            saving_image[face_position] = face_df.loc[f,column]\n",
    "    \n",
    "    save_image(saving_image, \n",
    "               IMAGE_NAME[:-4] +'_'+ column +'.tif',\n",
    "               directory, \n",
    "               **{\"x_size\":X_SIZE,\n",
    "                  \"y_size\":Y_SIZE,\n",
    "                  \"z_size\":Z_SIZE,})\n",
    "\n",
    "\n",
    "# Tiff cell identity \n",
    "save_image_analyse_face(enlarge_face, face_df, 'perimeter_approximate', normalize=False)"
   ]
  },
  {
   "cell_type": "code",
   "execution_count": null,
   "metadata": {},
   "outputs": [],
   "source": [
    "def save_image_aniso(skeleton,\n",
    "                    face_df,\n",
    "                    edge_df,\n",
    "                    vert_df,\n",
    "                    normalize=True,\n",
    "                    normalize_max=None,\n",
    "                    factor=2):\n",
    "    \n",
    "    from skimage.draw import line_nd\n",
    "    from scipy.ndimage import grey_dilation\n",
    "    \n",
    "    image_skeleton = skeleton.create_binary_image()\n",
    "    image_skeleton = np.zeros(image_skeleton.shape)\n",
    "    if normalize:\n",
    "        if normalize_max is None:\n",
    "            face_df['aniso_norm'] = face_df['aniso']/face_df['aniso'].max()\n",
    "        else:\n",
    "            face_df['aniso_norm'] = face_df['aniso']/normalize_max\n",
    "            \n",
    "    startx = ((face_df['fx'] - factor*face_df['aniso_norm']*face_df['orientationx'])/X_SIZE).to_numpy().astype(int)\n",
    "    starty = ((face_df['fy'] - factor*face_df['aniso_norm']*face_df['orientationy'])/Y_SIZE).to_numpy().astype(int)\n",
    "    startz = ((face_df['fz'] - factor*face_df['aniso_norm']*face_df['orientationz'])/Z_SIZE).to_numpy().astype(int)\n",
    "    endx = ((face_df['fx'] + factor*face_df['aniso_norm']*face_df['orientationx'])/X_SIZE).to_numpy().astype(int)\n",
    "    endy = ((face_df['fy'] + factor*face_df['aniso_norm']*face_df['orientationy'])/Y_SIZE).to_numpy().astype(int)\n",
    "    endz = ((face_df['fz'] + factor*face_df['aniso_norm']*face_df['orientationz'])/Z_SIZE).to_numpy().astype(int)\n",
    "    \n",
    "    for i in face_df.index:\n",
    "        \n",
    "        tmp_image = np.zeros(image_skeleton.shape)\n",
    "        coords = line_nd((startx[i-1], starty[i-1], startz[i-1]),\n",
    "                         (endx[i-1], endy[i-1], endz[i-1]), \n",
    "                         endpoint=True,\n",
    "                         integer=True)\n",
    "        \n",
    "        tmp_image[coords[2],\n",
    "               coords[1], \n",
    "               coords[0]] = 1\n",
    "        #enlarge\n",
    "        s = sci.ndimage.generate_binary_structure(3, 3)\n",
    "        \n",
    "        tmp_image = sci.ndimage.morphology.binary_dilation(\n",
    "                                     tmp_image, s).astype(int)\n",
    "        \n",
    "        pos = np.where(tmp_image==1)\n",
    "        image_skeleton[pos] = face_df.loc[i, 'aniso_norm']\n",
    " \n",
    "\n",
    "    save_image(image_skeleton, \n",
    "               IMAGE_NAME[:-4] +'_aniso_orientation.tif',\n",
    "               directory, \n",
    "               **{\"x_size\":X_SIZE,\n",
    "                  \"y_size\":Y_SIZE,\n",
    "                  \"z_size\":Z_SIZE,})"
   ]
  },
  {
   "cell_type": "code",
   "execution_count": null,
   "metadata": {
    "scrolled": false
   },
   "outputs": [],
   "source": [
    "save_image_aniso(skel, \n",
    "                face_df, \n",
    "                edge_df,\n",
    "                vert_df, \n",
    "                factor=4)"
   ]
  },
  {
   "cell_type": "code",
   "execution_count": null,
   "metadata": {},
   "outputs": [],
   "source": []
  },
  {
   "cell_type": "code",
   "execution_count": null,
   "metadata": {},
   "outputs": [],
   "source": []
  },
  {
   "cell_type": "markdown",
   "metadata": {},
   "source": [
    "## Mesure d'intensité au niveau des jonctions"
   ]
  },
  {
   "cell_type": "code",
   "execution_count": null,
   "metadata": {
    "scrolled": true
   },
   "outputs": [],
   "source": [
    "start = time.time()\n",
    "junction_intensity(img_myosin, edge_df, points_df, DILATION, 'myosin_intensity')\n",
    "end= time.time()\n",
    "print(end-start)"
   ]
  },
  {
   "cell_type": "code",
   "execution_count": null,
   "metadata": {},
   "outputs": [],
   "source": [
    "if SAVE_SIGNAL_MEASURE:\n",
    "    myosin_intensity = np.zeros(img_myosin.shape)\n",
    "    for e, val in edge_df.iterrows():\n",
    "        x_ = list(points_df[points_df.edge==e]['x_pix'].to_numpy())\n",
    "        y_ = list(points_df[points_df.edge==e]['y_pix'].to_numpy())\n",
    "        z_ = list(points_df[points_df.edge==e]['z_pix'].to_numpy())\n",
    "    \n",
    "        myosin_intensity[z_, y_, x_] = (val.myosin_intensity_mean/np.max(edge_df.myosin_intensity_mean)*255).astype('int')\n",
    "    \n",
    "    save_image(myosin_intensity, IMAGE_NAME[:-4] + '_myosin_intensity.tif', directory, **{\"x_size\":X_SIZE,\n",
    "                                                                                        \"y_size\":Y_SIZE,\n",
    "                                                                                        \"z_size\":Z_SIZE,})"
   ]
  },
  {
   "cell_type": "code",
   "execution_count": null,
   "metadata": {},
   "outputs": [],
   "source": [
    "if SAVE_MORPHOLOGICAL_ANALYSIS : \n",
    "    edge_df.to_csv(os.path.join(directory, 'edge_df_intensity.csv'))"
   ]
  },
  {
   "cell_type": "code",
   "execution_count": null,
   "metadata": {},
   "outputs": [],
   "source": [
    "if DIRECT_VISUALISATION_SIGNAL:\n",
    "    vertex_isolated = go.Scatter3d(x=vert_df.x_pix,\n",
    "                          y=vert_df.y_pix,\n",
    "                          z=vert_df.z_pix,\n",
    "                          mode='markers',\n",
    "                         marker=dict(\n",
    "                            size=2,\n",
    "                            color='black', \n",
    "                            opacity=1\n",
    "                         )\n",
    "        )\n",
    "\n",
    "\n",
    "\n",
    "    fig = go.Figure(data=[vertex_isolated], )\n",
    "    fig.update_layout(title='Filament', \n",
    "                      autosize=False,\n",
    "                      width=1000,\n",
    "                      height=1000,\n",
    "                      margin=dict(l=65, r=50, b=65, t=90),\n",
    "                     )\n",
    "\n",
    "\n",
    "\n",
    "    zs,ys,xs = vert_df.loc[edge_df['srce']][[\"z_pix\", \"y_pix\", \"x_pix\"]].values.flatten(order='F').reshape(3, edge_df.shape[0])\n",
    "    zt,yt,xt = vert_df.loc[edge_df['trgt']][[\"z_pix\", \"y_pix\", \"x_pix\"]].values.flatten(order='F').reshape(3, edge_df.shape[0])\n",
    "    c = (edge_df.myosin_intensity_mean/np.max(edge_df.myosin_intensity_mean)*255).astype('int')\n",
    "\n",
    "    import pylab as pl\n",
    "    cmap = pl.cm.cividis\n",
    "\n",
    "\n",
    "    for i in range(len(zs)):\n",
    "\n",
    "        fig.add_trace(\n",
    "                go.Scatter3d(\n",
    "                    x=[xs[i], xt[i]],\n",
    "                    y=[ys[i], yt[i]],\n",
    "                    z=[zs[i], zt[i]],\n",
    "                    mode='lines',\n",
    "                    line={\"color\":[cmap(c[i]), cmap(c[i])],\n",
    "                          \"width\":10,\n",
    "                         },                \n",
    "                )\n",
    "            )\n",
    "\n",
    "\n",
    "    fig['layout'].update(scene=dict(aspectmode=\"data\"), showlegend=False)\n",
    "    fig.show()"
   ]
  },
  {
   "cell_type": "code",
   "execution_count": null,
   "metadata": {},
   "outputs": [],
   "source": [
    "if DIRECT_VISUALISATION_SIGNAL:\n",
    "    vertex_isolated = go.Scatter3d(x=vert_df.x_pix,\n",
    "                          y=vert_df.y_pix,\n",
    "                          z=vert_df.z_pix,\n",
    "                          mode='markers',\n",
    "                         marker=dict(\n",
    "                            size=2,\n",
    "                            color='black', \n",
    "                            opacity=1\n",
    "                         )\n",
    "        )\n",
    "\n",
    "\n",
    "\n",
    "    fig = go.Figure(data=[vertex_isolated], )\n",
    "    fig.update_layout(title='Filament', \n",
    "                      autosize=False,\n",
    "                      width=1000,\n",
    "                      height=1000,\n",
    "                      margin=dict(l=65, r=50, b=65, t=90),\n",
    "                     )\n",
    "\n",
    "\n",
    "    import pylab as pl\n",
    "    cmap = pl.cm.cividis\n",
    "    c = (edge_df['myosin_intensity_mean']/np.max(edge_df['myosin_intensity_mean'])*cmap.N).astype('int')\n",
    "\n",
    "    for e in edge_df.index:\n",
    "\n",
    "        fig.add_trace(\n",
    "        go.Scatter3d(\n",
    "            x = points_df[points_df.edge==e]['x'].to_numpy()/X_SIZE,\n",
    "            y = points_df[points_df.edge==e]['y'].to_numpy()/Y_SIZE,\n",
    "            z = points_df[points_df.edge==e]['z'].to_numpy()/Z_SIZE,\n",
    "            mode='markers',\n",
    "                   marker=dict(\n",
    "                    size=2,\n",
    "                    color='rgb'+str(cmap(c[e])[:3]), \n",
    "                    opacity=1\n",
    "                   )\n",
    "        )\n",
    "    )\n",
    "\n",
    "\n",
    "    fig['layout'].update(scene=dict(aspectmode=\"data\"), showlegend=False)\n",
    "    fig.show()"
   ]
  },
  {
   "cell_type": "code",
   "execution_count": null,
   "metadata": {},
   "outputs": [],
   "source": []
  },
  {
   "cell_type": "code",
   "execution_count": null,
   "metadata": {},
   "outputs": [],
   "source": []
  },
  {
   "cell_type": "code",
   "execution_count": null,
   "metadata": {
    "scrolled": true
   },
   "outputs": [],
   "source": []
  },
  {
   "cell_type": "code",
   "execution_count": null,
   "metadata": {},
   "outputs": [],
   "source": []
  },
  {
   "cell_type": "code",
   "execution_count": null,
   "metadata": {},
   "outputs": [],
   "source": []
  },
  {
   "cell_type": "code",
   "execution_count": null,
   "metadata": {},
   "outputs": [],
   "source": []
  },
  {
   "cell_type": "code",
   "execution_count": null,
   "metadata": {},
   "outputs": [],
   "source": []
  },
  {
   "cell_type": "code",
   "execution_count": null,
   "metadata": {},
   "outputs": [],
   "source": []
  },
  {
   "cell_type": "code",
   "execution_count": null,
   "metadata": {},
   "outputs": [],
   "source": []
  },
  {
   "cell_type": "markdown",
   "metadata": {},
   "source": [
    "# Analyse au niveau de la face"
   ]
  },
  {
   "cell_type": "code",
   "execution_count": null,
   "metadata": {},
   "outputs": [],
   "source": [
    "from Dissects.analysis.analysis_3D_apical import face_intensity, compute_normal, update_geom, enlarge_face_plane\n",
    "from skimage.draw import polygon"
   ]
  },
  {
   "cell_type": "code",
   "execution_count": null,
   "metadata": {
    "scrolled": true
   },
   "outputs": [],
   "source": [
    "\n",
    "enlarge_face = face_intensity(img_myosin, face_df, edge_df, vert_df,points_df, THICKNESS, DILATION, {\"X_SIZE\":X_SIZE,\n",
    "                                                                           \"Y_SIZE\":Y_SIZE,\n",
    "                                                                           \"Z_SIZE\":Z_SIZE})\n"
   ]
  },
  {
   "cell_type": "code",
   "execution_count": null,
   "metadata": {},
   "outputs": [],
   "source": [
    "if SAVE_MORPHOLOGICAL_ANALYSIS : \n",
    "    face_df.to_csv(os.path.join(directory, 'face_df_intensity.csv'))"
   ]
  },
  {
   "cell_type": "code",
   "execution_count": null,
   "metadata": {},
   "outputs": [],
   "source": []
  },
  {
   "cell_type": "code",
   "execution_count": null,
   "metadata": {},
   "outputs": [],
   "source": [
    "ssdfsdfsdf"
   ]
  },
  {
   "cell_type": "code",
   "execution_count": null,
   "metadata": {},
   "outputs": [],
   "source": [
    "# plot prot intensity\n",
    "\n",
    "import plotly.graph_objects as go\n",
    "\n",
    "z0, y0,x0 = np.where(image_skeleton==1)\n",
    "fond = go.Scatter3d(x=x0,\n",
    "                      y=y0,\n",
    "                      z=z0,\n",
    "                      mode='markers',\n",
    "                     marker=dict(\n",
    "                        size=2,\n",
    "                        color='black',\n",
    "                        opacity=0.5\n",
    "                     )\n",
    "    )\n",
    "\n",
    "\n",
    "zz0, yy0,xx0 = np.where(enlarge_face>1)\n",
    "fond_enlarge = go.Scatter3d(x=xx0,\n",
    "                      y=yy0,\n",
    "                      z=zz0,\n",
    "                      mode='markers',\n",
    "                     marker=dict(\n",
    "                        size=2,\n",
    "                        color='yellow',\n",
    "                        opacity=1,\n",
    "                     )\n",
    "    )\n",
    "\n",
    "\n",
    "\n",
    "fig = go.Figure(data=[fond, fond_enlarge], )\n",
    "fig.update_layout(\n",
    "                  autosize=False,\n",
    "                  width=1000,\n",
    "                  height=1000,\n",
    "                  margin=dict(l=65, r=50, b=65, t=90),\n",
    "                 )\n",
    "\n",
    "fig['layout'].update(scene=dict(aspectmode=\"manual\", \n",
    "                                aspectratio=dict(x=X_SIZE*X_SHAPE, \n",
    "                                                 y=Y_SIZE*Y_SHAPE, \n",
    "                                                 z=Z_SIZE*Z_SHAPE)),\n",
    "                     showlegend=False)\n",
    "\n",
    "\n",
    "fig['layout'].update(scene=dict(aspectmode=\"data\"), showlegend=False)\n",
    "fig.show()"
   ]
  },
  {
   "cell_type": "code",
   "execution_count": null,
   "metadata": {},
   "outputs": [],
   "source": [
    "# plot area\n",
    "\n",
    "import plotly.graph_objects as go\n",
    "\n",
    "import pylab as pl\n",
    "cmap = pl.cm.cividis\n",
    "face_df['intensity']-=face_df.intensity.min()\n",
    "face_df['intensity_norm']=face_df.intensity.values/np.max(face_df.intensity.values)*255\n",
    "plot_face=[]\n",
    "for f in (np.unique(edge_df.face)[1:]):\n",
    "#     print('rgb'+str(cmap(int(ar[f]))))\n",
    "    edges= edge_df[edge_df.face==f]\n",
    "    nb_vert = len(edges)\n",
    "    vert_order = [edges.iloc[0].srce]\n",
    "    for i in range(nb_vert):\n",
    "        vert_order.append(edges[edges.trgt==vert_order[-1]]['srce'].to_numpy()[0])\n",
    "    zs=vert_df.loc[vert_order].z.to_numpy()\n",
    "    ys=vert_df.loc[vert_order].y.to_numpy()\n",
    "    xs=vert_df.loc[vert_order].x.to_numpy()\n",
    "    plot_face.append(dict(\n",
    "        type='scatter3d',\n",
    "        mode='lines',\n",
    "        x=xs,\n",
    "        y=ys,\n",
    "        z=zs,\n",
    "        name='',\n",
    "        surfaceaxis=2, # add a surface axis ('1' refers to axes[1] i.e. the y-axis)\n",
    "        surfacecolor='rgb'+str(cmap(int(face_df['intensity_norm'].iloc[f-1]))[0:3]),\n",
    "#             surfacecolor=fill_colors[int(ar[f]/2)],\n",
    "        line=dict(\n",
    "            color='black',\n",
    "            width=4\n",
    "        ),\n",
    "    ))\n",
    "   \n",
    "    \n",
    "fig = go.Figure(data=plot_face, )\n",
    "fig.update_layout(title='Filament', \n",
    "                  autosize=False,\n",
    "                  width=1000,\n",
    "                  height=1000,\n",
    "                  margin=dict(l=65, r=50, b=65, t=90),\n",
    "                 )\n",
    "\n",
    "fig['layout'].update(scene=dict(aspectmode=\"data\"), showlegend=False)\n",
    "fig.show()"
   ]
  },
  {
   "cell_type": "code",
   "execution_count": null,
   "metadata": {},
   "outputs": [],
   "source": [
    "skel.point.loc[edge_df[edge_df.face == 1].points.iloc[0][0]]"
   ]
  },
  {
   "cell_type": "code",
   "execution_count": null,
   "metadata": {},
   "outputs": [],
   "source": [
    "zz = np.empty(0)\n",
    "yy = np.empty(0)\n",
    "xx = np.empty(0)\n",
    "for data in edge_df[edge_df.face == 24].points:\n",
    "    try:\n",
    "        zz = np.concatenate(\n",
    "            (zz, data[0]))\n",
    "        yy = np.concatenate(\n",
    "            (yy, np.fromstring(data.split('[')[2].split(',')[1], sep=',')))\n",
    "        xx = np.concatenate(\n",
    "            (xx, np.fromstring(data.split('[')[2].split(',')[2][:-3], sep=',')))\n",
    "    except Exception as ex:\n",
    "        \"\"\"\n",
    "        correspond aux petites jonction ajouté \"à la main\"\n",
    "        il faut retrouver les pixels pour pouvoir mesurer les jonctions...\n",
    "        \"\"\"\n",
    "        print(ex)\n",
    "        print('strop')"
   ]
  },
  {
   "cell_type": "code",
   "execution_count": null,
   "metadata": {},
   "outputs": [],
   "source": []
  },
  {
   "cell_type": "code",
   "execution_count": null,
   "metadata": {},
   "outputs": [],
   "source": []
  },
  {
   "cell_type": "code",
   "execution_count": null,
   "metadata": {},
   "outputs": [],
   "source": [
    "from skimage.draw import polygon\n",
    "img_face = enlarge_face_plane(img_myosin, face_df, edge_df, vert_df, 25, 0.6, {\"X_SIZE\":X_SIZE,\n",
    "                                                                           \"Y_SIZE\":Y_SIZE,\n",
    "                                                                           \"Z_SIZE\":Z_SIZE})\n",
    "if DIRECT_VISUALISATION_VERTEX_EDGES: \n",
    "    \n",
    "    \n",
    "    # plot skeleton\n",
    "    image_skeleton = skel.create_binary_image()\n",
    "    z0, y0,x0 = np.where(image_skeleton>0)\n",
    "    background_skeleton = go.Scatter3d(x=x0,\n",
    "                                        y=y0,\n",
    "                                        z=z0,\n",
    "                                        mode='markers',\n",
    "                                        marker=dict(\n",
    "                                            size=2,\n",
    "                                            color='black',\n",
    "                                            opacity=0.1\n",
    "                                         )\n",
    "                        )\n",
    "    \n",
    "    \n",
    "    \n",
    "    z0, y0,x0 = np.where(img_face>0)\n",
    "    face = go.Scatter3d(x=x0,\n",
    "                        y=y0,\n",
    "                        z=z0,\n",
    "                        mode='markers',\n",
    "                        marker=dict(\n",
    "                            size=2,\n",
    "                            color='blue',\n",
    "                            opacity=1\n",
    "                         )\n",
    "                        )\n",
    "    \n",
    "    fig = go.Figure(data=[background_skeleton, face], )\n",
    "    fig.update_layout(title='Background-vertex', \n",
    "                  autosize=False,\n",
    "                  width=1000,\n",
    "                  height=1000,\n",
    "                  margin=dict(l=65, r=50, b=65, t=90),\n",
    "                 )\n",
    "    \n",
    "        \n",
    "    fig['layout'].update(scene=dict(aspectmode=\"manual\", \n",
    "                                aspectratio=dict(x=X_SIZE*X_SHAPE, \n",
    "                                                 y=Y_SIZE*Y_SHAPE, \n",
    "                                                 z=Z_SIZE*Z_SHAPE)\n",
    "                                   ),\n",
    "                     showlegend=False)\n",
    "    fig.show()"
   ]
  },
  {
   "cell_type": "code",
   "execution_count": null,
   "metadata": {},
   "outputs": [],
   "source": []
  },
  {
   "cell_type": "code",
   "execution_count": null,
   "metadata": {},
   "outputs": [],
   "source": [
    "face_df.loc[25]"
   ]
  },
  {
   "cell_type": "code",
   "execution_count": null,
   "metadata": {},
   "outputs": [],
   "source": [
    "vert_df.loc[[133,441,145,667,440,444]]"
   ]
  },
  {
   "cell_type": "code",
   "execution_count": null,
   "metadata": {},
   "outputs": [],
   "source": []
  },
  {
   "cell_type": "code",
   "execution_count": null,
   "metadata": {},
   "outputs": [],
   "source": []
  },
  {
   "cell_type": "code",
   "execution_count": null,
   "metadata": {},
   "outputs": [],
   "source": []
  },
  {
   "cell_type": "code",
   "execution_count": null,
   "metadata": {},
   "outputs": [],
   "source": []
  },
  {
   "cell_type": "code",
   "execution_count": null,
   "metadata": {},
   "outputs": [],
   "source": []
  },
  {
   "cell_type": "code",
   "execution_count": null,
   "metadata": {
    "scrolled": false
   },
   "outputs": [],
   "source": []
  },
  {
   "cell_type": "code",
   "execution_count": null,
   "metadata": {},
   "outputs": [],
   "source": []
  },
  {
   "cell_type": "code",
   "execution_count": null,
   "metadata": {},
   "outputs": [],
   "source": []
  },
  {
   "cell_type": "code",
   "execution_count": null,
   "metadata": {},
   "outputs": [],
   "source": []
  },
  {
   "cell_type": "code",
   "execution_count": null,
   "metadata": {},
   "outputs": [],
   "source": []
  },
  {
   "cell_type": "code",
   "execution_count": null,
   "metadata": {},
   "outputs": [],
   "source": []
  },
  {
   "cell_type": "code",
   "execution_count": null,
   "metadata": {},
   "outputs": [],
   "source": []
  },
  {
   "cell_type": "code",
   "execution_count": null,
   "metadata": {},
   "outputs": [],
   "source": []
  },
  {
   "cell_type": "code",
   "execution_count": null,
   "metadata": {},
   "outputs": [],
   "source": [
    "import plotly.graph_objects as go\n",
    "from matplotlib.colors import ListedColormap\n",
    "rand = (np.random.rand(200,3)*255).astype('int')\n",
    "rand[0] = 0\n",
    "cmap_rand = ListedColormap(rand)\n",
    "\n",
    "\n",
    "\n",
    "z0, y0,x0 = np.where(img_binary_3d==1)\n",
    "fond = go.Scatter3d(x=x0,\n",
    "                      y=y0,\n",
    "                      z=z0,\n",
    "                      mode='markers',\n",
    "                     marker=dict(\n",
    "                        size=2,\n",
    "                        color='black',\n",
    "                        opacity=1\n",
    "                     )\n",
    "    )\n",
    "\n",
    "z0, y0,x0 = np.where(img_plane==1)\n",
    "face = go.Scatter3d(x=x0,\n",
    "                      y=y0,\n",
    "                      z=z0,\n",
    "                      mode='markers',\n",
    "                     marker=dict(\n",
    "                        size=2,\n",
    "                        color='blue', \n",
    "                        opacity=0.2\n",
    "                     )\n",
    "    )\n",
    "\n",
    "\n",
    "plot_face=[]\n",
    "plot_face.append(fond)\n",
    "plot_face.append(face)\n",
    "fig = go.Figure(data=plot_face, )\n",
    "fig.update_layout(title='Filament', \n",
    "                  autosize=False,\n",
    "                  width=1000,\n",
    "                  height=1000,\n",
    "                  margin=dict(l=65, r=50, b=65, t=90),\n",
    "                 )\n",
    "\n",
    "fig['layout'].update(scene=dict(aspectmode=\"data\"), showlegend=False)\n",
    "fig.show()"
   ]
  },
  {
   "cell_type": "code",
   "execution_count": null,
   "metadata": {
    "scrolled": false
   },
   "outputs": [],
   "source": []
  },
  {
   "cell_type": "code",
   "execution_count": null,
   "metadata": {
    "scrolled": true
   },
   "outputs": [],
   "source": []
  },
  {
   "cell_type": "code",
   "execution_count": null,
   "metadata": {},
   "outputs": [],
   "source": []
  },
  {
   "cell_type": "code",
   "execution_count": null,
   "metadata": {},
   "outputs": [],
   "source": []
  },
  {
   "cell_type": "code",
   "execution_count": null,
   "metadata": {},
   "outputs": [],
   "source": []
  },
  {
   "cell_type": "code",
   "execution_count": null,
   "metadata": {
    "scrolled": false
   },
   "outputs": [],
   "source": []
  },
  {
   "cell_type": "code",
   "execution_count": null,
   "metadata": {
    "scrolled": false
   },
   "outputs": [],
   "source": []
  },
  {
   "cell_type": "code",
   "execution_count": null,
   "metadata": {},
   "outputs": [],
   "source": []
  },
  {
   "cell_type": "code",
   "execution_count": null,
   "metadata": {},
   "outputs": [],
   "source": []
  },
  {
   "cell_type": "code",
   "execution_count": null,
   "metadata": {},
   "outputs": [],
   "source": []
  },
  {
   "cell_type": "code",
   "execution_count": null,
   "metadata": {},
   "outputs": [],
   "source": []
  },
  {
   "cell_type": "code",
   "execution_count": null,
   "metadata": {},
   "outputs": [],
   "source": []
  },
  {
   "cell_type": "code",
   "execution_count": null,
   "metadata": {},
   "outputs": [],
   "source": []
  },
  {
   "cell_type": "code",
   "execution_count": null,
   "metadata": {},
   "outputs": [],
   "source": []
  },
  {
   "cell_type": "code",
   "execution_count": null,
   "metadata": {},
   "outputs": [],
   "source": []
  },
  {
   "cell_type": "code",
   "execution_count": null,
   "metadata": {},
   "outputs": [],
   "source": []
  },
  {
   "cell_type": "code",
   "execution_count": null,
   "metadata": {},
   "outputs": [],
   "source": []
  },
  {
   "cell_type": "code",
   "execution_count": null,
   "metadata": {},
   "outputs": [],
   "source": []
  },
  {
   "cell_type": "markdown",
   "metadata": {},
   "source": [
    "# Verification area/perimeter"
   ]
  },
  {
   "cell_type": "code",
   "execution_count": null,
   "metadata": {},
   "outputs": [],
   "source": [
    "from Dissects.analysis.analysis_3D_apical import projected_points\n",
    "f = 19\n",
    "\n",
    "fig = go.Figure([background_skeleton])\n",
    "\n",
    "\n",
    "rand = (np.random.rand(500,3)*255).astype('int')\n",
    "rand[0] = 0\n",
    "cmap_rand = ListedColormap(rand)\n",
    "\n",
    "fig.add_trace(\n",
    "        go.Scatter3d(\n",
    "            x=points_df[points_df.face==f]['x_pix'].to_numpy(),\n",
    "            y=points_df[points_df.face==f]['y_pix'].to_numpy(),\n",
    "            z=points_df[points_df.face==f]['z_pix'].to_numpy(),\n",
    "            mode='markers',\n",
    "                   marker=dict(\n",
    "                    size=2,\n",
    "                    color='red', \n",
    "                    opacity=1\n",
    "                   )\n",
    "        )\n",
    "    )\n",
    "\n",
    "\n",
    " # Edges\n",
    "zs,ys,xs = vert_df.loc[edge_df[edge_df.face==f]['srce']][['z_pix', 'y_pix', 'x_pix']].values.flatten(order='F').reshape(3,edge_df[edge_df.face==f].shape[0])\n",
    "zt,yt,xt = vert_df.loc[edge_df[edge_df.face==f]['trgt']][['z_pix', 'y_pix', 'x_pix']].values.flatten(order='F').reshape(3,edge_df[edge_df.face==f].shape[0])\n",
    "\n",
    "rand = (np.random.rand(len(zs),3)*255).astype('int')\n",
    "rand[0] = 0\n",
    "cmap_rand = ListedColormap(rand)\n",
    "for i in range(len(zs)):\n",
    "    fig.add_trace(\n",
    "            go.Scatter3d(\n",
    "                x=[xs[i], xt[i]],\n",
    "                y=[ys[i], yt[i]],\n",
    "                z=[zs[i], zt[i]],\n",
    "                mode='lines',\n",
    "                line={\"color\":'black',\n",
    "                      \"width\":10,\n",
    "                     },                \n",
    "            )\n",
    "        )\n",
    "\n",
    "    \n",
    "\n",
    "\n",
    "fig['layout'].update(scene=dict(aspectmode=\"manual\", \n",
    "                            aspectratio=dict(x=X_SIZE*X_SHAPE, \n",
    "                                             y=Y_SIZE*Y_SHAPE, \n",
    "                                             z=Z_SIZE*Z_SHAPE)),\n",
    "                 showlegend=False)\n",
    "fig.update_layout(title='Filament', \n",
    "                      autosize=False,\n",
    "                      width=1000,\n",
    "                      height=1000,\n",
    "                      margin=dict(l=65, r=50, b=65, t=90),\n",
    "                     )\n",
    "fig.show()"
   ]
  },
  {
   "cell_type": "code",
   "execution_count": null,
   "metadata": {},
   "outputs": [],
   "source": [
    "rot_pos = projected_points(face_df, edge_df, points_df, f)\n",
    "\n",
    "fig = go.Figure([])\n",
    "\n",
    "fig.add_trace(\n",
    "        go.Scatter3d(\n",
    "            x=rot_pos['x'].to_numpy()/X_SIZE,\n",
    "            y=rot_pos['y'].to_numpy()/Y_SIZE,\n",
    "            z=rot_pos['z'].to_numpy()/Z_SIZE,\n",
    "            mode='markers',\n",
    "                   marker=dict(\n",
    "                    size=2,\n",
    "                    color='blue', \n",
    "                    opacity=1\n",
    "                   )\n",
    "        )\n",
    "    )\n",
    "    \n",
    "fig.add_trace(\n",
    "        go.Scatter3d(\n",
    "            x=rot_pos['x'].to_numpy()/X_SIZE,\n",
    "            y=rot_pos['y'].to_numpy()/Y_SIZE,\n",
    "            z=rot_pos['z'].to_numpy()*0,\n",
    "            mode='markers',\n",
    "                   marker=dict(\n",
    "                    size=2,\n",
    "                    color='green', \n",
    "                    opacity=1\n",
    "                   )\n",
    "        )\n",
    "    )\n",
    "fig['layout'].update(scene=dict(aspectmode=\"manual\", \n",
    "                            aspectratio=dict(x=X_SIZE*X_SHAPE, \n",
    "                                             y=Y_SIZE*Y_SHAPE, \n",
    "                                             z=Z_SIZE*Z_SHAPE)),\n",
    "                 showlegend=False)\n",
    "fig.update_layout(title='Filament', \n",
    "                      autosize=False,\n",
    "                      width=1000,\n",
    "                      height=1000,\n",
    "                      margin=dict(l=65, r=50, b=65, t=90),\n",
    "                     )\n",
    "fig.show()"
   ]
  },
  {
   "cell_type": "code",
   "execution_count": null,
   "metadata": {},
   "outputs": [],
   "source": [
    "fig, ax = plt.subplots()\n",
    "\n",
    "ax.plot(rot_pos['y'].to_numpy(),\n",
    "         rot_pos['x'].to_numpy(),'.')\n",
    "\n",
    "ax.set_aspect(\"equal\")"
   ]
  },
  {
   "cell_type": "code",
   "execution_count": null,
   "metadata": {},
   "outputs": [],
   "source": [
    "face_df\n"
   ]
  },
  {
   "cell_type": "code",
   "execution_count": null,
   "metadata": {},
   "outputs": [],
   "source": []
  },
  {
   "cell_type": "code",
   "execution_count": null,
   "metadata": {},
   "outputs": [],
   "source": []
  },
  {
   "cell_type": "code",
   "execution_count": null,
   "metadata": {
    "scrolled": true
   },
   "outputs": [],
   "source": []
  },
  {
   "cell_type": "code",
   "execution_count": null,
   "metadata": {},
   "outputs": [],
   "source": []
  },
  {
   "cell_type": "code",
   "execution_count": null,
   "metadata": {},
   "outputs": [],
   "source": []
  },
  {
   "cell_type": "code",
   "execution_count": null,
   "metadata": {},
   "outputs": [],
   "source": []
  },
  {
   "cell_type": "code",
   "execution_count": null,
   "metadata": {},
   "outputs": [],
   "source": []
  },
  {
   "cell_type": "code",
   "execution_count": null,
   "metadata": {},
   "outputs": [],
   "source": []
  },
  {
   "cell_type": "code",
   "execution_count": null,
   "metadata": {},
   "outputs": [],
   "source": []
  },
  {
   "cell_type": "code",
   "execution_count": null,
   "metadata": {},
   "outputs": [],
   "source": []
  },
  {
   "cell_type": "code",
   "execution_count": null,
   "metadata": {},
   "outputs": [],
   "source": [
    "from tyssue import Sheet\n",
    "from tyssue import SheetGeometry\n",
    "face_df = pd.DataFrame(index=np.arange(1, np.max(edge_df.face)))\n",
    "# remove_edge = edge_df[edge_df.face==-1].index\n",
    "# edge_df.drop(remove_edge, axis=0, inplace=True)\n",
    "# edge_df.reset_index(inplace=True, drop=True)\n",
    "data={'vert':vert_df, 'edge':edge_df, 'face':face_df}\n",
    "sheet = Sheet('spherical', data)\n",
    "sheet.reset_index()\n",
    "sheet.reset_topo()\n",
    "SheetGeometry.update_all(sheet)\n",
    "\n",
    "from tyssue.draw import sheet_view\n",
    "fig, ax = sheet_view(sheet,list('yz'), mode='2D')"
   ]
  },
  {
   "cell_type": "code",
   "execution_count": null,
   "metadata": {},
   "outputs": [],
   "source": []
  },
  {
   "cell_type": "code",
   "execution_count": null,
   "metadata": {
    "scrolled": true
   },
   "outputs": [],
   "source": [
    "from tyssue.draw import sheet_view\n",
    "fig, ax = sheet_view(sheet, mode='3D')\n",
    "fig"
   ]
  },
  {
   "cell_type": "code",
   "execution_count": null,
   "metadata": {},
   "outputs": [],
   "source": []
  },
  {
   "cell_type": "code",
   "execution_count": null,
   "metadata": {},
   "outputs": [],
   "source": []
  },
  {
   "cell_type": "code",
   "execution_count": null,
   "metadata": {},
   "outputs": [],
   "source": []
  }
 ],
 "metadata": {
  "kernelspec": {
   "display_name": "Python 3",
   "language": "python",
   "name": "python3"
  },
  "language_info": {
   "codemirror_mode": {
    "name": "ipython",
    "version": 3
   },
   "file_extension": ".py",
   "mimetype": "text/x-python",
   "name": "python",
   "nbconvert_exporter": "python",
   "pygments_lexer": "ipython3",
   "version": "3.8.10"
  }
 },
 "nbformat": 4,
 "nbformat_minor": 2
}

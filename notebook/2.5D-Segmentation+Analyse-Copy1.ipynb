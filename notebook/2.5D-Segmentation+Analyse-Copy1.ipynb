{
 "cells": [
  {
   "cell_type": "markdown",
   "metadata": {},
   "source": [
    "# Global variable\n",
    "\n",
    "Ce n'est pas idéal, mais c'est une solution temporaire pour choisir tout les paramètres au début de l'analyse sans avoir à les chercher dans les différentes cellules..."
   ]
  },
  {
   "cell_type": "code",
   "execution_count": null,
   "metadata": {},
   "outputs": [],
   "source": [
    "directory = \"/media/admin-suz/Datas/Comparative-analysis_FoldsLeg/fold-5/1160/\"\n",
    "\n",
    "\n",
    "SKELETON_NAME     = \"20210630_EcadGFP_FastAiSc-1160x1160_px0.09um_dweel0-90_zoom2_002-GB1-fold5.fits_c700.up.NDskl.BRK.a.NDskl\"\n",
    "IMAGE_NAME        = \"20210630_EcadGFP_FastAiSc-1160x1160_px0.09um_dweel0-90_zoom2_002-GB1.tif\"\n",
    "IMAGE_NAME_MYOSIN = \"20210630_EcadGFP_FastAiSc-1160x1160_px0.09um_dweel0-90_zoom2_002-GB1.tif\"\n",
    "\n",
    "# Pixel/Voxel size\n",
    "# Airyscan\n",
    "X_SIZE = 0.1832311/2\n",
    "Y_SIZE = 0.1832311/2\n",
    "Z_SIZE = 0.2201818\n",
    "\n",
    "# Confocal\n",
    "# X_SIZE = 0.2075665/2\n",
    "# Y_SIZE = 0.2075665/2\n",
    "# Z_SIZE = 0.4355092"
   ]
  },
  {
   "cell_type": "code",
   "execution_count": null,
   "metadata": {},
   "outputs": [],
   "source": [
    "# Save face, edge, vert dataframe from initial segmentation\n",
    "SAVE_INIT_SEGMENTATION = True\n",
    "# Save face, edge, vert image from initial segmentation\n",
    "SAVE_INIT_SEGMENTATION_IMAGE = True\n",
    "\n",
    "SAVE_SIGNAL_MEASURE = True\n",
    "\n",
    "DIRECT_VISUALISATION_SKELETON = True\n",
    "DIRECT_VISUALISATION_VERTEX_EDGES = True\n",
    "DIRECT_VISUALISATION_FACE = True\n",
    "\n",
    "# Analyse morphologique\n",
    "MORPHOLOGICAL_ANALYSIS = True\n",
    "SAVE_MORPHOLOGICAL_ANALYSIS = True\n",
    "AREA = True\n",
    "PERIMETER = True\n",
    "NB_NEIGHBOR = True\n",
    "ANISO = True\n",
    "J_ORIENTATION = True\n",
    "DIRECT_VISUALISATION_ORIENTATION = True\n",
    "DIRECT_VISUALISATION_SIGNAL = True\n",
    "\n",
    "INTENSITY_ANALYSIS = True\n",
    "\n",
    "# Largeur d'épaississement de la surface de la cellule\n",
    "# Cette valeur est ajoutée au dessus et en dessous du plan de la face\n",
    "THICKNESS = 0.5\n",
    "DILATION = 3\n",
    "\n",
    "SAVE_MORPHOLOGICAL_ANALYSIS = True\n",
    "SAVE_INTENSITY_ANALYSIS = True"
   ]
  },
  {
   "cell_type": "code",
   "execution_count": null,
   "metadata": {},
   "outputs": [],
   "source": []
  },
  {
   "cell_type": "code",
   "execution_count": null,
   "metadata": {},
   "outputs": [],
   "source": []
  },
  {
   "cell_type": "markdown",
   "metadata": {},
   "source": [
    "# Import "
   ]
  },
  {
   "cell_type": "code",
   "execution_count": null,
   "metadata": {},
   "outputs": [],
   "source": [
    "from Dissects.io import (load_NDskl, \n",
    "                         load_image,\n",
    "                         load_skeleton,\n",
    "                         save_skeleton,\n",
    "                         save_fits,\n",
    "                         save_image,\n",
    "                        )\n",
    "\n",
    "from Dissects.image import (z_project,\n",
    "                            thinning,\n",
    "                            dilation)\n",
    "\n",
    "from Dissects.geometry import Skeleton\n",
    "\n",
    "from Dissects.draw.plt_draw import (plot_skeleton_3D,\n",
    "                                    plot_face_3D,\n",
    "                                    plot_junction_3D,\n",
    "                                    plot_aniso_cell,\n",
    "                                    plot_junction_analyse_3D,\n",
    "                                    plot_face_analyse_3D\n",
    "                                   )\n",
    "\n",
    "from Dissects.analysis.analysis import (general_analysis,\n",
    "                              cellstats\n",
    "                              )\n",
    "\n",
    "from Dissects.analysis.analysis_3D_apical import (junction_intensity,\n",
    "                                                  face_intensity,\n",
    "                                                  morphology_analysis)\n",
    "\n",
    "from Dissects.segmentation.seg_3D_apical import (Segmentation3D)\n"
   ]
  },
  {
   "cell_type": "code",
   "execution_count": null,
   "metadata": {},
   "outputs": [],
   "source": [
    "import os\n",
    "import time\n",
    "\n",
    "from skimage import io\n",
    "import numpy as np\n",
    "import pandas as pd\n",
    "import copy\n",
    "import sys\n",
    "from skimage import morphology\n",
    "\n",
    "import matplotlib.pyplot as plt\n",
    "import matplotlib as mpl\n",
    "from matplotlib.colors import ListedColormap\n",
    "import plotly.graph_objects as go\n",
    "import pylab as pl\n",
    "\n",
    "sys.setrecursionlimit(10000)\n",
    "\n",
    "import plotly.express as px\n",
    "\n",
    "from scipy.ndimage.morphology import (binary_fill_holes,\n",
    "                                      binary_dilation,\n",
    "                                     )\n",
    "from scipy import ndimage\n",
    "import scipy as sci\n",
    "# %matplotlib notebook\n",
    "%load_ext snakeviz"
   ]
  },
  {
   "cell_type": "code",
   "execution_count": null,
   "metadata": {},
   "outputs": [],
   "source": [
    "import matplotlib as mpl\n",
    "\n",
    "# update fig parameter\n",
    "mpl.rcParams['figure.dpi'] = 150 #\n",
    "mpl.rcParams['figure.figsize'] = (10,10)"
   ]
  },
  {
   "cell_type": "code",
   "execution_count": null,
   "metadata": {},
   "outputs": [],
   "source": []
  },
  {
   "cell_type": "markdown",
   "metadata": {},
   "source": [
    "# Load Data"
   ]
  },
  {
   "cell_type": "code",
   "execution_count": null,
   "metadata": {},
   "outputs": [],
   "source": [
    "# get original image\n",
    "tiff_junction = io.imread(os.path.join(directory, \n",
    "                              IMAGE_NAME))\n"
   ]
  },
  {
   "cell_type": "code",
   "execution_count": null,
   "metadata": {},
   "outputs": [],
   "source": [
    "# Create skeleton object\n",
    "cp, fil, point, cp_fil_info, specs = load_NDskl(os.path.join(directory, SKELETON_NAME))\n",
    "skeleton = Skeleton(cp, fil, point, cp_fil_info, specs)"
   ]
  },
  {
   "cell_type": "code",
   "execution_count": null,
   "metadata": {},
   "outputs": [],
   "source": [
    "#Clean skeleton\n",
    "start = time.time()\n",
    "skeleton.clean()\n",
    "end = time.time()\n",
    "print(end-start)"
   ]
  },
  {
   "cell_type": "code",
   "execution_count": null,
   "metadata": {},
   "outputs": [],
   "source": [
    "specs = {\"x_size\":X_SIZE,\n",
    "         \"y_size\":Y_SIZE,\n",
    "         \"z_size\":Z_SIZE,\n",
    "         \"x_shape\":tiff_junction.shape[2],\n",
    "         \"y_shape\":tiff_junction.shape[1],\n",
    "         \"z_shape\":tiff_junction.shape[0]}"
   ]
  },
  {
   "cell_type": "code",
   "execution_count": null,
   "metadata": {},
   "outputs": [],
   "source": []
  },
  {
   "cell_type": "code",
   "execution_count": null,
   "metadata": {},
   "outputs": [],
   "source": []
  },
  {
   "cell_type": "code",
   "execution_count": null,
   "metadata": {},
   "outputs": [],
   "source": [
    "if SAVE_INIT_SEGMENTATION_IMAGE :\n",
    "    image_skeleton = skeleton.create_binary_image(dilation_width=3)\n",
    "\n",
    "    save_image(image_skeleton, \n",
    "               IMAGE_NAME[:-4] + '_output_skeleton.tif', \n",
    "               directory, \n",
    "               **specs)"
   ]
  },
  {
   "cell_type": "code",
   "execution_count": null,
   "metadata": {},
   "outputs": [],
   "source": [
    "if DIRECT_VISUALISATION_SKELETON:\n",
    "    fig = plot_skeleton_3D(skeleton, **specs)\n",
    "    fig.show()\n"
   ]
  },
  {
   "cell_type": "code",
   "execution_count": null,
   "metadata": {},
   "outputs": [],
   "source": []
  },
  {
   "cell_type": "markdown",
   "metadata": {},
   "source": [
    "# 3D vertex detection"
   ]
  },
  {
   "cell_type": "code",
   "execution_count": null,
   "metadata": {},
   "outputs": [],
   "source": [
    "segmentation = Segmentation3D(skeleton, specs)"
   ]
  },
  {
   "cell_type": "code",
   "execution_count": null,
   "metadata": {
    "scrolled": false
   },
   "outputs": [],
   "source": [
    "start = time.time()\n",
    "\n",
    "segmentation.generate_segmentation(**segmentation.specs)\n",
    "# face_df, edge_df, vert_df, points_df = generate_segmentation(skel, img0, **{\"X_SIZE\":X_SIZE,\n",
    "#                                                                            \"Y_SIZE\":Y_SIZE,\n",
    "#                                                                            \"Z_SIZE\":Z_SIZE})\n",
    "end= time.time()\n",
    "print(end-start)"
   ]
  },
  {
   "cell_type": "code",
   "execution_count": null,
   "metadata": {},
   "outputs": [],
   "source": []
  },
  {
   "cell_type": "markdown",
   "metadata": {},
   "source": [
    "### Save few outputs"
   ]
  },
  {
   "cell_type": "code",
   "execution_count": null,
   "metadata": {},
   "outputs": [],
   "source": [
    "if SAVE_INIT_SEGMENTATION : \n",
    "    segmentation.vert_df.to_csv(os.path.join(directory, 'vert_df.csv'))\n",
    "    segmentation.edge_df.to_csv(os.path.join(directory, 'edge_df.csv'))\n",
    "    segmentation.face_df.to_csv(os.path.join(directory, 'face_df.csv'))\n"
   ]
  },
  {
   "cell_type": "code",
   "execution_count": null,
   "metadata": {},
   "outputs": [],
   "source": [
    "if SAVE_INIT_SEGMENTATION_IMAGE :\n",
    "    vertex_image = segmentation.image_identity_vertex(binary=False, dilation_width=3)\n",
    "    save_image(vertex_image, \n",
    "               IMAGE_NAME[:-4] + '_output_vertex_test.tif', \n",
    "               directory, \n",
    "               **segmentation.specs)\n",
    "    \n",
    "    junction_image = segmentation.image_identity_junction(dilation_width=3, aleatory=True)\n",
    "    save_image(junction_image, \n",
    "               IMAGE_NAME[:-4] + '_output_junction_test.tif', \n",
    "               directory, \n",
    "               **segmentation.specs)\n",
    "    \n",
    "    face_image = segmentation.image_identity_face(aleatory=False, thickness=THICKNESS)\n",
    "    save_image(face_image, \n",
    "               IMAGE_NAME[:-4] + '_output_face_test.tif', \n",
    "               directory, \n",
    "               **segmentation.specs)\n",
    "    "
   ]
  },
  {
   "cell_type": "code",
   "execution_count": null,
   "metadata": {},
   "outputs": [],
   "source": []
  },
  {
   "cell_type": "code",
   "execution_count": null,
   "metadata": {
    "scrolled": false
   },
   "outputs": [],
   "source": [
    "if DIRECT_VISUALISATION_FACE:\n",
    "    fig = plot_skeleton_3D(segmentation.skeleton,\n",
    "                          **segmentation.specs)\n",
    "\n",
    "    fig = plot_face_3D(segmentation,\n",
    "                       fig,\n",
    "                      **segmentation.specs)\n",
    "    fig.show()"
   ]
  },
  {
   "cell_type": "code",
   "execution_count": null,
   "metadata": {
    "scrolled": false
   },
   "outputs": [],
   "source": [
    "if DIRECT_VISUALISATION_VERTEX_EDGES: \n",
    "    fig = plot_skeleton_3D(segmentation.skeleton,\n",
    "                          **segmentation.specs)\n",
    "\n",
    " \n",
    "    fig = plot_junction_3D(segmentation,\n",
    "                           fig,\n",
    "                          **segmentation.specs)\n",
    "    fig.show()\n",
    "    \n"
   ]
  },
  {
   "cell_type": "code",
   "execution_count": null,
   "metadata": {},
   "outputs": [],
   "source": []
  },
  {
   "cell_type": "code",
   "execution_count": null,
   "metadata": {},
   "outputs": [],
   "source": []
  },
  {
   "cell_type": "code",
   "execution_count": null,
   "metadata": {},
   "outputs": [],
   "source": []
  },
  {
   "cell_type": "code",
   "execution_count": null,
   "metadata": {},
   "outputs": [],
   "source": []
  },
  {
   "cell_type": "code",
   "execution_count": null,
   "metadata": {},
   "outputs": [],
   "source": []
  },
  {
   "cell_type": "code",
   "execution_count": null,
   "metadata": {
    "scrolled": true
   },
   "outputs": [],
   "source": []
  },
  {
   "cell_type": "code",
   "execution_count": null,
   "metadata": {},
   "outputs": [],
   "source": []
  },
  {
   "cell_type": "code",
   "execution_count": null,
   "metadata": {},
   "outputs": [],
   "source": []
  },
  {
   "cell_type": "code",
   "execution_count": null,
   "metadata": {},
   "outputs": [],
   "source": []
  },
  {
   "cell_type": "markdown",
   "metadata": {},
   "source": [
    "# Analyse"
   ]
  },
  {
   "cell_type": "code",
   "execution_count": null,
   "metadata": {
    "scrolled": false
   },
   "outputs": [],
   "source": [
    "# morphometry analysis\n",
    "\n",
    "if MORPHOLOGICAL_ANALYSIS :\n",
    "    morphology_analysis(segmentation,\n",
    "                        area=AREA,\n",
    "                        perimeter=PERIMETER,\n",
    "                        nb_neighbor=NB_NEIGHBOR,\n",
    "                        aniso=ANISO,\n",
    "                        j_orientation=J_ORIENTATION,\n",
    "                       )\n",
    "\n",
    "if INTENSITY_ANALYSIS : \n",
    "    junction_intensity(tiff_junction, segmentation, DILATION, 'myosin_intensity')\n",
    "    enlarge_face = face_intensity(tiff_junction, segmentation, THICKNESS, DILATION, 'myosin_intensity')\n"
   ]
  },
  {
   "cell_type": "code",
   "execution_count": null,
   "metadata": {},
   "outputs": [],
   "source": [
    "if SAVE_MORPHOLOGICAL_ANALYSIS : \n",
    "    segmentation.vert_df.to_csv(os.path.join(directory, 'vert_df_morphology.csv'))\n",
    "    segmentation.edge_df.to_csv(os.path.join(directory, 'edge_df_morphology.csv'))\n",
    "    segmentation.face_df.to_csv(os.path.join(directory, 'face_df_morphology.csv'))"
   ]
  },
  {
   "cell_type": "code",
   "execution_count": null,
   "metadata": {
    "scrolled": false
   },
   "outputs": [],
   "source": [
    "if DIRECT_VISUALISATION_ORIENTATION:\n",
    "    fig = plot_skeleton_3D(segmentation.skeleton,\n",
    "                          **segmentation.specs)\n",
    "    \n",
    "    fig = plot_aniso_cell(segmentation, fig = fig)    \n",
    "\n",
    "    fig.show()\n",
    "    "
   ]
  },
  {
   "cell_type": "code",
   "execution_count": null,
   "metadata": {},
   "outputs": [],
   "source": [
    "analyse_face_image = segmentation.image_analyse_face(\"area\")\n",
    "save_image(analyse_face_image, \n",
    "           IMAGE_NAME[:-4] + '_area_test.tif', \n",
    "           directory, \n",
    "           **segmentation.specs)\n",
    "\n",
    "aniso_face_image = segmentation.image_aniso()\n",
    "save_image(aniso_face_image, \n",
    "           IMAGE_NAME[:-4] + '_aniso_test.tif', \n",
    "           directory, \n",
    "           **segmentation.specs)\n",
    "\n",
    "\n",
    "analyse_junction_image = segmentation.image_analyse_junction(\"length\")\n",
    "save_image(analyse_junction_image, \n",
    "           IMAGE_NAME[:-4] + '_length_test.tif', \n",
    "           directory, \n",
    "           **segmentation.specs)\n"
   ]
  },
  {
   "cell_type": "code",
   "execution_count": null,
   "metadata": {},
   "outputs": [],
   "source": [
    "analyse_face_image = segmentation.image_analyse_face(\"area\", border=False)\n",
    "save_image(analyse_face_image, \n",
    "           IMAGE_NAME[:-4] + '_area_wo_border.tif', \n",
    "           directory, \n",
    "           **segmentation.specs)\n",
    "\n",
    "\n",
    "analyse_junction_image = segmentation.image_analyse_junction(\"length\", border=False)\n",
    "save_image(analyse_junction_image, \n",
    "           IMAGE_NAME[:-4] + '_length_wo_border_test.tif', \n",
    "           directory, \n",
    "           **segmentation.specs)"
   ]
  },
  {
   "cell_type": "code",
   "execution_count": null,
   "metadata": {},
   "outputs": [],
   "source": []
  },
  {
   "cell_type": "code",
   "execution_count": null,
   "metadata": {
    "scrolled": false
   },
   "outputs": [],
   "source": []
  },
  {
   "cell_type": "code",
   "execution_count": null,
   "metadata": {},
   "outputs": [],
   "source": [
    "segmentation.edge_df['orientation_xz_degree'] = segmentation.edge_df['orientation_xz']*180/np.pi\n",
    "segmentation.edge_df['orientation_xz_degree'] = [180+a if a<0 else a for a in segmentation.edge_df['orientation_xz_degree']]\n",
    "segmentation.edge_df['orientation_xz_degree'] = [180-a if a>90 else a for a in segmentation.edge_df['orientation_xz_degree']]\n",
    "\n",
    "analyse_junction_image = segmentation.image_analyse_junction(\"orientation_xz_degree\", normalize=False, border=False)\n",
    "save_image(analyse_junction_image, \n",
    "           IMAGE_NAME[:-4] + '_orientation_xz_wo_border.tif', \n",
    "           directory, \n",
    "           **segmentation.specs)"
   ]
  },
  {
   "cell_type": "code",
   "execution_count": null,
   "metadata": {},
   "outputs": [],
   "source": [
    "segmentation.edge_df['orientation_yz_degree'] = segmentation.edge_df['orientation_yz']*180/np.pi\n",
    "segmentation.edge_df['orientation_yz_degree'] = [180+a if a<0 else a for a in segmentation.edge_df['orientation_yz_degree']]\n",
    "segmentation.edge_df['orientation_yz_degree'] = [180-a if a>90 else a for a in segmentation.edge_df['orientation_yz_degree']]\n",
    "\n",
    "analyse_junction_image = segmentation.image_analyse_junction(\"orientation_yz_degree\", normalize=False, border=False)\n",
    "save_image(analyse_junction_image, \n",
    "           IMAGE_NAME[:-4] + '_orientation_yz_wo_border.tif', \n",
    "           directory, \n",
    "           **segmentation.specs)"
   ]
  },
  {
   "cell_type": "code",
   "execution_count": null,
   "metadata": {},
   "outputs": [],
   "source": []
  },
  {
   "cell_type": "code",
   "execution_count": null,
   "metadata": {
    "scrolled": false
   },
   "outputs": [],
   "source": [
    "\n",
    "fig = plot_skeleton_3D(segmentation.skeleton,\n",
    "                      **segmentation.specs)\n",
    "\n",
    "fig = plot_junction_analyse_3D(segmentation, 'length',border=False,)\n",
    "\n",
    "fig.show()\n",
    "    "
   ]
  },
  {
   "cell_type": "code",
   "execution_count": null,
   "metadata": {},
   "outputs": [],
   "source": []
  },
  {
   "cell_type": "code",
   "execution_count": null,
   "metadata": {
    "scrolled": false
   },
   "outputs": [],
   "source": [
    "\n",
    "fig = plot_skeleton_3D(segmentation.skeleton,\n",
    "                      **segmentation.specs)\n",
    "\n",
    "fig = plot_face_analyse_3D(segmentation, 'area', normalize_max=255, border = False, fig = fig)    \n",
    "\n",
    "fig.show()\n",
    "    "
   ]
  },
  {
   "cell_type": "code",
   "execution_count": null,
   "metadata": {},
   "outputs": [],
   "source": []
  },
  {
   "cell_type": "code",
   "execution_count": null,
   "metadata": {},
   "outputs": [],
   "source": []
  },
  {
   "cell_type": "code",
   "execution_count": null,
   "metadata": {},
   "outputs": [],
   "source": []
  },
  {
   "cell_type": "code",
   "execution_count": null,
   "metadata": {},
   "outputs": [],
   "source": []
  },
  {
   "cell_type": "code",
   "execution_count": null,
   "metadata": {},
   "outputs": [],
   "source": []
  },
  {
   "cell_type": "code",
   "execution_count": null,
   "metadata": {},
   "outputs": [],
   "source": []
  },
  {
   "cell_type": "code",
   "execution_count": null,
   "metadata": {},
   "outputs": [],
   "source": []
  },
  {
   "cell_type": "code",
   "execution_count": null,
   "metadata": {},
   "outputs": [],
   "source": []
  },
  {
   "cell_type": "code",
   "execution_count": null,
   "metadata": {},
   "outputs": [],
   "source": []
  }
 ],
 "metadata": {
  "kernelspec": {
   "display_name": "Python 3",
   "language": "python",
   "name": "python3"
  },
  "language_info": {
   "codemirror_mode": {
    "name": "ipython",
    "version": 3
   },
   "file_extension": ".py",
   "mimetype": "text/x-python",
   "name": "python",
   "nbconvert_exporter": "python",
   "pygments_lexer": "ipython3",
   "version": "3.8.10"
  }
 },
 "nbformat": 4,
 "nbformat_minor": 2
}

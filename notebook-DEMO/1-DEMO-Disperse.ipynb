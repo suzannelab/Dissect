{
 "cells": [
  {
   "cell_type": "markdown",
   "metadata": {},
   "source": [
    "# Introduction \n",
    "\n",
    "<span style=\"color:orange\"> As docker_disperse.tar is a file that can not be imported in git, for now send a message to request the file - looking for a solution </span>\n",
    "\n",
    "Here you can find an explanation of how to use [DisPerSE](http://www2.iap.fr/users/sousbie/web/html/indexd41d.html) with [Docker](https://www.docker.com/). Docker can be used in any OS and in \"computing server\". \n",
    "\n",
    "We provide a Docker image to run DisPerSE since this is not really simple to install. We plan to provide a complete installation of DisPerSE one day. \n",
    "\n",
    "First you have to install Docker according to your OS. \n",
    "Then open a terminal, place where the file docker_disperse.tar is. And run the command : \n",
    "```bash\n",
    "docker load < docker_disperse.tar\n",
    "```\n",
    "it will load the docker image and import the initial docker (continuumion/anaconda3 docker images) if needed. \n",
    "\n",
    "If you run `docker images` you can see that the image appears. "
   ]
  },
  {
   "cell_type": "markdown",
   "metadata": {},
   "source": [
    "# Launch docker_disperse image\n",
    "Create a directory where you will put all your images (we call it `dir_images` to simplify after). \n",
    "\n",
    "<span style=\"color:red\">[TO DO - add convertfile tif2fits in the docker ? ]</span>\n",
    "\n",
    "For now, we assume that you convert your image from tif to fits upstream. \n",
    "\n",
    "When we run the docker image, we will link the repository with your image with a repository inside the docker, to facilitate exchange. That means that all change make in the docker is seen in windows and vice versa. \n",
    "\n",
    "Open a terminal, and place at `dir_images`. Run this command to launch the docker image :\n",
    "``` bash\n",
    "docker run -it --name my_disperse_docker -v absolute/path/to/dir_image/:/home -t --privileged docker_disperse\n",
    "```\n",
    "<span style=\"color:red\">[TO DO - explain the command] </span>\n"
   ]
  },
  {
   "cell_type": "markdown",
   "metadata": {},
   "source": [
    "# Run DisPerSE\n",
    "\n",
    "Here we present the basic command that we use with the role of different parameter.\n",
    "\n",
    "Careful that DisPerse is greedy in ressources, and we will need a bigger/better machine soon. \n",
    "<span style=\"color:red\">[TO DO - ressource used according to image size] </span>\n",
    "\n",
    "``` bash\n",
    "mse image.fits -cut 500 -upSkl -periodicity 0\n",
    "```\n",
    "<span style=\"color:red\">[TO DO - explain the command]</span>\n",
    "\n",
    "The part which will take the longest time is the creation of MSE file. Once it will create, you can reuse it if you want to change the threshold. \n",
    "``` bash\n",
    "mse image.fits -loadMSC image.fits.MSC -cut 500 -upSkl -periodicity 0\n",
    "```\n",
    "\n",
    "To see the result you can use [Paraview](https://www.paraview.org/download/). In bash convert the result of the previous command in vtp file to see it in Paraview with \n",
    "``` bash\n",
    "skelconf file.NDskl -to vtp\n",
    "```\n",
    "\n",
    "To use it with python you need to convert the NDskl file to NDskl ascii file:\n",
    "``` bash\n",
    "skelconf file.NDskl -to NDskl_ascii\n",
    "```"
   ]
  },
  {
   "cell_type": "code",
   "execution_count": null,
   "metadata": {},
   "outputs": [],
   "source": []
  },
  {
   "cell_type": "code",
   "execution_count": null,
   "metadata": {},
   "outputs": [],
   "source": []
  }
 ],
 "metadata": {
  "kernelspec": {
   "display_name": "Python 3",
   "language": "python",
   "name": "python3"
  },
  "language_info": {
   "codemirror_mode": {
    "name": "ipython",
    "version": 3
   },
   "file_extension": ".py",
   "mimetype": "text/x-python",
   "name": "python",
   "nbconvert_exporter": "python",
   "pygments_lexer": "ipython3",
   "version": "3.8.10"
  }
 },
 "nbformat": 4,
 "nbformat_minor": 4
}

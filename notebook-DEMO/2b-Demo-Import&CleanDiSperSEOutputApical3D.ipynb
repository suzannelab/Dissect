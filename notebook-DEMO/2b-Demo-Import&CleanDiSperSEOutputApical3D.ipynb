{
 "cells": [
  {
   "cell_type": "markdown",
   "metadata": {},
   "source": [
    "In this section, we show how to analyse output of DisPerSE for apical 3D analysis. \n",
    "\n",
    "We assume that the dye used marked only apical (or basal) of cells/tissue. \n",
    "\n",
    "<span style=\"color:red\">[TO DO - add \"small\" file in example directory ]</span>"
   ]
  },
  {
   "cell_type": "code",
   "execution_count": null,
   "metadata": {},
   "outputs": [],
   "source": []
  },
  {
   "cell_type": "code",
   "execution_count": 18,
   "metadata": {},
   "outputs": [],
   "source": [
    "import os\n",
    "\n",
    "from Dissects.geometry import Skeleton\n",
    "from Dissects.io import (load_NDskl, \n",
    "                         load_skeleton,\n",
    "                         save_skeleton,\n",
    "                         save_vtp\n",
    "                        )"
   ]
  },
  {
   "cell_type": "markdown",
   "metadata": {},
   "source": [
    "# Load and create skeleton\n",
    "\n",
    "DisPerSE provides in output an [NDskl file](http://www2.iap.fr/users/sousbie/web/html/indexf83e.html?post/NDskl-format), which is a file format native from DisPerSE. \n",
    "\n",
    "The first step is to import your NDskl ascii file with `load_NDskl`. You have several informations :\n",
    "- specs : Dictionary of basic information such as dimention and size of image, number of filaments and critical points\n",
    "- cp    : DataFrame of criticals points\n",
    "- fil   : DataFrame of filaments with reference to connected critical point and number of pixel component the filament\n",
    "- point : DataFrame of point with position and reference to filament\n",
    "\n",
    "After loading the NDskl file, we can initiate the object Skeleton. "
   ]
  },
  {
   "cell_type": "code",
   "execution_count": 13,
   "metadata": {},
   "outputs": [],
   "source": [
    "directory='/media/admin-suz/Datas/testCellSeg/Test1/'\n",
    "cp, fil, point, specs = load_NDskl(os.path.join(directory,'im_bin4_3d.fits_c1e+03.up.NDskl.a.NDskl'))"
   ]
  },
  {
   "cell_type": "code",
   "execution_count": 15,
   "metadata": {},
   "outputs": [
    {
     "name": "stderr",
     "output_type": "stream",
     "text": [
      "/home/admin-suz/miniconda3/lib/python3.8/site-packages/Dissects-0.0.1-py3.8.egg/Dissects/geometry/skeleton.py:24: UserWarning: Has pixel can be half pixel from DisPerSE output,                   we take the integer part of xyz values. \n",
      "  warnings.warn(\"Has pixel can be half pixel from DisPerSE output, \\\n"
     ]
    }
   ],
   "source": [
    "# #create skeleton object\n",
    "skel = Skeleton(cp, fil, point, specs)"
   ]
  },
  {
   "cell_type": "markdown",
   "metadata": {},
   "source": [
    "# Clean skeleton\n",
    "\n",
    "If you have observed the result of DisPerSE as proposed in the notebook of DiSperSE, you note that is a certain number of unwanted filaments; which are free - meaning one side of the filament is not connected to an other filament. And there is also a certain of critical point which are connected to nothing. We will remove those isolated critical point and free filaments. \n",
    "\n",
    "Be aware that the method `remove_free_filament` can take some time since we used loop. "
   ]
  },
  {
   "cell_type": "code",
   "execution_count": 16,
   "metadata": {},
   "outputs": [
    {
     "name": "stderr",
     "output_type": "stream",
     "text": [
      "/home/admin-suz/miniconda3/lib/python3.8/site-packages/Dissects-0.0.1-py3.8.egg/Dissects/geometry/skeleton.py:60: UserWarning: specs dictionnary is not updated, ncrit value is not updated.\n",
      "  warnings.warn(\n"
     ]
    }
   ],
   "source": [
    "skel.remove_lonely_cp()\n",
    "skel.remove_free_filament()"
   ]
  },
  {
   "cell_type": "markdown",
   "metadata": {},
   "source": [
    "# Save skeleton\n",
    "You can save this clean skeleton in hf5 file format. Then we can reload this file to avoid running again `remove_free_filament` which take some time\n",
    "\n",
    "You can also save this skeleton in vtp to open it with ParaView, and compare with the unclean version."
   ]
  },
  {
   "cell_type": "code",
   "execution_count": 19,
   "metadata": {},
   "outputs": [],
   "source": [
    "save_skeleton(skel, \n",
    "              filename='clean_skeleton.hf5', \n",
    "              path=directory)\n",
    "\n",
    "save_vtp(skel,\n",
    "         filename='clean_skeleton.vtp', \n",
    "         path=directory)"
   ]
  },
  {
   "cell_type": "code",
   "execution_count": null,
   "metadata": {},
   "outputs": [],
   "source": []
  }
 ],
 "metadata": {
  "kernelspec": {
   "display_name": "Python 3",
   "language": "python",
   "name": "python3"
  },
  "language_info": {
   "codemirror_mode": {
    "name": "ipython",
    "version": 3
   },
   "file_extension": ".py",
   "mimetype": "text/x-python",
   "name": "python",
   "nbconvert_exporter": "python",
   "pygments_lexer": "ipython3",
   "version": "3.8.8"
  }
 },
 "nbformat": 4,
 "nbformat_minor": 4
}
